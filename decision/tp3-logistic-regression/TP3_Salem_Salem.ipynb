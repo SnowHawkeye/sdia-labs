{
  "cells": [
    {
      "attachments": {},
      "cell_type": "markdown",
      "metadata": {},
      "source": [
        "## TP3 : Logistic regression\n",
        "\n",
        "The purpose of this tutorial is to implement and use the Logistic Regression for binary classification. We will apply this\n",
        "method to the problem of handwritten characters to learn how to\n",
        "distinguish two numbers (here 5 and 6)."
      ]
    },
    {
      "attachments": {},
      "cell_type": "markdown",
      "metadata": {},
      "source": [
        "___________________________________________________________________________________________\n",
        "\n",
        "# Questions à poser\n",
        "- Est-ce qu'il est pertinent d'utiliser la cross-validation. Si oui, faut-il réunir train/test ou juste utiliser train?\n",
        "    - Oui. Il faut réunir les données mais on peut en garder de côté pour une validation.\n",
        "- Y a-t-il intérêt à normaliser les données?\n",
        "    - Pertinent seulement s'il y a de grands écarts. Nécessaire pour sklearn.\n",
        "- Faut-il optimiser le seuil de décision (0.5)?\n",
        "    - Eventuellement (0.4-0.6 dizaine)\n",
        "- Comment afficher la frontière de décision pour LDA?\n",
        "    - plt.contour/contourf \n",
        "    - X, Y = meshgrid(x, y) où x, y sont des arange/linspace\n",
        "    - f(X, Y) pour donner les valeurs (utiliser np.ravel pour vectoriser les matrices)\n",
        "\n",
        "___________________________________________________________________________________________\n",
        "\n",
        "# TODO\n",
        "- Regarder si les classes sont déséquilibrées et l'influence que cela a sur le taux d'erreur\n",
        "- Commentaires"
      ]
    },
    {
      "cell_type": "code",
      "execution_count": 69,
      "metadata": {},
      "outputs": [],
      "source": [
        "from pylab import *\n",
        "#import numpy as np\n",
        "#import matplotlib.pyplot as plt\n",
        "from numpy import linalg as la \n",
        "import sklearn as skl\n",
        "import seaborn as sns"
      ]
    },
    {
      "attachments": {},
      "cell_type": "markdown",
      "metadata": {},
      "source": [
        "## 1. Logistic regression, IRLS algorithm."
      ]
    },
    {
      "attachments": {},
      "cell_type": "markdown",
      "metadata": {},
      "source": [
        "### Preliminary question: the algorithm"
      ]
    },
    {
      "attachments": {},
      "cell_type": "markdown",
      "metadata": {},
      "source": [
        "#### Have a look at the function `regression_logistique.m` and locate the main steps of the algorithm you have been taught (see course).\n",
        "You can comment the code in the cell below."
      ]
    },
    {
      "cell_type": "code",
      "execution_count": 60,
      "metadata": {},
      "outputs": [],
      "source": [
        "def regression_logistique(X,t,Nitermax=20,eps_conv=1e-3):\n",
        "    '''Entrees :\n",
        "    X = [ones(N_train,1) x_train];\n",
        "    t = class_train \n",
        "    Nitermax = nombre maximale d'itérations (20 par défaut)\n",
        "    eps_conv = critère de convergence sur norm(w-w_old)/norm(w) ; \n",
        "    eps_conv=1e-3 par défaut\n",
        "    \n",
        "    Sorties : \n",
        "    w : vecteur des coefficients de régression logistique\n",
        "    Niter : nombre d'itérations utilisées effectivement\n",
        "   \n",
        "   Fonction de régression logistique pour la classification binaire.\n",
        "   \n",
        "   Utilisation :\n",
        "       Nitermax = 50\n",
        "       eps_conv = 1e-4\n",
        "       [w,Niter] = regression_logistique(X,t,Nitermax,eps_conv)\n",
        "    '''\n",
        "    N_train = X.shape[0]\n",
        "\n",
        "    #initialisation : 1 pas de l'algorithme IRLS\n",
        "    w = np.zeros((X.shape[1],)) # w initialisé comme vecteur nul de dimension le nombre d'attributs\n",
        "    w_old = w \n",
        "    y = 1/2*np.ones((N_train,)) # on initialise l'activation (\"w.x\") à 0, y = sgm(wx) vaut alors 0.5\n",
        "    R = np.diag(y*(1-y))   # diag(y_n(1-y_n))\n",
        "    z = X.dot(w_old)-la.inv(R).dot(y-t) # initialisation de z (old)\n",
        "    w = la.inv(X.T.dot(R).dot(X)).dot(X.T).dot(R).dot(z) # calcul de w pour la première étape avec les valeurs initialisées\n",
        "\n",
        "    # boucle appliquant l'algorithme de Newton-Raphson\n",
        "    Niter = 1 # on a déjà fait \"l'itération 1\"\n",
        "    while  (la.norm(w-w_old)/la.norm(w)>eps_conv) & (Niter<Nitermax) : # condition d'arrêt: soit w et w_old sont suffisamment proches, soit on atteint un nombre maximum d'itérations\n",
        "        Niter = Niter+1\n",
        "        y = 1/(1+np.exp(-X.dot(w))) # on calcule y avec la fonction sigma\n",
        "        R = np.diag(y*(1-y)) # par définition de R\n",
        "        # on calcule ensuite z et w avec les formules données par la méthode de Newton-Raphson\n",
        "        w_old = w \n",
        "        z = X.dot(w_old)-la.inv(R).dot(y-t)\n",
        "        w = la.inv(X.T.dot(R).dot(X)).dot(X.T).dot(R).dot(z)\n",
        "         \n",
        "    return w, Niter"
      ]
    },
    {
      "attachments": {},
      "cell_type": "markdown",
      "metadata": {},
      "source": [
        "### Reading & preparing synthetic data\n",
        "\n",
        "Load the training and test data sets `synth_train.txt`\n",
        "and `synth_test.txt`. The targets t belong to {1,2} and the features  \n",
        "x belong to R^2. \n",
        "\n",
        "We have 100 training samples and 200 test samples\n",
        "\n",
        "* the 1st column contains the label of each sample, \n",
        "* columns 2 and 3 contain the coordinate of each point."
      ]
    },
    {
      "cell_type": "code",
      "execution_count": 61,
      "metadata": {},
      "outputs": [],
      "source": [
        "# Training set\n",
        "synth_train = np.loadtxt('synth_train.txt') \n",
        "class_train = synth_train[:,0]\n",
        "class_train_1 = np.where(synth_train[:,0]==1)[0]\n",
        "class_train_2 = np.where(synth_train[:,0]==2)[0]\n",
        "x_train = synth_train[:,1:]\n",
        "N_train = np.size(x_train,axis=0)\n",
        "\n",
        "# Test set\n",
        "synth_test = np.loadtxt('synth_test.txt')\n",
        "class_test = synth_test[:,0]\n",
        "class_test_1 = np.where(synth_test[:,0]==1)[0]\n",
        "class_test_2 = np.where(synth_test[:,0]==2)[0]\n",
        "x_test = synth_test[:,1:]\n",
        "N_test = np.size(x_test,axis=0)"
      ]
    },
    {
      "attachments": {},
      "cell_type": "markdown",
      "metadata": {},
      "source": [
        "### Preparing features for logistic regression (binary classification)\n",
        "First, we prepare the feature matrix and the target vector associated to \n",
        "the training and test sets:"
      ]
    },
    {
      "cell_type": "code",
      "execution_count": 5,
      "metadata": {},
      "outputs": [],
      "source": [
        "X = np.hstack((np.ones((N_train,1)),x_train))\n",
        "t = 2-class_train   # 0 if class=2, 1 if class=1\n",
        "\n",
        "X_test = np.hstack((np.ones((N_test,1)),x_test))\n",
        "t_test = 2-class_test   # 0 if class=2, 1 if class=1"
      ]
    },
    {
      "attachments": {},
      "cell_type": "markdown",
      "metadata": {},
      "source": [
        "### Exercise 1 : the logistic function of decision\n",
        "\n",
        "1. Use the function `regression_logistique.m` to estimate the logistic\n",
        "regression vector `w`. *Indication : use `Nitermax = 50;\n",
        "eps_conv=1e-3;`.*\n",
        "2. Compute the decision function $f(x) = argmax_k P(C_k|x)$ on the test set\n",
        "to get the classification results. Recall that $y_n=\\sigma(w^T x)$ (logistic function)\n",
        "and that *using vectors* you may directly write $y=\\sigma(Xw)$, with the\n",
        "column of ones in X.\n",
        "3. Display the results by plotting the points from both the training set\n",
        "and the test set.\n",
        "4. Write the equation which defines the decision boundary.\n",
        "5. Artificially add a few points to the training set far from the decision boundary to check the robustness of logistic regression to outliers. Check the behaviour of LDA for comparison in this case and comment. "
      ]
    },
    {
      "cell_type": "markdown",
      "metadata": {},
      "source": [
        "### Q1: Estimate the logistic regression vector"
      ]
    },
    {
      "cell_type": "code",
      "execution_count": 100,
      "metadata": {},
      "outputs": [
        {
          "name": "stdout",
          "output_type": "stream",
          "text": [
            "The regression vector is [-15.206658    -7.91866363   6.56243114] and was found in 9 iterations.\n"
          ]
        }
      ],
      "source": [
        "w, Niter = regression_logistique(X, t, Nitermax=50)\n",
        "print(f\"The regression vector is {w} and was found in {Niter} iterations.\")"
      ]
    },
    {
      "cell_type": "markdown",
      "metadata": {},
      "source": [
        "### Q2: Compute the decision function\n"
      ]
    },
    {
      "cell_type": "code",
      "execution_count": 110,
      "metadata": {},
      "outputs": [],
      "source": [
        "def sigma(a): return 1/(1+np.exp(-a)) # sigmoid function\n",
        "threshold = 0.5 # we fix the decision threshold at 0.5. We could consider having it vary to improve the prediction.\n",
        "\n",
        "def predict(train, target, test):\n",
        "    coefs, _ = regression_logistique(train, target, Nitermax=50)\n",
        "    pred = sigma(test.dot(coefs))\n",
        "    return np.where(pred >= threshold, 1, 0)\n",
        "\n",
        "y = predict(X, t, X_test)"
      ]
    },
    {
      "cell_type": "markdown",
      "metadata": {},
      "source": [
        "### Q3: Display results"
      ]
    },
    {
      "cell_type": "code",
      "execution_count": null,
      "metadata": {},
      "outputs": [],
      "source": [
        "\n",
        "    "
      ]
    },
    {
      "cell_type": "code",
      "execution_count": 111,
      "metadata": {},
      "outputs": [],
      "source": [
        "def errors(data, target, prediction):\n",
        "    \"\"\"Returns the points that were classified wrongly and the error rate.\n",
        "    \"\"\"\n",
        "    \n",
        "    is_wrong_prediction = np.logical_or(np.logical_and(prediction[:] == 1, target[:] == 0), np.logical_and(prediction[:] == 0, target[:] == 1))\n",
        "    errors = data[is_wrong_prediction, :][:,1:]\n",
        "    error_rate = len(errors) / len(data)\n",
        "    \n",
        "    return errors, error_rate"
      ]
    },
    {
      "cell_type": "code",
      "execution_count": 112,
      "metadata": {},
      "outputs": [],
      "source": [
        "def predicted_points_figure(data, target, prediction, title):\n",
        "    \"\"\"Given a set of points and binary predictions (0-1), returns a graph showing the classification, crossing out the mistakes.\n",
        "    \"\"\"\n",
        "    \n",
        "    x_predicted_0 = data[prediction[:] == 0, :][:,1:]\n",
        "    x_predicted_1 = data[prediction[:] == 1, :][:,1:]\n",
        "    \n",
        "    x_wrong, error_rate = errors(data, target, prediction)\n",
        "\n",
        "    plt.scatter(x_predicted_0[:,0], x_predicted_0[:,1], c='r')\n",
        "    plt.scatter(x_predicted_1[:,0], x_predicted_1[:,1], c='g')\n",
        "    plt.scatter(x_wrong[:,0], x_wrong[:,1], c='b', marker = 'x')\n",
        "    plt.title(title + \"\\n(mistakes are crossed out in blue)\")\n",
        "    \n",
        "    print(\"Error rate: \" + str(100 * error_rate) + \" %\")"
      ]
    },
    {
      "cell_type": "code",
      "execution_count": 113,
      "metadata": {},
      "outputs": [],
      "source": [
        "def decision_regions_figure(train, target, f_predict, resolution):\n",
        "\n",
        "    x1 = np.linspace(-2.5, 1.5, resolution) \n",
        "    x2 = np.linspace(-1, 5, resolution) \n",
        "    X1, X2 = meshgrid(x1,x2)\n",
        "    \n",
        "    X = np.stack((np.ones(resolution**2), np.ravel(X1), np.ravel(X2))).T\n",
        "    Z = f_predict(train, target, X).reshape(X1.shape)\n",
        "\n",
        "    plt.contourf(X1, X2, Z, colors=['r', 'g', 'b', \"y\", 'purple'], alpha = 0.3) # extra colors are necessary otherwise everything is green and the boundary is red"
      ]
    },
    {
      "cell_type": "code",
      "execution_count": 114,
      "metadata": {},
      "outputs": [],
      "source": [
        "def confusion_matrix_heatmap(true, prediction):\n",
        "    mat = skl.metrics.confusion_matrix(true, prediction)\n",
        "    sns.heatmap(mat, annot=True, fmt='d')"
      ]
    },
    {
      "cell_type": "code",
      "execution_count": 117,
      "metadata": {},
      "outputs": [],
      "source": [
        "def display_prediction(train_data, train_target, test_data, test_target, f_predict):\n",
        "    prediction = predict(train_data, train_target, test_data)\n",
        "\n",
        "    plt.figure(figsize=(20,5))\n",
        "\n",
        "    plt.subplot(121)\n",
        "    decision_regions_figure(train_data, train_target, f_predict, resolution = 100)\n",
        "    predicted_points_figure(test_data, test_target, prediction, \"Classification\")\n",
        "\n",
        "    plt.subplot(122)\n",
        "    plt.title(\"Confusion matrix\")\n",
        "    confusion_matrix_heatmap(t_test, y)"
      ]
    },
    {
      "cell_type": "code",
      "execution_count": 118,
      "metadata": {},
      "outputs": [
        {
          "name": "stdout",
          "output_type": "stream",
          "text": [
            "Error rate: 6.0 %\n"
          ]
        },
        {
          "data": {
            "image/png": "[encoded data removed]",
            "text/plain": [
              "<Figure size 1440x360 with 3 Axes>"
            ]
          },
          "metadata": {
            "needs_background": "light"
          },
          "output_type": "display_data"
        }
      ],
      "source": [
        "display_prediction(X, t, X_test, t_test, predict)"
      ]
    },
    {
      "cell_type": "code",
      "execution_count": 9,
      "metadata": {},
      "outputs": [
        {
          "name": "stdout",
          "output_type": "stream",
          "text": [
            "Error rate: 3.0 %\n"
          ]
        },
        {
          "data": {
            "image/png": "[encoded data removed]",
            "text/plain": [
              "<Figure size 432x288 with 1 Axes>"
            ]
          },
          "metadata": {
            "needs_background": "light"
          },
          "output_type": "display_data"
        }
      ],
      "source": [
        "# Train set\n",
        "y_train = sigma(X.dot(w))\n",
        "prediction_train = np.where(y_train >= threshold, 1, 0)\n",
        "display_prediction(X, t, prediction_train, w, \"Prediction on train set\")"
      ]
    },
    {
      "cell_type": "markdown",
      "metadata": {},
      "source": [
        "## Q4: Equation of the decision boundary\n",
        "    \n",
        "x1 = np.linspace(-2.5,1.5,10) \n",
        "x2 = (-w[0]-w[1]*x1)/w[2] # for a given x1, this formula gives x2 such that the activation is zero (meaning that (x1,x2) is on the decision boundary)\n",
        "plt.plot(x1,x2,'k--')\n",
        "\n",
        "The decision boundary corresponds to the $(x1,x2)$ couples such that $\\sigma(w^T x) = 0$. In other words:  $w_0 + w_1 x_1 + w_2 x_2 = 0 $."
      ]
    },
    {
      "cell_type": "code",
      "execution_count": 10,
      "metadata": {},
      "outputs": [
        {
          "name": "stdout",
          "output_type": "stream",
          "text": [
            "Error rate: 6.0 %\n"
          ]
        },
        {
          "data": {
            "image/png": "[encoded data removed]",
            "text/plain": [
              "<Figure size 432x288 with 1 Axes>"
            ]
          },
          "metadata": {
            "needs_background": "light"
          },
          "output_type": "display_data"
        }
      ],
      "source": [
        "# Q5: Add a few points away from the decision boundary\n",
        "\n",
        "nb_points = 10\n",
        "outliers = np.stack([np.ones(nb_points), np.linspace(3,4,nb_points), np.linspace(-1,0,nb_points)]).T # generate 10 points far from the decision boundary\n",
        "\n",
        "X_outliers = np.vstack([X, outliers])\n",
        "t_outliers = np.hstack([t, np.zeros(nb_points)]) # all added points are in class 0\n",
        "\n",
        "# With logistic regression\n",
        "w_outliers, Niter = regression_logistique(X_outliers, t_outliers, Nitermax=50)\n",
        "y_outliers = sigma(X_test.dot(w_outliers))\n",
        "prediction_outliers = np.where(y_outliers >= threshold, 1, 0)\n",
        "display_prediction(X_test, t_test, prediction_outliers, w_outliers, \"Prediction on test set with outliers (logistic regression)\")\n"
      ]
    },
    {
      "cell_type": "code",
      "execution_count": 11,
      "metadata": {},
      "outputs": [
        {
          "name": "stdout",
          "output_type": "stream",
          "text": [
            "[[ 0.         -0.88984931  1.32428021]]\n",
            "Error rate: 11.5 %\n"
          ]
        },
        {
          "data": {
            "image/png": "[encoded data removed]",
            "text/plain": [
              "<Figure size 432x288 with 1 Axes>"
            ]
          },
          "metadata": {
            "needs_background": "light"
          },
          "output_type": "display_data"
        }
      ],
      "source": [
        "# With LDA\n",
        "from sklearn.discriminant_analysis import LinearDiscriminantAnalysis\n",
        "\n",
        "lda = LinearDiscriminantAnalysis()\n",
        "lda.fit(X_outliers, t_outliers)\n",
        "prediction_lda = lda.predict(X_test) \n",
        "\n",
        "print(lda.coef_)\n",
        "\n",
        "plt.scatter(outliers[:,1], outliers[:,2], c='orange')\n",
        "display_prediction(X_test, t_test, prediction_lda, lda.coef_[0],\n",
        "                   \"Prediction on test set with outliers (LDA)\", \n",
        "                   [\"Outliers\",\"Class 0\", \"Class 1\", \"Mistakes\"])"
      ]
    },
    {
      "attachments": {},
      "cell_type": "markdown",
      "metadata": {},
      "source": [
        "## 2. Application: handwritten digits recognition 5 & 6\n",
        "We load 2 matrices which contain each a sequence of examples of 16x16 images \n",
        "of handwritten digits which are 5 and 6 here. Each line of the matrix\n",
        "contains 256 pixel values coding for the gray level of a 16x16 image."
      ]
    },
    {
      "cell_type": "code",
      "execution_count": 12,
      "metadata": {},
      "outputs": [],
      "source": [
        "train_5 = np.loadtxt('train_5.txt',delimiter=',')   # 556 samples\n",
        "train_6 = np.loadtxt('train_6.txt',delimiter=',')   # 664 samples"
      ]
    },
    {
      "attachments": {},
      "cell_type": "markdown",
      "metadata": {},
      "source": [
        "### Examples of images"
      ]
    },
    {
      "cell_type": "code",
      "execution_count": 13,
      "metadata": {},
      "outputs": [
        {
          "data": {
            "image/png": "[encoded data removed]",
            "text/plain": [
              "<Figure size 432x288 with 1 Axes>"
            ]
          },
          "metadata": {
            "needs_background": "light"
          },
          "output_type": "display_data"
        }
      ],
      "source": [
        "# Digit 5\n",
        "n=9\n",
        "I = np.reshape(train_5[n,:],(16,16))\n",
        "\n",
        "plt.imshow(I,cmap='gray')\n",
        "plt.show()"
      ]
    },
    {
      "cell_type": "code",
      "execution_count": 14,
      "metadata": {},
      "outputs": [
        {
          "data": {
            "image/png": "[encoded data removed]",
            "text/plain": [
              "<Figure size 432x288 with 1 Axes>"
            ]
          },
          "metadata": {
            "needs_background": "light"
          },
          "output_type": "display_data"
        }
      ],
      "source": [
        "# Digit 6\n",
        "n=5;\n",
        "I = reshape(train_6[n,:],(16,16))\n",
        "\n",
        "plt.imshow(I,cmap='gray')\n",
        "plt.show()"
      ]
    },
    {
      "attachments": {},
      "cell_type": "markdown",
      "metadata": {},
      "source": [
        "### Separating the training and test sets\n",
        "\n",
        "We keep in the training set the 145 first images of 5s and the 200 first\n",
        "images of 6s:"
      ]
    },
    {
      "cell_type": "code",
      "execution_count": 15,
      "metadata": {},
      "outputs": [],
      "source": [
        "x_train_brut = np.vstack((train_5[:145,:], train_6[:200,:]))\n",
        "N_train = np.size(x_train_brut,axis=0)\n",
        "class_train = np.ones((345,1))   # label 1 for digit 6\n",
        "class_train[:145] = 0       # label 0 for digit 5\n",
        "\n",
        "x_test_brut = np.vstack((train_5[145:,:], train_6[200:,:]))\n",
        "N_test = np.size(train_5,axis=0)+np.size(train_6,axis=0)-N_train"
      ]
    },
    {
      "attachments": {},
      "cell_type": "markdown",
      "metadata": {},
      "source": [
        "## Exercise 2: logistic regression to classify 5 & 6\n",
        "\n",
        "1. Note that pixel values are between -1 and 1 by using the functions\n",
        " `min(I(:))` and `max(I(:))`.\n",
        "2. Identify the indices of the most significant pixels, which are defined \n",
        "as having a standard deviation greater than 0.5 here. We denote by `lis_sig`\n",
        "the list of positions of these significant pixels in the image vector.\n",
        "_Indication : the function `std` gives the standard deviation (columnwise\n",
        "in matrices) and you should find 173 pixel positions.\n",
        "3. Show a binary image to locate these pixels.\n",
        "_Indication : `Isig = zeros(16); Isig(list_sig)=1; Isig=Isig';`._\n",
        "4. Define the training set `x_train` from `x_train_brut` from the significant pixels only.\n",
        "5. Do the same with `x_test_brut` to extract `x_test`.\n",
        "6. Use `regression_logistique.m` to estimate the logistic regression vector\n",
        "`w` from the training set `x_train`. \n",
        "Choose `Nitermax = 13; eps_conv = 1e-3;`\n",
        "7. Compute the decision function and the labels of the test set `x_test`. \n",
        "_Indication : do not forget the column of ones !_\n",
        "8. Estimate the classification error rate by using :\n",
        "`erreur = sum(abs(class-class_test))/N_test;`.\n",
        "9. Locate some misclassified examples and visualize the corresponding image.\n",
        "Comment on your results and observations."
      ]
    },
    {
      "cell_type": "code",
      "execution_count": 16,
      "metadata": {},
      "outputs": [
        {
          "name": "stdout",
          "output_type": "stream",
          "text": [
            "The minimum pixel value is: -1.0\n",
            "The maximum pixel value is: 1.0\n"
          ]
        }
      ],
      "source": [
        "# Question 1\n",
        "print(f\"The minimum pixel value is: {np.min(I[:])}\")\n",
        "print(f\"The maximum pixel value is: {np.max(I[:])}\")"
      ]
    },
    {
      "cell_type": "code",
      "execution_count": 17,
      "metadata": {},
      "outputs": [],
      "source": [
        "# Question 2"
      ]
    },
    {
      "attachments": {},
      "cell_type": "markdown",
      "metadata": {},
      "source": [
        "## 3. Logistic regression using `scikit-learn`"
      ]
    },
    {
      "attachments": {},
      "cell_type": "markdown",
      "metadata": {},
      "source": [
        "1. **Go to** http://scikit-learn.org/stable/modules/generated/sklearn.linear_model.LogisticRegression.html for a presentation of the logistic regression model in `scikit-learn`.\n",
        "\n",
        "2. **Apply** it to the present data set.\n",
        "\n",
        "3. **Comment** on the use of logistic regression.\n",
        "\n",
        "*Indication : you may have a look at* \n",
        "\n",
        "a) Theory : http://openclassroom.stanford.edu/MainFolder/DocumentPage.php?course=MachineLearning&doc=exercises/ex5/ex5.html\n",
        "\n",
        "b) Video :  https://www.coursera.org/learn/machine-learning/lecture/4BHEy/regularized-logistic-regression \n",
        "\n",
        "c) Example : http://scikit-learn.org/stable/auto_examples/exercises/plot_digits_classification_exercise.html#sphx-glr-auto-examples-exercises-plot-digits-classification-exercise-py\n",
        "\n",
        "*for a short presentation of regularized logistic regression.*"
      ]
    },
    {
      "cell_type": "code",
      "execution_count": 18,
      "metadata": {},
      "outputs": [],
      "source": [
        "# Include your code here\n",
        "from sklearn.linear_model import LogisticRegression\n",
        "# ..."
      ]
    },
    {
      "attachments": {},
      "cell_type": "markdown",
      "metadata": {},
      "source": [
        "Commentaires :"
      ]
    },
    {
      "attachments": {},
      "cell_type": "markdown",
      "metadata": {},
      "source": []
    }
  ],
  "metadata": {
    "interpreter": {
      "hash": "eddbe03df7610b6ab8092acf41ddda77de6230c42b3d7be1a47827e0e54e49a3"
    },
    "kernelspec": {
      "display_name": "Python 3.8.11 64-bit ('sdia-decision': conda)",
      "language": "python",
      "name": "python3"
    },
    "language_info": {
      "codemirror_mode": {
        "name": "ipython",
        "version": 3
      },
      "file_extension": ".py",
      "mimetype": "text/x-python",
      "name": "python",
      "nbconvert_exporter": "python",
      "pygments_lexer": "ipython3",
      "version": "3.8.11"
    }
  },
  "nbformat": 4,
  "nbformat_minor": 0
}
