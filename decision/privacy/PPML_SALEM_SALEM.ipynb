{
  "cells": [
    {
      "attachments": {},
      "cell_type": "markdown",
      "metadata": {
        "datalore": {
          "sheet_delimiter": false,
          "type": "MD"
        },
        "jupyter": {
          "outputs_hidden": false,
          "source_hidden": false
        }
      },
      "source": [
        "# Introduction to Privacy Preserving Machine Learning\n",
        "\n",
        "Course taught by Aurélien Bellet"
      ]
    },
    {
      "attachments": {},
      "cell_type": "markdown",
      "metadata": {
        "datalore": {
          "sheet_delimiter": false,
          "type": "MD"
        },
        "jupyter": {
          "outputs_hidden": false,
          "source_hidden": false
        }
      },
      "source": [
        "# Lab session: Gaussian mechanism and Differentially Private SGD"
      ]
    },
    {
      "cell_type": "code",
      "execution_count": 1,
      "metadata": {
        "datalore": {
          "sheet_delimiter": false,
          "type": "CODE"
        },
        "jupyter": {
          "outputs_hidden": false,
          "source_hidden": false
        }
      },
      "outputs": [],
      "source": [
        "import numpy as np\n",
        "import pandas as pd\n",
        "import scipy as sp\n",
        "import matplotlib.pyplot as plt\n",
        "from sklearn.datasets import fetch_openml  # need sklearn >= 0.22\n",
        "from sklearn.model_selection import train_test_split\n",
        "from sklearn.preprocessing import StandardScaler, Normalizer\n",
        "from sklearn.linear_model import LogisticRegression\n",
        "from sklearn.preprocessing import LabelBinarizer"
      ]
    },
    {
      "attachments": {},
      "cell_type": "markdown",
      "metadata": {
        "datalore": {
          "sheet_delimiter": false,
          "type": "MD"
        },
        "jupyter": {
          "outputs_hidden": false,
          "source_hidden": false
        }
      },
      "source": [
        "### Elève 1 : Emilie SALEM\n",
        "### Elève 2 : Hadrien SALEM"
      ]
    },
    {
      "attachments": {},
      "cell_type": "markdown",
      "metadata": {
        "datalore": {
          "sheet_delimiter": false,
          "type": "MD"
        },
        "jupyter": {
          "outputs_hidden": false,
          "source_hidden": false
        }
      },
      "source": [
        "## Part 1: Gaussian mechanism on simple numeric queries"
      ]
    },
    {
      "attachments": {},
      "cell_type": "markdown",
      "metadata": {
        "datalore": {
          "sheet_delimiter": false,
          "type": "MD"
        },
        "jupyter": {
          "outputs_hidden": false,
          "source_hidden": false
        }
      },
      "source": [
        "In this first part, we will implement the Gaussian mechanism and experiment with simple numeric queries."
      ]
    },
    {
      "attachments": {},
      "cell_type": "markdown",
      "metadata": {
        "datalore": {
          "sheet_delimiter": false,
          "type": "MD"
        },
        "jupyter": {
          "outputs_hidden": false,
          "source_hidden": false
        }
      },
      "source": [
        "### Dataset"
      ]
    },
    {
      "attachments": {},
      "cell_type": "markdown",
      "metadata": {
        "datalore": {
          "sheet_delimiter": false,
          "type": "MD"
        },
        "jupyter": {
          "outputs_hidden": false,
          "source_hidden": false
        }
      },
      "source": [
        "We will be working with a dataset from the US Census (also known as the Adult dataset). You can read about the dataset [here](https://archive.ics.uci.edu/ml/datasets/census+income).\n",
        "\n",
        "The following line loads the dataset from [OpenML](https://www.openml.org/) with the `fetch_openml` method of `sklearn`. The option `as_frame=True` (**requires sklearn version >= 0.22**) loads the dataset in `pandas DataFrame` format: this keeps the attributes in their original form and will be more convenient to work with."
      ]
    },
    {
      "cell_type": "code",
      "execution_count": 2,
      "metadata": {
        "datalore": {
          "sheet_delimiter": false,
          "type": "CODE"
        },
        "jupyter": {
          "outputs_hidden": false,
          "source_hidden": false
        }
      },
      "outputs": [],
      "source": [
        "dataset_handle = fetch_openml(name='adult', version=2, as_frame=True)\n",
        "dataset = dataset_handle.frame"
      ]
    },
    {
      "attachments": {},
      "cell_type": "markdown",
      "metadata": {
        "datalore": {
          "sheet_delimiter": false,
          "type": "MD"
        },
        "jupyter": {
          "outputs_hidden": false,
          "source_hidden": false
        }
      },
      "source": [
        "Take a look at the dataset, in particular the number of rows (individuals), the number of columns (attributes) and what they represent."
      ]
    },
    {
      "cell_type": "code",
      "execution_count": 3,
      "metadata": {
        "datalore": {
          "sheet_delimiter": false,
          "type": "CODE"
        },
        "jupyter": {
          "outputs_hidden": false,
          "source_hidden": false
        }
      },
      "outputs": [
        {
          "name": "stdout",
          "output_type": "stream",
          "text": [
            "48842 15\n"
          ]
        },
        {
          "data": {
            "text/html": [
              "<div>\n",
              "<style scoped>\n",
              "    .dataframe tbody tr th:only-of-type {\n",
              "        vertical-align: middle;\n",
              "    }\n",
              "\n",
              "    .dataframe tbody tr th {\n",
              "        vertical-align: top;\n",
              "    }\n",
              "\n",
              "    .dataframe thead th {\n",
              "        text-align: right;\n",
              "    }\n",
              "</style>\n",
              "<table border=\"1\" class=\"dataframe\">\n",
              "  <thead>\n",
              "    <tr style=\"text-align: right;\">\n",
              "      <th></th>\n",
              "      <th>age</th>\n",
              "      <th>workclass</th>\n",
              "      <th>fnlwgt</th>\n",
              "      <th>education</th>\n",
              "      <th>education-num</th>\n",
              "      <th>marital-status</th>\n",
              "      <th>occupation</th>\n",
              "      <th>relationship</th>\n",
              "      <th>race</th>\n",
              "      <th>sex</th>\n",
              "      <th>capital-gain</th>\n",
              "      <th>capital-loss</th>\n",
              "      <th>hours-per-week</th>\n",
              "      <th>native-country</th>\n",
              "      <th>class</th>\n",
              "    </tr>\n",
              "  </thead>\n",
              "  <tbody>\n",
              "    <tr>\n",
              "      <th>0</th>\n",
              "      <td>25.0</td>\n",
              "      <td>Private</td>\n",
              "      <td>226802.0</td>\n",
              "      <td>11th</td>\n",
              "      <td>7.0</td>\n",
              "      <td>Never-married</td>\n",
              "      <td>Machine-op-inspct</td>\n",
              "      <td>Own-child</td>\n",
              "      <td>Black</td>\n",
              "      <td>Male</td>\n",
              "      <td>0.0</td>\n",
              "      <td>0.0</td>\n",
              "      <td>40.0</td>\n",
              "      <td>United-States</td>\n",
              "      <td>&lt;=50K</td>\n",
              "    </tr>\n",
              "    <tr>\n",
              "      <th>1</th>\n",
              "      <td>38.0</td>\n",
              "      <td>Private</td>\n",
              "      <td>89814.0</td>\n",
              "      <td>HS-grad</td>\n",
              "      <td>9.0</td>\n",
              "      <td>Married-civ-spouse</td>\n",
              "      <td>Farming-fishing</td>\n",
              "      <td>Husband</td>\n",
              "      <td>White</td>\n",
              "      <td>Male</td>\n",
              "      <td>0.0</td>\n",
              "      <td>0.0</td>\n",
              "      <td>50.0</td>\n",
              "      <td>United-States</td>\n",
              "      <td>&lt;=50K</td>\n",
              "    </tr>\n",
              "    <tr>\n",
              "      <th>2</th>\n",
              "      <td>28.0</td>\n",
              "      <td>Local-gov</td>\n",
              "      <td>336951.0</td>\n",
              "      <td>Assoc-acdm</td>\n",
              "      <td>12.0</td>\n",
              "      <td>Married-civ-spouse</td>\n",
              "      <td>Protective-serv</td>\n",
              "      <td>Husband</td>\n",
              "      <td>White</td>\n",
              "      <td>Male</td>\n",
              "      <td>0.0</td>\n",
              "      <td>0.0</td>\n",
              "      <td>40.0</td>\n",
              "      <td>United-States</td>\n",
              "      <td>&gt;50K</td>\n",
              "    </tr>\n",
              "    <tr>\n",
              "      <th>3</th>\n",
              "      <td>44.0</td>\n",
              "      <td>Private</td>\n",
              "      <td>160323.0</td>\n",
              "      <td>Some-college</td>\n",
              "      <td>10.0</td>\n",
              "      <td>Married-civ-spouse</td>\n",
              "      <td>Machine-op-inspct</td>\n",
              "      <td>Husband</td>\n",
              "      <td>Black</td>\n",
              "      <td>Male</td>\n",
              "      <td>7688.0</td>\n",
              "      <td>0.0</td>\n",
              "      <td>40.0</td>\n",
              "      <td>United-States</td>\n",
              "      <td>&gt;50K</td>\n",
              "    </tr>\n",
              "    <tr>\n",
              "      <th>4</th>\n",
              "      <td>18.0</td>\n",
              "      <td>NaN</td>\n",
              "      <td>103497.0</td>\n",
              "      <td>Some-college</td>\n",
              "      <td>10.0</td>\n",
              "      <td>Never-married</td>\n",
              "      <td>NaN</td>\n",
              "      <td>Own-child</td>\n",
              "      <td>White</td>\n",
              "      <td>Female</td>\n",
              "      <td>0.0</td>\n",
              "      <td>0.0</td>\n",
              "      <td>30.0</td>\n",
              "      <td>United-States</td>\n",
              "      <td>&lt;=50K</td>\n",
              "    </tr>\n",
              "    <tr>\n",
              "      <th>5</th>\n",
              "      <td>34.0</td>\n",
              "      <td>Private</td>\n",
              "      <td>198693.0</td>\n",
              "      <td>10th</td>\n",
              "      <td>6.0</td>\n",
              "      <td>Never-married</td>\n",
              "      <td>Other-service</td>\n",
              "      <td>Not-in-family</td>\n",
              "      <td>White</td>\n",
              "      <td>Male</td>\n",
              "      <td>0.0</td>\n",
              "      <td>0.0</td>\n",
              "      <td>30.0</td>\n",
              "      <td>United-States</td>\n",
              "      <td>&lt;=50K</td>\n",
              "    </tr>\n",
              "    <tr>\n",
              "      <th>6</th>\n",
              "      <td>29.0</td>\n",
              "      <td>NaN</td>\n",
              "      <td>227026.0</td>\n",
              "      <td>HS-grad</td>\n",
              "      <td>9.0</td>\n",
              "      <td>Never-married</td>\n",
              "      <td>NaN</td>\n",
              "      <td>Unmarried</td>\n",
              "      <td>Black</td>\n",
              "      <td>Male</td>\n",
              "      <td>0.0</td>\n",
              "      <td>0.0</td>\n",
              "      <td>40.0</td>\n",
              "      <td>United-States</td>\n",
              "      <td>&lt;=50K</td>\n",
              "    </tr>\n",
              "    <tr>\n",
              "      <th>7</th>\n",
              "      <td>63.0</td>\n",
              "      <td>Self-emp-not-inc</td>\n",
              "      <td>104626.0</td>\n",
              "      <td>Prof-school</td>\n",
              "      <td>15.0</td>\n",
              "      <td>Married-civ-spouse</td>\n",
              "      <td>Prof-specialty</td>\n",
              "      <td>Husband</td>\n",
              "      <td>White</td>\n",
              "      <td>Male</td>\n",
              "      <td>3103.0</td>\n",
              "      <td>0.0</td>\n",
              "      <td>32.0</td>\n",
              "      <td>United-States</td>\n",
              "      <td>&gt;50K</td>\n",
              "    </tr>\n",
              "    <tr>\n",
              "      <th>8</th>\n",
              "      <td>24.0</td>\n",
              "      <td>Private</td>\n",
              "      <td>369667.0</td>\n",
              "      <td>Some-college</td>\n",
              "      <td>10.0</td>\n",
              "      <td>Never-married</td>\n",
              "      <td>Other-service</td>\n",
              "      <td>Unmarried</td>\n",
              "      <td>White</td>\n",
              "      <td>Female</td>\n",
              "      <td>0.0</td>\n",
              "      <td>0.0</td>\n",
              "      <td>40.0</td>\n",
              "      <td>United-States</td>\n",
              "      <td>&lt;=50K</td>\n",
              "    </tr>\n",
              "    <tr>\n",
              "      <th>9</th>\n",
              "      <td>55.0</td>\n",
              "      <td>Private</td>\n",
              "      <td>104996.0</td>\n",
              "      <td>7th-8th</td>\n",
              "      <td>4.0</td>\n",
              "      <td>Married-civ-spouse</td>\n",
              "      <td>Craft-repair</td>\n",
              "      <td>Husband</td>\n",
              "      <td>White</td>\n",
              "      <td>Male</td>\n",
              "      <td>0.0</td>\n",
              "      <td>0.0</td>\n",
              "      <td>10.0</td>\n",
              "      <td>United-States</td>\n",
              "      <td>&lt;=50K</td>\n",
              "    </tr>\n",
              "  </tbody>\n",
              "</table>\n",
              "</div>"
            ],
            "text/plain": [
              "    age         workclass    fnlwgt     education  education-num  \\\n",
              "0  25.0           Private  226802.0          11th            7.0   \n",
              "1  38.0           Private   89814.0       HS-grad            9.0   \n",
              "2  28.0         Local-gov  336951.0    Assoc-acdm           12.0   \n",
              "3  44.0           Private  160323.0  Some-college           10.0   \n",
              "4  18.0               NaN  103497.0  Some-college           10.0   \n",
              "5  34.0           Private  198693.0          10th            6.0   \n",
              "6  29.0               NaN  227026.0       HS-grad            9.0   \n",
              "7  63.0  Self-emp-not-inc  104626.0   Prof-school           15.0   \n",
              "8  24.0           Private  369667.0  Some-college           10.0   \n",
              "9  55.0           Private  104996.0       7th-8th            4.0   \n",
              "\n",
              "       marital-status         occupation   relationship   race     sex  \\\n",
              "0       Never-married  Machine-op-inspct      Own-child  Black    Male   \n",
              "1  Married-civ-spouse    Farming-fishing        Husband  White    Male   \n",
              "2  Married-civ-spouse    Protective-serv        Husband  White    Male   \n",
              "3  Married-civ-spouse  Machine-op-inspct        Husband  Black    Male   \n",
              "4       Never-married                NaN      Own-child  White  Female   \n",
              "5       Never-married      Other-service  Not-in-family  White    Male   \n",
              "6       Never-married                NaN      Unmarried  Black    Male   \n",
              "7  Married-civ-spouse     Prof-specialty        Husband  White    Male   \n",
              "8       Never-married      Other-service      Unmarried  White  Female   \n",
              "9  Married-civ-spouse       Craft-repair        Husband  White    Male   \n",
              "\n",
              "   capital-gain  capital-loss  hours-per-week native-country  class  \n",
              "0           0.0           0.0            40.0  United-States  <=50K  \n",
              "1           0.0           0.0            50.0  United-States  <=50K  \n",
              "2           0.0           0.0            40.0  United-States   >50K  \n",
              "3        7688.0           0.0            40.0  United-States   >50K  \n",
              "4           0.0           0.0            30.0  United-States  <=50K  \n",
              "5           0.0           0.0            30.0  United-States  <=50K  \n",
              "6           0.0           0.0            40.0  United-States  <=50K  \n",
              "7        3103.0           0.0            32.0  United-States   >50K  \n",
              "8           0.0           0.0            40.0  United-States  <=50K  \n",
              "9           0.0           0.0            10.0  United-States  <=50K  "
            ]
          },
          "execution_count": 3,
          "metadata": {},
          "output_type": "execute_result"
        }
      ],
      "source": [
        "n, d = dataset.shape\n",
        "print(n, d)\n",
        "dataset.head(10)"
      ]
    },
    {
      "attachments": {},
      "cell_type": "markdown",
      "metadata": {
        "datalore": {
          "sheet_delimiter": false,
          "type": "MD"
        },
        "jupyter": {
          "outputs_hidden": false,
          "source_hidden": false
        }
      },
      "source": [
        "### Question 1.1 (non-private queries)"
      ]
    },
    {
      "attachments": {},
      "cell_type": "markdown",
      "metadata": {
        "datalore": {
          "sheet_delimiter": false,
          "type": "MD"
        },
        "jupyter": {
          "outputs_hidden": false,
          "source_hidden": false
        }
      },
      "source": [
        "Implement a function for each of these types of queries (without privacy) and test them on the dataset:\n",
        "- **Simple count queries**: it takes as input a dataset (`DataFrame`), a categorical attribute (e.g., `\"sex\"`) and a value (e.g., `Male`), and returns how many rows in the dataset have the prescribed attribute value.\n",
        "- **Averaging queries**: it takes as input a dataset and a numeric attribute (e.g., `\"age\"`), and returns the average value of this attribute in the dataset.\n",
        "- **Histogram queries**: it takes as input a dataset and a categorical attribute (e.g., `\"sex\"`), and returns the histogram of counts for this attribute in the dataset (i.e., for each possible value of the attribute, how many rows have this value).\n",
        "\n",
        "Reminder: for a DataFrame `df`, we can access the column corresponding to an attribute `attr` by `df[attr]`. The method `value_counts()` allows to build a histogram of a column.\n",
        "\n",
        "Note: you can use the function `bar_plot_pandas` provided below to draw a bar plot of a pandas Series, which is useful to show histograms."
      ]
    },
    {
      "cell_type": "code",
      "execution_count": 4,
      "metadata": {
        "datalore": {
          "sheet_delimiter": false,
          "type": "CODE"
        },
        "jupyter": {
          "outputs_hidden": false,
          "source_hidden": false
        }
      },
      "outputs": [],
      "source": [
        "def bar_plot_pandas(series1, series2=None, label1=\"Series 1\", label2=\"Series 2\", title=\"\"):\n",
        "    '''\n",
        "    Draws a bar plot of one Pandas Series, or two pandas Series with the same index\n",
        "    \n",
        "    Parameters\n",
        "    ----------\n",
        "    series1 : Series of float\n",
        "        First input\n",
        "    series2 : Series of float, optional\n",
        "        Second input (with same index)\n",
        "    label1 : string, optional\n",
        "        Label for the first series\n",
        "    label2 : string, optional\n",
        "        Label for the second series\n",
        "    title : string, optional\n",
        "        Plot title\n",
        "    '''\n",
        "    if series2 is None:\n",
        "        series1.plot.bar()\n",
        "        plt.legend([label1])\n",
        "    else:\n",
        "        concat_series = pd.DataFrame({label1: series1, label2: series2}).reset_index()\n",
        "        concat_series.plot.bar(x=\"index\", y=[label1, label2], xlabel=\"\", title=title)"
      ]
    },
    {
      "cell_type": "code",
      "execution_count": 5,
      "metadata": {
        "datalore": {
          "sheet_delimiter": false,
          "type": "CODE"
        },
        "jupyter": {
          "outputs_hidden": false,
          "source_hidden": false
        }
      },
      "outputs": [],
      "source": [
        "def count_query(df, attribute, value):\n",
        "    '''\n",
        "    Parameters\n",
        "    ----------\n",
        "    df : DataFrame\n",
        "        Dataset\n",
        "    attribute : string\n",
        "        Name of an attribute with categorical values\n",
        "    value : string or int\n",
        "        Value of attribute to count\n",
        "        \n",
        "    Returns\n",
        "    -------\n",
        "    count : int\n",
        "        The number of records with `attribute=value` in dataset `df`\n",
        "    '''\n",
        "    \n",
        "    return df[df[attribute] == value][attribute].count()"
      ]
    },
    {
      "cell_type": "code",
      "execution_count": 6,
      "metadata": {
        "datalore": {
          "sheet_delimiter": false,
          "type": "CODE"
        },
        "jupyter": {
          "outputs_hidden": false,
          "source_hidden": false
        }
      },
      "outputs": [
        {
          "data": {
            "text/plain": [
              "32650"
            ]
          },
          "execution_count": 6,
          "metadata": {},
          "output_type": "execute_result"
        }
      ],
      "source": [
        "count_query(dataset, \"sex\", \"Male\")"
      ]
    },
    {
      "cell_type": "code",
      "execution_count": 7,
      "metadata": {
        "datalore": {
          "sheet_delimiter": false,
          "type": "CODE"
        },
        "jupyter": {
          "outputs_hidden": false,
          "source_hidden": false
        }
      },
      "outputs": [],
      "source": [
        "def average_query(df, attribute):\n",
        "    '''\n",
        "    Parameters\n",
        "    ----------\n",
        "    df : DataFrame\n",
        "        Dataset\n",
        "    attribute : string\n",
        "        Name of an attribute with numeric values\n",
        "        \n",
        "    Returns\n",
        "    -------\n",
        "    average : float\n",
        "        The average value of `attribute` in dataset `df`\n",
        "    '''\n",
        "        \n",
        "    return df[attribute].mean()"
      ]
    },
    {
      "cell_type": "code",
      "execution_count": 8,
      "metadata": {
        "datalore": {
          "sheet_delimiter": false,
          "type": "CODE"
        },
        "jupyter": {
          "outputs_hidden": false,
          "source_hidden": false
        }
      },
      "outputs": [
        {
          "data": {
            "text/plain": [
              "38.64358543876172"
            ]
          },
          "execution_count": 8,
          "metadata": {},
          "output_type": "execute_result"
        }
      ],
      "source": [
        "average_query(dataset, \"age\")"
      ]
    },
    {
      "cell_type": "code",
      "execution_count": 9,
      "metadata": {
        "datalore": {
          "sheet_delimiter": false,
          "type": "CODE"
        },
        "jupyter": {
          "outputs_hidden": false,
          "source_hidden": false
        }
      },
      "outputs": [],
      "source": [
        "def histogram_query(df, attribute):\n",
        "    '''\n",
        "    Parameters\n",
        "    ----------\n",
        "    df : DataFrame\n",
        "        Dataset\n",
        "    attribute : string\n",
        "        Name of an attribute with categorical values\n",
        "        \n",
        "    Returns\n",
        "    -------\n",
        "    histogram : array or Series of int\n",
        "        The histogram of `attribute`, i.e., the number of times each value of `attribute` appears in `df`\n",
        "    '''\n",
        "    \n",
        "    return df[attribute].value_counts()"
      ]
    },
    {
      "cell_type": "code",
      "execution_count": 10,
      "metadata": {
        "datalore": {
          "sheet_delimiter": false,
          "type": "CODE"
        },
        "jupyter": {
          "outputs_hidden": false,
          "source_hidden": false
        }
      },
      "outputs": [
        {
          "data": {
            "image/png": "[encoded data removed]",
            "text/plain": [
              "<Figure size 432x288 with 1 Axes>"
            ]
          },
          "metadata": {
            "needs_background": "light"
          },
          "output_type": "display_data"
        }
      ],
      "source": [
        "bar_plot_pandas(histogram_query(dataset, \"sex\"))"
      ]
    },
    {
      "attachments": {},
      "cell_type": "markdown",
      "metadata": {
        "datalore": {
          "sheet_delimiter": false,
          "type": "MD"
        },
        "jupyter": {
          "outputs_hidden": false,
          "source_hidden": false
        }
      },
      "source": [
        "### Question 1.2 (Gaussian mechanism)"
      ]
    },
    {
      "attachments": {},
      "cell_type": "markdown",
      "metadata": {
        "datalore": {
          "sheet_delimiter": false,
          "type": "MD"
        },
        "jupyter": {
          "outputs_hidden": false,
          "source_hidden": false
        }
      },
      "source": [
        "Implement the Gaussian mechanism, i.e., a function which takes as input a (non-private) query output, the query's $\\ell_2$ sensitivity, the desired value of $\\epsilon$ and $\\delta$ and a random seed (for reproducibility), and returns a $(\\epsilon,\\delta)$-differentially private estimate of the query. To draw Gaussian noise, check `np.random.normal`. The function should work with queries that output a scalar (like simple count and averaging queries), as well as those that output a vector (like histogram queries)."
      ]
    },
    {
      "cell_type": "code",
      "execution_count": 11,
      "metadata": {
        "datalore": {
          "sheet_delimiter": false,
          "type": "CODE"
        },
        "jupyter": {
          "outputs_hidden": false,
          "source_hidden": false
        }
      },
      "outputs": [],
      "source": [
        "def gaussian_mechanism(q, s2, eps, delta, random_state=None):\n",
        "    '''\n",
        "    Parameters\n",
        "    ----------\n",
        "    q : float or array/Series of float\n",
        "        The non-private output of the query\n",
        "    s2 : float\n",
        "        The L2 sensitivity of the query\n",
        "    eps : float\n",
        "        Parameter epsilon of differential privacy\n",
        "    delta : float\n",
        "        Parameter delta of differential privacy\n",
        "    random_state : int, optional (default=None)\n",
        "        Random seed\n",
        "        \n",
        "    Returns\n",
        "    -------\n",
        "    private_q : float or array/Series of float\n",
        "        An (eps,delta)-DP evaluation of the query\n",
        "    '''\n",
        "    \n",
        "    rng = np.random.RandomState(random_state)\n",
        "    sigma = np.sqrt(2*np.log(1.25/delta))*s2/eps\n",
        "\n",
        "    if not(hasattr(q, 'shape')) or q.shape == () : # query output is a scalar\n",
        "        y = rng.normal(0, sigma, 1)\n",
        "    else : # query output is multi-dimensional\n",
        "        y = rng.normal(0, sigma, q.shape)\n",
        "    return y + q"
      ]
    },
    {
      "attachments": {},
      "cell_type": "markdown",
      "metadata": {
        "datalore": {
          "sheet_delimiter": false,
          "type": "MD"
        },
        "jupyter": {
          "outputs_hidden": false,
          "source_hidden": false
        }
      },
      "source": [
        "### Question 1.3 (Private computation of count queries)"
      ]
    },
    {
      "attachments": {},
      "cell_type": "markdown",
      "metadata": {
        "datalore": {
          "sheet_delimiter": false,
          "type": "MD"
        },
        "jupyter": {
          "outputs_hidden": false,
          "source_hidden": false
        }
      },
      "source": [
        "We would like to use the Gaussian mechanism to:\n",
        "- privately count the number of males in the dataset\n",
        "- generate a private histogram of the `\"workclass\"` attribute\n",
        "\n",
        "What is the sensitivity of the query in each case?\n",
        "\n",
        "Run the Gaussian mechanism with different values of $\\epsilon$ and $\\delta$, and compute the relative $\\ell_1$-error with respect to the true (non-private) output and discuss the effect of $\\epsilon$ and $\\delta$ on the utility. Recall that the mechanism is random, so unless you fix the seed you will get a different result at each execution. You may also visually compare the private and non-private histograms using the function `bar_plot_pandas` provided at the beginning of the notebook.\n",
        "\n",
        "Note: you may round the outputs of the private mechanism to make them integers if you like. This can be seen as post-processing and thus preserves DP."
      ]
    },
    {
      "attachments": {},
      "cell_type": "markdown",
      "metadata": {
        "datalore": {
          "sheet_delimiter": false,
          "type": "MD"
        },
        "jupyter": {
          "outputs_hidden": false,
          "source_hidden": false
        }
      },
      "source": [
        "### Answers\n",
        "- For the first query (\"privately count the number of males in the dataset\"), the sensitivity is $1$ because between two neighboring datasets, there can be a difference of one male at most.\n",
        "- For the second query (\"generate a private histogram of the `workclass` attribute\"), the sensitivity is $\\sqrt{2}$ because between two neighboring datasets, there can be a difference of 2 counts at most (one workclass loses a person and another gains one)."
      ]
    },
    {
      "cell_type": "code",
      "execution_count": 12,
      "metadata": {
        "datalore": {
          "sheet_delimiter": false,
          "type": "CODE"
        },
        "jupyter": {
          "outputs_hidden": false,
          "source_hidden": false
        }
      },
      "outputs": [],
      "source": [
        "def relative_l1_error(q_true, q_est):\n",
        "    '''\n",
        "    Parameters\n",
        "    ----------\n",
        "    q_true : float or array/Series of float\n",
        "        True value\n",
        "    q_est : float or array/Series of float\n",
        "        Estimated value\n",
        "        \n",
        "    Returns\n",
        "    -------\n",
        "    l1_error : float\n",
        "        The relative L1 error of `q_est` with respect to and `q_true`: ||q_true-q_est||_1 / ||q_true||_1\n",
        "    '''\n",
        "\n",
        "    if not(hasattr(q_true, 'shape')) or q_true.shape == (): # query output is a scalar\n",
        "        return np.abs(q_true - q_est) / np.abs(q_true)\n",
        "    else:\n",
        "        return np.linalg.norm(q_true - q_est, ord=1) / np.linalg.norm(q_true, ord=1)"
      ]
    },
    {
      "cell_type": "code",
      "execution_count": 13,
      "metadata": {
        "datalore": {
          "sheet_delimiter": false,
          "type": "CODE"
        },
        "jupyter": {
          "outputs_hidden": false,
          "source_hidden": false
        }
      },
      "outputs": [
        {
          "data": {
            "image/png": "[encoded data removed]",
            "text/plain": [
              "<Figure size 720x360 with 1 Axes>"
            ]
          },
          "metadata": {
            "needs_background": "light"
          },
          "output_type": "display_data"
        },
        {
          "data": {
            "image/png": "[encoded data removed]",
            "text/plain": [
              "<Figure size 720x360 with 1 Axes>"
            ]
          },
          "metadata": {
            "needs_background": "light"
          },
          "output_type": "display_data"
        }
      ],
      "source": [
        "# fill with the list of queries in the format (name, query_function, sensitivity)\n",
        "queries = [\n",
        "    (\"Males count\", count_query(dataset, \"sex\", \"Male\"), 1), \n",
        "    (\"Workclass histogram\", histogram_query(dataset, \"workclass\"), np.sqrt(2))\n",
        "]\n",
        "\n",
        "# fill with the list of values for epsilon and delta\n",
        "eps_list = np.linspace(0, 10, 50)\n",
        "delta_list = [1, 0.1, 0.01, 0.001]\n",
        "n_runs = 10\n",
        "random_state = 2\n",
        "\n",
        "for name, q, s in queries:\n",
        "    \n",
        "    fig = plt.figure(figsize=(10,5))\n",
        "    ax = fig.add_subplot(1, 1, 1)\n",
        "    error = np.zeros((len(eps_list), len(delta_list), n_runs))\n",
        "    for j, delta in enumerate(delta_list):\n",
        "        for i, eps in enumerate(eps_list):\n",
        "            for r in range(n_runs):\n",
        "                q_dp = gaussian_mechanism(q, s, eps, delta, random_state)\n",
        "                error[i, j, r] = relative_l1_error(q, q_dp) \n",
        "    \n",
        "        ax.errorbar(eps_list, error[:, j, :].mean(axis=1), error[:, j, :].std(axis=1),\n",
        "                    label='Gaussian mechanism ($\\delta$=' + \"{:.2e}\".format(delta) + ')')\n",
        "\n",
        "    plt.xlabel(\"$\\epsilon$\")\n",
        "    plt.ylabel(\"$\\ell_1$ error\")\n",
        "    plt.title(\"Query: \" + name)\n",
        "    ax.set_yscale('log')\n",
        "    ax.legend()"
      ]
    },
    {
      "attachments": {},
      "cell_type": "markdown",
      "metadata": {
        "datalore": {
          "sheet_delimiter": false,
          "type": "MD"
        },
        "jupyter": {
          "outputs_hidden": false,
          "source_hidden": false
        }
      },
      "source": [
        "### Comment\n",
        "\n",
        "We can observe that the greater $\\varepsilon$ or $\\delta$, the lower the relative error. These results were to be expected since they both quantify the tolerated distance between the original dataset and the estimated one.\n",
        "\n",
        "We also observe that the error is generally higher for the second query. Indeed, it has a higher sensitivity, meaning that \"small\" changes in the dataset introduced by the gaussian mechanism induce a greater difference between the original and modified values."
      ]
    },
    {
      "cell_type": "code",
      "execution_count": 14,
      "metadata": {
        "datalore": {
          "sheet_delimiter": false,
          "type": "CODE"
        },
        "jupyter": {
          "outputs_hidden": false,
          "source_hidden": false
        }
      },
      "outputs": [
        {
          "data": {
            "image/png": "[encoded data removed]",
            "text/plain": [
              "<Figure size 1080x360 with 2 Axes>"
            ]
          },
          "metadata": {
            "needs_background": "light"
          },
          "output_type": "display_data"
        }
      ],
      "source": [
        "# Comparing the private and non-private histograms with epsilon = delta = 0.1\n",
        "q = histogram_query(dataset, \"workclass\")\n",
        "fig = plt.figure(figsize=(15,5))\n",
        "plt.subplot(121)\n",
        "plt.title(\"Non-private histogram\")\n",
        "bar_plot_pandas(q)\n",
        "plt.subplot(122)\n",
        "plt.title(\"Private histogram\")\n",
        "bar_plot_pandas(gaussian_mechanism(q, np.sqrt(2), 0.1, 0.1, random_state))"
      ]
    },
    {
      "attachments": {},
      "cell_type": "markdown",
      "metadata": {
        "datalore": {
          "sheet_delimiter": false,
          "type": "MD"
        },
        "jupyter": {
          "outputs_hidden": false,
          "source_hidden": false
        }
      },
      "source": [
        "### Comment\n",
        "\n",
        "We can observe that the two histograms are very similar to one another. Indeed, the distribution of the private histogram should be close to the original one, as required by differential private algorithms.\n",
        "\n",
        "We can also note that the lowest values are not displayed on the histogram: since they were close to zero, the addition of a normal noise made them negative. This could be corrected with post-processing on these values."
      ]
    },
    {
      "attachments": {},
      "cell_type": "markdown",
      "metadata": {
        "datalore": {
          "sheet_delimiter": false,
          "type": "MD"
        },
        "jupyter": {
          "outputs_hidden": false,
          "source_hidden": false
        }
      },
      "source": [
        "## Part 2: Differentially Private Stochastic Gradient Descent"
      ]
    },
    {
      "attachments": {},
      "cell_type": "markdown",
      "metadata": {
        "datalore": {
          "sheet_delimiter": false,
          "type": "MD"
        },
        "jupyter": {
          "outputs_hidden": false,
          "source_hidden": false
        }
      },
      "source": [
        "In this second part, we will implement and experiment with Differentialy Private Stochastic Gradient Descent (DP-SGD) to privately learn machine learning models."
      ]
    },
    {
      "attachments": {},
      "cell_type": "markdown",
      "metadata": {
        "datalore": {
          "sheet_delimiter": false,
          "type": "MD"
        },
        "jupyter": {
          "outputs_hidden": false,
          "source_hidden": false
        }
      },
      "source": [
        "### Datasets"
      ]
    },
    {
      "attachments": {},
      "cell_type": "markdown",
      "metadata": {
        "datalore": {
          "sheet_delimiter": false,
          "type": "MD"
        },
        "jupyter": {
          "outputs_hidden": false,
          "source_hidden": false
        }
      },
      "source": [
        "**You are free to work with any binary classification dataset(s) you like** (you may use more than a single dataset). It is of course possible to work with the US Census dataset used in previous practicals, but you can find other datasets for instance on [OpenML](https://www.openml.org/), [UCI](https://archive.ics.uci.edu/ml/index.php), [sklearn](https://scikit-learn.org/stable/modules/classes.html?highlight=datasets#module-sklearn.datasets).\n",
        "\n",
        "Good candidate datasets should have rather small dimension compared to the number of data points. Examples include US Census in one-hot encoded version (`name='a9a', version=1`), houses (`name='houses', version=2`) and electricity (`name='electricity', version=1`).\n",
        "\n",
        "The code below loads the US Census dataset in one-hot encoded version."
      ]
    },
    {
      "cell_type": "code",
      "execution_count": 15,
      "metadata": {
        "datalore": {
          "sheet_delimiter": false,
          "type": "CODE"
        },
        "jupyter": {
          "outputs_hidden": false,
          "source_hidden": false
        }
      },
      "outputs": [
        {
          "name": "stdout",
          "output_type": "stream",
          "text": [
            "48842 123\n"
          ]
        }
      ],
      "source": [
        "X, y = fetch_openml(name='a9a', version=1, return_X_y=True, as_frame=False)\n",
        "n, d = X.shape\n",
        "\n",
        "# convert labels to -1, 1\n",
        "c = np.unique(y)    \n",
        "y[y==c[0]] = -1\n",
        "y[y==c[1]] = 1\n",
        "y = y.astype(float)\n",
        "\n",
        "print(n, d)"
      ]
    },
    {
      "attachments": {},
      "cell_type": "markdown",
      "metadata": {
        "datalore": {
          "sheet_delimiter": false,
          "type": "MD"
        },
        "jupyter": {
          "outputs_hidden": false,
          "source_hidden": false
        }
      },
      "source": [
        "We first standardize features, then normalize each point to have unit norm."
      ]
    },
    {
      "cell_type": "code",
      "execution_count": 16,
      "metadata": {
        "datalore": {
          "sheet_delimiter": false,
          "type": "CODE"
        },
        "jupyter": {
          "outputs_hidden": false,
          "source_hidden": false
        }
      },
      "outputs": [],
      "source": [
        "if sp.sparse.issparse(X):\n",
        "    scaler = StandardScaler(with_mean=False)\n",
        "else:\n",
        "    scaler = StandardScaler()\n",
        "normalizer = Normalizer()\n",
        "X = normalizer.transform(scaler.fit_transform(X))"
      ]
    },
    {
      "attachments": {},
      "cell_type": "markdown",
      "metadata": {
        "datalore": {
          "sheet_delimiter": false,
          "type": "MD"
        },
        "jupyter": {
          "outputs_hidden": false,
          "source_hidden": false
        }
      },
      "source": [
        "We now split the dataset into a train and a test set. Feel free to adapt the size of the training set to your dataset."
      ]
    },
    {
      "cell_type": "code",
      "execution_count": 17,
      "metadata": {
        "datalore": {
          "sheet_delimiter": false,
          "type": "CODE"
        },
        "jupyter": {
          "outputs_hidden": false,
          "source_hidden": false
        }
      },
      "outputs": [
        {
          "name": "stdout",
          "output_type": "stream",
          "text": [
            "(39073, 123) (39073,) (9769, 123) (9769,)\n"
          ]
        }
      ],
      "source": [
        "X_train, X_test, y_train, y_test = train_test_split(X, y, train_size=.80, random_state=42, stratify=y)\n",
        "print(X_train.shape, y_train.shape, X_test.shape, y_test.shape)\n",
        "n_train = X_train.shape[0]"
      ]
    },
    {
      "attachments": {},
      "cell_type": "markdown",
      "metadata": {
        "datalore": {
          "sheet_delimiter": false,
          "type": "MD"
        },
        "jupyter": {
          "outputs_hidden": false,
          "source_hidden": false
        }
      },
      "source": [
        "### Question 2.1 (non-private SGD)"
      ]
    },
    {
      "attachments": {},
      "cell_type": "markdown",
      "metadata": {
        "datalore": {
          "sheet_delimiter": false,
          "type": "MD"
        },
        "jupyter": {
          "outputs_hidden": false,
          "source_hidden": false
        }
      },
      "source": [
        "In this first question, we will implement our own simple version of SGD, as well as define our own sklearn-compatible $\\ell_2$-regularized logistic regression estimator. This will be convenient when we will implement a differentially private version in Question 2.\n",
        "\n",
        "Below, you are given several pieces of code:\n",
        "1. A function `sgd` which implements SGD: it is meant to be generic in the sense that it takes as input a function `obj_and_grad` which computes the value and the gradient of the desired objective function. **This function has missing parts that you need to complete**.\n",
        "2. A function `my_logistic_obj_and_grad` (adapted from [the version from sklearn](https://github.com/scikit-learn/scikit-learn/blob/0fb307bf39bbdacd6ed713c00724f8f871d60370/sklearn/linear_model/_logistic.py#L84)) which computes the value and gradient of the logistic regression problem. You do not need to modify this function.\n",
        "3. A class `MySGDLogisticRegression` which defines a sklearn estimator for logistic regression, where the model is fit using SGD using the previous two functions. You do not need to modify this function.\n",
        "\n",
        "Spend a bit of time to get familiar with the code provided, then complete the missing bits in the `sgd` function. Make sure it works by trying it on the binary classification dataset that you previously loaded."
      ]
    },
    {
      "cell_type": "code",
      "execution_count": 18,
      "metadata": {
        "datalore": {
          "sheet_delimiter": false,
          "type": "CODE"
        },
        "jupyter": {
          "outputs_hidden": false,
          "source_hidden": false
        }
      },
      "outputs": [],
      "source": [
        "def sgd(X, y, gamma, n_iter, obj_and_grad, theta_init, n_batch=1, freq_obj_eval=10,\n",
        "        n_obj_eval=1000, random_state=None):\n",
        "    \"\"\"Stochastic Gradient Descent (SGD) algorithm\n",
        "\n",
        "    Parameters\n",
        "    ----------\n",
        "    X : array, shape (n, d)\n",
        "        The data\n",
        "    y : array, shape (n,)\n",
        "        Binary labels (-1, 1).\n",
        "    gamma : float | callable\n",
        "        The step size. Can be a constant float or a function\n",
        "        that allows to have a variable step size\n",
        "    n_iter : int\n",
        "        The number of iterations\n",
        "    obj_and_grad : callable\n",
        "        A function which takes as a vector of shape (p,), a dataset of shape (n_batch, d)\n",
        "        and a label vector of shape (n_batch,), and returns the objective value and gradient.\n",
        "    theta_init : array, shape (p,)\n",
        "        The initial value for the model parameters\n",
        "    n_batch : int\n",
        "        Size of the mini-batch to use at each iteration of SGD.\n",
        "    freq_obj_eval : int\n",
        "        Specifies the frequency (in number of iterations) at which we compute the objective\n",
        "    n_obj_eval : int\n",
        "        The number of points on which we evaluate the objective\n",
        "    random_state : int\n",
        "        Random seed to make the algorithm deterministic\n",
        "\n",
        "\n",
        "    Returns\n",
        "    -------\n",
        "    theta : array, shape=(p,)\n",
        "        The final value of the model parameters\n",
        "    obj_list : list of length (n_iter / freq_obj_eval)\n",
        "        A list containing the value of the objective function computed every freq_obj_eval iterations\n",
        "    \"\"\"\n",
        "    \n",
        "    rng = np.random.RandomState(random_state)\n",
        "    n, d = X.shape\n",
        "    p = theta_init.shape[0]\n",
        "    \n",
        "    theta = theta_init.copy()\n",
        "\n",
        "    # if a constant step size was provided, we turn it into a constant function\n",
        "    if not callable(gamma):\n",
        "        def gamma_func(t):\n",
        "            return gamma\n",
        "    else:\n",
        "        gamma_func = gamma\n",
        "    \n",
        "    # list to record the evolution of the objective (for plotting)\n",
        "    obj_list = []\n",
        "    # we draw a fixed subset of points to monitor the objective\n",
        "    idx_eval = rng.randint(0, n, n_obj_eval)\n",
        "\n",
        "    for t in range(n_iter):\n",
        "        if t % freq_obj_eval == 0:\n",
        "            # evaluate objective\n",
        "            obj, _ = obj_and_grad(theta, X[idx_eval, :], y[idx_eval])\n",
        "            obj_list.append(obj)\n",
        "        \n",
        "        for i in range(n // n_batch):\n",
        "            obj, grad = obj_and_grad(theta, X[i * n_batch : (i+1) * n_batch , :], y[i * n_batch : (i+1) * n_batch])\n",
        "            theta = theta - gamma_func(t) * grad\n",
        "            print(f\"Step #{t} | Batch #{i} | obj = {obj}\", end='\\r')\n",
        "        \n",
        "    return theta, obj_list"
      ]
    },
    {
      "cell_type": "code",
      "execution_count": 19,
      "metadata": {
        "datalore": {
          "sheet_delimiter": false,
          "type": "CODE"
        },
        "jupyter": {
          "outputs_hidden": false,
          "source_hidden": false
        }
      },
      "outputs": [],
      "source": [
        "from sklearn.linear_model._base import LinearClassifierMixin, SparseCoefMixin, BaseEstimator\n",
        "from sklearn.utils.extmath import log_logistic, safe_sparse_dot\n",
        "from sklearn.linear_model._logistic import _intercept_dot\n",
        "from scipy.special import expit\n",
        "from sklearn.utils.validation import check_X_y\n",
        "\n",
        "def my_logistic_obj_and_grad(theta, X, y, lamb):\n",
        "    \"\"\"Computes the value and gradient of the objective function of logistic regression defined as:\n",
        "    min (1/n) \\sum_i log_loss(theta;X[i,:],y[i]) + (lamb / 2) \\|w\\|^2,\n",
        "    where theta = w (if no intercept), or theta = [w b] (if intercept)\n",
        "\n",
        "    Parameters\n",
        "    ----------\n",
        "    theta_init : array, shape (d,) or (d+1,)\n",
        "        The initial value for the model parameters. When an intercept is used, it corresponds to the last entry\n",
        "    X : array, shape (n, d)\n",
        "        The data\n",
        "    y : array, shape (n,)\n",
        "        Binary labels (-1, 1)\n",
        "    lamb : float\n",
        "        The L2 regularization parameter\n",
        "\n",
        "\n",
        "    Returns\n",
        "    -------\n",
        "    obj : float\n",
        "        The value of the objective function\n",
        "    grad : array, shape (d,) or (d+1,)\n",
        "        The gradient of the objective function\n",
        "    \"\"\"\n",
        "    n_samples, n_features = X.shape\n",
        "    grad = np.empty_like(theta)\n",
        "\n",
        "    w, c, yz = _intercept_dot(theta, X, y)\n",
        "\n",
        "    # Logistic loss is the negative of the log of the logistic function\n",
        "    obj = -np.mean(log_logistic(yz)) + .5 * lamb * np.dot(w, w)\n",
        "\n",
        "    z = expit(yz)\n",
        "    z0 = (z - 1) * y\n",
        "\n",
        "    grad[:n_features] = safe_sparse_dot(X.T, z0) / n_samples + lamb * w\n",
        "\n",
        "    # Case where we fit the intercept\n",
        "    if grad.shape[0] > n_features:\n",
        "        grad[-1] = z0.sum() / n_samples\n",
        "    return obj, grad\n",
        "\n",
        "\n",
        "class MySGDLogisticRegression(BaseEstimator, LinearClassifierMixin, SparseCoefMixin):\n",
        "    \"\"\"Our own sklearn estimator for logistic regression defined as:\n",
        "    min (1/n) \\sum_i log_loss(theta;X[i,:],y[i]) + (lamb / 2) \\|w\\|^2,\n",
        "    where theta = [w b]\n",
        "    \n",
        "    Parameters\n",
        "    ----------\n",
        "    gamma : float | callable\n",
        "        The step size. Can be a constant float or a function\n",
        "        that allows to have a variable step size\n",
        "    n_iter : int\n",
        "        The number of iterations\n",
        "    lamb : float\n",
        "        The L2 regularization parameter\n",
        "    n_batch : int\n",
        "        Size of the mini-batch to use at each iteration of SGD.\n",
        "    freq_obj_eval : int\n",
        "        Specifies the frequency (in number of iterations) at which we compute the objective\n",
        "    n_obj_eval : int\n",
        "        The number of points on which we evaluate the objectuve\n",
        "    random_state : int\n",
        "        Random seed to make the algorithm deterministic\n",
        "        \n",
        "    Attributes\n",
        "    ----------\n",
        "    coef_ : (p,)\n",
        "        The weights of the logistic regression model.\n",
        "    intercept_ : (1,)\n",
        "        The intercept term of the logistic regression model.\n",
        "    obj_list_: list of length (n_iter / freq_obj_eval)\n",
        "        A list containing the value of the objective function computed every freq_loss_eval iterations\n",
        "    \"\"\"\n",
        "    \n",
        "    def __init__(self, gamma, n_iter, lamb=0, n_batch=1, freq_obj_eval=10, n_obj_eval=1000, random_state=None):\n",
        "        self.gamma = gamma\n",
        "        self.n_iter = n_iter\n",
        "        self.lamb = lamb\n",
        "        self.n_batch = n_batch\n",
        "        self.freq_obj_eval = freq_obj_eval\n",
        "        self.n_obj_eval = n_obj_eval\n",
        "        self.random_state = random_state\n",
        "    \n",
        "    def fit(self, X, y):\n",
        "        \n",
        "        # WARNING: assumes labels are -1, 1\n",
        "        X, y = check_X_y(X, y, accept_sparse='csr', dtype=[np.float64, np.float32], order=\"C\")\n",
        "        self.classes_ = np.unique(y)    \n",
        "        \n",
        "        p = X.shape[1]\n",
        "        theta_init = np.zeros(p+1) # initialize parameters to zero\n",
        "        # define the function for value and gradient needed by SGD\n",
        "        obj_grad = lambda theta, X, y: my_logistic_obj_and_grad(theta, X, y, lamb=self.lamb)\n",
        "        theta, obj_list = sgd(X, y, self.gamma, self.n_iter, obj_grad, theta_init, self.n_batch,\n",
        "                              self.freq_obj_eval, self.n_obj_eval, self.random_state)\n",
        "        \n",
        "        # save the learned model into the appropriate quantities used by sklearn\n",
        "        self.intercept_ = np.expand_dims(theta[-1], axis=0)\n",
        "        self.coef_ = np.expand_dims(theta[:-1], axis=0)\n",
        "        \n",
        "        # also save list of objective values during optimization for plotting\n",
        "        self.obj_list_ = obj_list\n",
        "        \n",
        "        return self"
      ]
    },
    {
      "cell_type": "code",
      "execution_count": 20,
      "metadata": {
        "datalore": {
          "sheet_delimiter": false,
          "type": "CODE"
        },
        "jupyter": {
          "outputs_hidden": false,
          "source_hidden": false
        }
      },
      "outputs": [
        {
          "name": "stdout",
          "output_type": "stream",
          "text": [
            "Test accuracy 0.8488074521445389.35627611368738027\n"
          ]
        },
        {
          "data": {
            "image/png": "[encoded data removed]",
            "text/plain": [
              "<Figure size 432x288 with 1 Axes>"
            ]
          },
          "metadata": {
            "needs_background": "light"
          },
          "output_type": "display_data"
        }
      ],
      "source": [
        "lamb = 0\n",
        "n_iter = 2000\n",
        "n_batch = 1000\n",
        "gamma = 0.05\n",
        "# gamma = lambda t: 1 / np.sqrt(t)\n",
        "\n",
        "mlr = MySGDLogisticRegression(gamma, n_iter, lamb, n_batch=n_batch, random_state=None)\n",
        "mlr.fit(X_train, y_train)\n",
        "print(\"Test accuracy\", mlr.score(X_test, y_test))\n",
        "\n",
        "obj_list = mlr.obj_list_\n",
        "iter_list = np.arange(len(obj_list)) * mlr.freq_obj_eval\n",
        "plt.plot(iter_list, obj_list)\n",
        "plt.xlabel(\"Iteration\")\n",
        "plt.ylabel(\"Objective function\")\n",
        "plt.show()"
      ]
    },
    {
      "attachments": {},
      "cell_type": "markdown",
      "metadata": {
        "datalore": {
          "sheet_delimiter": false,
          "type": "MD"
        },
        "jupyter": {
          "outputs_hidden": false,
          "source_hidden": false
        }
      },
      "source": [
        "It seems that our gradient descent code is correct since the objective function decreases over time and we end up reaching an accuracy of over 80% on this binary classification dataset."
      ]
    },
    {
      "attachments": {},
      "cell_type": "markdown",
      "metadata": {
        "datalore": {
          "sheet_delimiter": false,
          "type": "MD"
        },
        "jupyter": {
          "outputs_hidden": false,
          "source_hidden": false
        }
      },
      "source": [
        "## Question 2.2 (private SGD)"
      ]
    },
    {
      "attachments": {},
      "cell_type": "markdown",
      "metadata": {
        "datalore": {
          "sheet_delimiter": false,
          "type": "MD"
        },
        "jupyter": {
          "outputs_hidden": false,
          "source_hidden": false
        }
      },
      "source": [
        "We will now implement and experiment with DP-SGD:\n",
        "1. Following the model of the function `sgd`, implement a new function `private_sgd` which implements DP-SGD **with mini-batch size of 1 and no regularization**. It can take as input the desired value of $\\epsilon$ and $\\delta$ for the $(\\epsilon,\\delta)$-DP, or alternatively the standard deviation of the Gaussian noise to add at each iteration. Note: you do not need to make the objective plotting part private (this is only for monitoring).\n",
        "2. Following the model of the class `MySGDLogisticRegression`, implement a new class `MyPrivateSGDLogisticRegression` which implements differentially private logistic regression trained using your DP-SGD implementation above.\n",
        "3. Experiment with different values of $\\epsilon$ and $\\delta$, number of iterations and step size, and study the effect on the convergence of SGD as well as the test accuracy of the resulting model. You may use and adapt the code below for your evaluation. Describe your observations. How does the level of privacy affect the choice of the number of iterations? How can we choose the number of iterations and step size in practice?"
      ]
    },
    {
      "cell_type": "code",
      "execution_count": 21,
      "metadata": {
        "datalore": {
          "sheet_delimiter": false,
          "type": "CODE"
        },
        "jupyter": {
          "outputs_hidden": false,
          "source_hidden": false
        }
      },
      "outputs": [],
      "source": [
        "def private_sgd(X, y, gamma, n_iter, obj_and_grad, theta_init, epsilon, delta, n_batch=1, freq_obj_eval=10,\n",
        "        n_obj_eval=1000, random_state=None):\n",
        "    \"\"\"Differentially-Private Stochastic Gradient Descent (SGD) algorithm\n",
        "\n",
        "    Parameters\n",
        "    ----------\n",
        "    X : array, shape (n, d)\n",
        "        The data\n",
        "    y : array, shape (n,)\n",
        "        Binary labels (-1, 1).\n",
        "    gamma : float | callable\n",
        "        The step size. Can be a constant float or a function\n",
        "        that allows to have a variable step size\n",
        "    epsilon: float\n",
        "       Desired value of epsilon for (epsilon, delta) differential privacy.\n",
        "    delta: float\n",
        "        Desired value of delta for (epsilon, delta) differential privacy.\n",
        "    n_iter : int\n",
        "        The number of iterations\n",
        "    obj_and_grad : callable\n",
        "        A function which takes as a vector of shape (p,), a dataset of shape (n_batch, d)\n",
        "        and a label vector of shape (n_batch,), and returns the objective value and gradient.\n",
        "    theta_init : array, shape (p,)\n",
        "        The initial value for the model parameters\n",
        "    n_batch : int\n",
        "        Size of the mini-batch to use at each iteration of SGD.\n",
        "    freq_obj_eval : int\n",
        "        Specifies the frequency (in number of iterations) at which we compute the objective\n",
        "    n_obj_eval : int\n",
        "        The number of points on which we evaluate the objective\n",
        "    random_state : int\n",
        "        Random seed to make the algorithm deterministic\n",
        "\n",
        "\n",
        "    Returns\n",
        "    -------\n",
        "    theta : array, shape=(p,)\n",
        "        The final value of the model parameters\n",
        "    obj_list : list of length (n_iter / freq_obj_eval)\n",
        "        A list containing the value of the objective function computed every freq_obj_eval iterations\n",
        "    \"\"\"\n",
        "    \n",
        "    rng = np.random.RandomState(random_state)\n",
        "    n, d = X.shape\n",
        "    p = theta_init.shape[0]\n",
        "    \n",
        "    theta = theta_init.copy()\n",
        "\n",
        "    # if a constant step size was provided, we turn it into a constant function\n",
        "    if not callable(gamma):\n",
        "        def gamma_func(t):\n",
        "            return gamma\n",
        "    else:\n",
        "        gamma_func = gamma\n",
        "    \n",
        "    # list to record the evolution of the objective (for plotting)\n",
        "    obj_list = []\n",
        "    # we draw a fixed subset of points to monitor the objective\n",
        "    idx_eval = rng.randint(0, n, n_obj_eval)\n",
        "\n",
        "    for t in range(n_iter):\n",
        "        if t % freq_obj_eval == 0:\n",
        "            # evaluate objective\n",
        "            obj, _ = obj_and_grad(theta, X[idx_eval, :], y[idx_eval])\n",
        "            obj_list.append(obj)\n",
        "        \n",
        "        for i in range(n // n_batch):\n",
        "            obj, grad = obj_and_grad(theta, X[i * n_batch : (i+1) * n_batch , :], y[i * n_batch : (i+1) * n_batch])\n",
        "\n",
        "            sigma = 16*np.sqrt(n_iter*np.log(2/delta)*np.log(2.5*n_iter/(delta*n)))/(n*epsilon)\n",
        "            noise = rng.normal(0, sigma, p) \n",
        "\n",
        "            theta = theta - gamma_func(t) * grad + noise\n",
        "            print(f\"Step #{t} | Batch #{i} | obj = {obj}\", end='\\r')\n",
        "        \n",
        "    return theta, obj_list"
      ]
    },
    {
      "cell_type": "code",
      "execution_count": 22,
      "metadata": {
        "datalore": {
          "sheet_delimiter": false,
          "type": "CODE"
        },
        "jupyter": {
          "outputs_hidden": false,
          "source_hidden": false
        }
      },
      "outputs": [],
      "source": [
        "class MyPrivateSGDLogisticRegression(BaseEstimator, LinearClassifierMixin, SparseCoefMixin):\n",
        "    \"\"\"Our own sklearn estimator for private logistic regression defined as:\n",
        "    min (1/n) \\sum_i log_loss(theta;X[i,:],y[i]) + (lamb / 2) \\|w\\|^2,\n",
        "    where theta = [w b]\n",
        "    \n",
        "    Parameters\n",
        "    ----------\n",
        "    gamma : float | callable\n",
        "        The step size. Can be a constant float or a function\n",
        "        that allows to have a variable step size\n",
        "    n_iter : int\n",
        "        The number of iterations\n",
        "    lamb : float\n",
        "        The L2 regularization parameter\n",
        "    n_batch : int\n",
        "        Size of the mini-batch to use at each iteration of SGD.\n",
        "    freq_obj_eval : int\n",
        "        Specifies the frequency (in number of iterations) at which we compute the objective\n",
        "    n_obj_eval : int\n",
        "        The number of points on which we evaluate the objectuve\n",
        "    random_state : int\n",
        "        Random seed to make the algorithm deterministic\n",
        "        \n",
        "    Attributes\n",
        "    ----------\n",
        "    coef_ : (p,)\n",
        "        The weights of the logistic regression model.\n",
        "    intercept_ : (1,)\n",
        "        The intercept term of the logistic regression model.\n",
        "    obj_list_: list of length (n_iter / freq_obj_eval)\n",
        "        A list containing the value of the objective function computed every freq_loss_eval iterations\n",
        "    \"\"\"\n",
        "    \n",
        "    def __init__(self, gamma, n_iter, epsilon, delta, lamb=0, n_batch=1, freq_obj_eval=10, n_obj_eval=1000, random_state=None):\n",
        "        self.gamma = gamma\n",
        "        self.n_iter = n_iter\n",
        "        self.epsilon = epsilon\n",
        "        self.delta = delta\n",
        "        self.lamb = lamb\n",
        "        self.n_batch = n_batch\n",
        "        self.freq_obj_eval = freq_obj_eval\n",
        "        self.n_obj_eval = n_obj_eval\n",
        "        self.random_state = random_state\n",
        "    \n",
        "    def fit(self, X, y):\n",
        "        \n",
        "        # WARNING: assumes labels are -1, 1\n",
        "        X, y = check_X_y(X, y, accept_sparse='csr', dtype=[np.float64, np.float32], order=\"C\")\n",
        "        self.classes_ = np.unique(y)    \n",
        "        \n",
        "        p = X.shape[1]\n",
        "        theta_init = np.zeros(p+1) # initialize parameters to zero\n",
        "        # define the function for value and gradient needed by SGD\n",
        "        obj_grad = lambda theta, X, y: my_logistic_obj_and_grad(theta, X, y, lamb=self.lamb)\n",
        "        theta, obj_list = private_sgd(X, y, self.gamma, self.n_iter, obj_grad, theta_init, self.epsilon, self.delta, self.n_batch,\n",
        "                              self.freq_obj_eval, self.n_obj_eval, self.random_state)\n",
        "        \n",
        "        # save the learned model into the appropriate quantities used by sklearn\n",
        "        self.intercept_ = np.expand_dims(theta[-1], axis=0)\n",
        "        self.coef_ = np.expand_dims(theta[:-1], axis=0)\n",
        "        \n",
        "        # also save list of objective values during optimization for plotting\n",
        "        self.obj_list_ = obj_list\n",
        "        \n",
        "        return self"
      ]
    },
    {
      "cell_type": "markdown",
      "metadata": {},
      "source": [
        "To implement private SGD, we add a gaussian noise to the gradient descent with the variance seen in class. Private logistic regression simply uses the new (private) gradient descent instead of the non-private one."
      ]
    },
    {
      "cell_type": "code",
      "execution_count": 33,
      "metadata": {},
      "outputs": [],
      "source": [
        "def private_classification(n_iter, gamma):\n",
        "\n",
        "    eps_list = np.linspace(0.1, 5.0, num=5)\n",
        "    delta_list = [1. / n_train**2, 1. / n_train**4]\n",
        "    n_runs = 3\n",
        "        \n",
        "    fig = plt.figure()\n",
        "    ax = fig.add_subplot(1, 1, 1)\n",
        "    accuracy = np.zeros((len(eps_list), len(delta_list), n_runs))\n",
        "    for j, delta in enumerate(delta_list):\n",
        "        for i, eps in enumerate(eps_list):\n",
        "            for r in range(n_runs):\n",
        "                print(f\"> epsilon = {eps} | delta = {delta} | run #{r}\\n\", end = '\\r')\n",
        "                mdplr = MyPrivateSGDLogisticRegression(gamma, n_iter, epsilon=eps, delta=delta, lamb=lamb, n_batch=n_batch, random_state=None)\n",
        "                mdplr.fit(X_train, y_train)\n",
        "                accuracy[i, j, r] = mdplr.score(X_test, y_test)\n",
        "        \n",
        "        \n",
        "        ax.errorbar(eps_list, accuracy[:, j, :].mean(axis=1), accuracy[:, j, :].std(axis=1),\n",
        "                        label='DP-SGD ($\\delta$=' + \"{:.2e}\".format(delta) + ')')\n",
        "\n",
        "    plt.xlabel(\"$\\epsilon$\")\n",
        "    plt.ylabel(\"Accuracy\")\n",
        "    ax.legend()"
      ]
    },
    {
      "cell_type": "markdown",
      "metadata": {},
      "source": [
        "### Test of the influence of $\\varepsilon$ and $\\delta$"
      ]
    },
    {
      "cell_type": "code",
      "execution_count": 31,
      "metadata": {
        "datalore": {
          "sheet_delimiter": false,
          "type": "CODE"
        },
        "jupyter": {
          "outputs_hidden": false,
          "source_hidden": false
        }
      },
      "outputs": [
        {
          "name": "stdout",
          "output_type": "stream",
          "text": [
            "> epsilon = 0.1 | delta = 6.550078204691475e-10 | run #0\n",
            "> epsilon = 0.1 | delta = 6.550078204691475e-10 | run #1\n",
            "> epsilon = 0.1 | delta = 6.550078204691475e-10 | run #2\n",
            "> epsilon = 1.3250000000000002 | delta = 6.550078204691475e-10 | run #0\n",
            "> epsilon = 1.3250000000000002 | delta = 6.550078204691475e-10 | run #1\n",
            "> epsilon = 1.3250000000000002 | delta = 6.550078204691475e-10 | run #2\n",
            "> epsilon = 2.5500000000000003 | delta = 6.550078204691475e-10 | run #0\n",
            "> epsilon = 2.5500000000000003 | delta = 6.550078204691475e-10 | run #1\n",
            "> epsilon = 2.5500000000000003 | delta = 6.550078204691475e-10 | run #2\n",
            "> epsilon = 3.7750000000000004 | delta = 6.550078204691475e-10 | run #0\n",
            "> epsilon = 3.7750000000000004 | delta = 6.550078204691475e-10 | run #1\n",
            "> epsilon = 3.7750000000000004 | delta = 6.550078204691475e-10 | run #2\n",
            "> epsilon = 5.0 | delta = 6.550078204691475e-10 | run #0\n",
            "> epsilon = 5.0 | delta = 6.550078204691475e-10 | run #1\n",
            "> epsilon = 5.0 | delta = 6.550078204691475e-10 | run #2\n",
            "> epsilon = 0.1 | delta = 4.29035244875743e-19 | run #0\n",
            "> epsilon = 0.1 | delta = 4.29035244875743e-19 | run #1\n",
            "> epsilon = 0.1 | delta = 4.29035244875743e-19 | run #2\n",
            "> epsilon = 1.3250000000000002 | delta = 4.29035244875743e-19 | run #0\n",
            "> epsilon = 1.3250000000000002 | delta = 4.29035244875743e-19 | run #1\n",
            "> epsilon = 1.3250000000000002 | delta = 4.29035244875743e-19 | run #2\n",
            "> epsilon = 2.5500000000000003 | delta = 4.29035244875743e-19 | run #0\n",
            "> epsilon = 2.5500000000000003 | delta = 4.29035244875743e-19 | run #1\n",
            "> epsilon = 2.5500000000000003 | delta = 4.29035244875743e-19 | run #2\n",
            "> epsilon = 3.7750000000000004 | delta = 4.29035244875743e-19 | run #0\n",
            "> epsilon = 3.7750000000000004 | delta = 4.29035244875743e-19 | run #1\n",
            "> epsilon = 3.7750000000000004 | delta = 4.29035244875743e-19 | run #2\n",
            "> epsilon = 5.0 | delta = 4.29035244875743e-19 | run #0\n",
            "> epsilon = 5.0 | delta = 4.29035244875743e-19 | run #1\n",
            "> epsilon = 5.0 | delta = 4.29035244875743e-19 | run #2\n",
            "Step #99 | Batch #38 | obj = 0.41693503300997946\r"
          ]
        },
        {
          "data": {
            "text/plain": [
              "<matplotlib.legend.Legend at 0x1e607a69040>"
            ]
          },
          "execution_count": 31,
          "metadata": {},
          "output_type": "execute_result"
        },
        {
          "data": {
            "image/png": "[encoded data removed]",
            "text/plain": [
              "<Figure size 432x288 with 1 Axes>"
            ]
          },
          "metadata": {
            "needs_background": "light"
          },
          "output_type": "display_data"
        }
      ],
      "source": [
        "lamb = 0\n",
        "n_iter = 100\n",
        "n_batch = 1000\n",
        "gamma = 0.2\n",
        "\n",
        "private_classification(n_iter, gamma)"
      ]
    },
    {
      "cell_type": "markdown",
      "metadata": {},
      "source": [
        "As expected, accuracy is lower for lower values of $\\varepsilon$ and $\\delta$: the desired privacy is stricter, leading to more noise on the gradient descent and thus reduced performance."
      ]
    },
    {
      "cell_type": "markdown",
      "metadata": {},
      "source": [
        "### Test of the influence of the step size"
      ]
    },
    {
      "cell_type": "code",
      "execution_count": 36,
      "metadata": {},
      "outputs": [
        {
          "name": "stdout",
          "output_type": "stream",
          "text": [
            "> epsilon = 0.1 | delta = 6.550078204691475e-10 | run #0\n",
            "> epsilon = 0.1 | delta = 6.550078204691475e-10 | run #1\n",
            "> epsilon = 0.1 | delta = 6.550078204691475e-10 | run #2\n",
            "> epsilon = 1.3250000000000002 | delta = 6.550078204691475e-10 | run #0\n",
            "> epsilon = 1.3250000000000002 | delta = 6.550078204691475e-10 | run #1\n",
            "> epsilon = 1.3250000000000002 | delta = 6.550078204691475e-10 | run #2\n",
            "> epsilon = 2.5500000000000003 | delta = 6.550078204691475e-10 | run #0\n",
            "> epsilon = 2.5500000000000003 | delta = 6.550078204691475e-10 | run #1\n",
            "> epsilon = 2.5500000000000003 | delta = 6.550078204691475e-10 | run #2\n",
            "> epsilon = 3.7750000000000004 | delta = 6.550078204691475e-10 | run #0\n",
            "> epsilon = 3.7750000000000004 | delta = 6.550078204691475e-10 | run #1\n",
            "> epsilon = 3.7750000000000004 | delta = 6.550078204691475e-10 | run #2\n",
            "> epsilon = 5.0 | delta = 6.550078204691475e-10 | run #0\n",
            "> epsilon = 5.0 | delta = 6.550078204691475e-10 | run #1\n",
            "> epsilon = 5.0 | delta = 6.550078204691475e-10 | run #2\n",
            "> epsilon = 0.1 | delta = 4.29035244875743e-19 | run #0\n",
            "> epsilon = 0.1 | delta = 4.29035244875743e-19 | run #1\n",
            "> epsilon = 0.1 | delta = 4.29035244875743e-19 | run #2\n",
            "> epsilon = 1.3250000000000002 | delta = 4.29035244875743e-19 | run #0\n",
            "> epsilon = 1.3250000000000002 | delta = 4.29035244875743e-19 | run #1\n",
            "> epsilon = 1.3250000000000002 | delta = 4.29035244875743e-19 | run #2\n",
            "> epsilon = 2.5500000000000003 | delta = 4.29035244875743e-19 | run #0\n",
            "> epsilon = 2.5500000000000003 | delta = 4.29035244875743e-19 | run #1\n",
            "> epsilon = 2.5500000000000003 | delta = 4.29035244875743e-19 | run #2\n",
            "> epsilon = 3.7750000000000004 | delta = 4.29035244875743e-19 | run #0\n",
            "> epsilon = 3.7750000000000004 | delta = 4.29035244875743e-19 | run #1\n",
            "> epsilon = 3.7750000000000004 | delta = 4.29035244875743e-19 | run #2\n",
            "> epsilon = 5.0 | delta = 4.29035244875743e-19 | run #0\n",
            "> epsilon = 5.0 | delta = 4.29035244875743e-19 | run #1\n",
            "> epsilon = 5.0 | delta = 4.29035244875743e-19 | run #2\n",
            "Step #99 | Batch #38 | obj = 0.45297046377381335\r"
          ]
        },
        {
          "data": {
            "image/png": "[encoded data removed]",
            "text/plain": [
              "<Figure size 432x288 with 1 Axes>"
            ]
          },
          "metadata": {
            "needs_background": "light"
          },
          "output_type": "display_data"
        }
      ],
      "source": [
        "n_iter = 100\n",
        "n_batch = 1000\n",
        "gamma = lambda t: 1 / np.sqrt(t+1)\n",
        "\n",
        "private_classification(n_iter, gamma)"
      ]
    },
    {
      "cell_type": "markdown",
      "metadata": {},
      "source": [
        "A decreasing step size for gradient descent is supposed to help with convergence. In this case, its influence is hard to observe because there did not seem to be convergence problems in the first place."
      ]
    },
    {
      "cell_type": "markdown",
      "metadata": {},
      "source": [
        "### Test of the influence of the number of iterations"
      ]
    },
    {
      "cell_type": "code",
      "execution_count": 38,
      "metadata": {},
      "outputs": [
        {
          "name": "stdout",
          "output_type": "stream",
          "text": [
            "> epsilon = 0.1 | delta = 6.550078204691475e-10 | run #0\n",
            "> epsilon = 0.1 | delta = 6.550078204691475e-10 | run #1\n",
            "> epsilon = 0.1 | delta = 6.550078204691475e-10 | run #2\n",
            "> epsilon = 1.3250000000000002 | delta = 6.550078204691475e-10 | run #0\n",
            "> epsilon = 1.3250000000000002 | delta = 6.550078204691475e-10 | run #1\n",
            "> epsilon = 1.3250000000000002 | delta = 6.550078204691475e-10 | run #2\n",
            "> epsilon = 2.5500000000000003 | delta = 6.550078204691475e-10 | run #0\n",
            "> epsilon = 2.5500000000000003 | delta = 6.550078204691475e-10 | run #1\n",
            "> epsilon = 2.5500000000000003 | delta = 6.550078204691475e-10 | run #2\n",
            "> epsilon = 3.7750000000000004 | delta = 6.550078204691475e-10 | run #0\n",
            "> epsilon = 3.7750000000000004 | delta = 6.550078204691475e-10 | run #1\n",
            "> epsilon = 3.7750000000000004 | delta = 6.550078204691475e-10 | run #2\n",
            "> epsilon = 5.0 | delta = 6.550078204691475e-10 | run #0\n",
            "> epsilon = 5.0 | delta = 6.550078204691475e-10 | run #1\n",
            "> epsilon = 5.0 | delta = 6.550078204691475e-10 | run #2\n",
            "> epsilon = 0.1 | delta = 4.29035244875743e-19 | run #0\n",
            "> epsilon = 0.1 | delta = 4.29035244875743e-19 | run #1\n",
            "> epsilon = 0.1 | delta = 4.29035244875743e-19 | run #2\n",
            "> epsilon = 1.3250000000000002 | delta = 4.29035244875743e-19 | run #0\n",
            "> epsilon = 1.3250000000000002 | delta = 4.29035244875743e-19 | run #1\n",
            "> epsilon = 1.3250000000000002 | delta = 4.29035244875743e-19 | run #2\n",
            "> epsilon = 2.5500000000000003 | delta = 4.29035244875743e-19 | run #0\n",
            "> epsilon = 2.5500000000000003 | delta = 4.29035244875743e-19 | run #1\n",
            "> epsilon = 2.5500000000000003 | delta = 4.29035244875743e-19 | run #2\n",
            "> epsilon = 3.7750000000000004 | delta = 4.29035244875743e-19 | run #0\n",
            "> epsilon = 3.7750000000000004 | delta = 4.29035244875743e-19 | run #1\n",
            "> epsilon = 3.7750000000000004 | delta = 4.29035244875743e-19 | run #2\n",
            "> epsilon = 5.0 | delta = 4.29035244875743e-19 | run #0\n",
            "> epsilon = 5.0 | delta = 4.29035244875743e-19 | run #1\n",
            "> epsilon = 5.0 | delta = 4.29035244875743e-19 | run #2\n",
            "Step #199 | Batch #38 | obj = 0.59628960818049515\r"
          ]
        },
        {
          "data": {
            "image/png": "[encoded data removed]",
            "text/plain": [
              "<Figure size 432x288 with 1 Axes>"
            ]
          },
          "metadata": {
            "needs_background": "light"
          },
          "output_type": "display_data"
        }
      ],
      "source": [
        "n_iter = 200\n",
        "n_batch = 1000\n",
        "gamma = 0.2\n",
        "\n",
        "\n",
        "private_classification(n_iter, gamma)"
      ]
    },
    {
      "cell_type": "markdown",
      "metadata": {},
      "source": [
        "With more iterations, accuracy seems to increase overall, which was to be expected. This leads to good performance even with lower values of $\\varepsilon$ and $\\delta$."
      ]
    }
  ],
  "metadata": {
    "datalore": {
      "base_environment": "default",
      "computation_mode": "JUPYTER",
      "package_manager": "pip",
      "packages": [],
      "version": 1
    },
    "interpreter": {
      "hash": "5c7a02607861a5057e1d62a2006e259fdb8ddc0867b84f038715ad8928cc603b"
    },
    "kernelspec": {
      "display_name": "Python 3.8.11 64-bit ('sdia-estimation': conda)",
      "language": "python",
      "name": "python3"
    },
    "language_info": {
      "codemirror_mode": {
        "name": "ipython",
        "version": 3
      },
      "file_extension": ".py",
      "mimetype": "text/x-python",
      "name": "python",
      "nbconvert_exporter": "python",
      "pygments_lexer": "ipython3",
      "version": "3.8.11"
    }
  },
  "nbformat": 4,
  "nbformat_minor": 4
}
