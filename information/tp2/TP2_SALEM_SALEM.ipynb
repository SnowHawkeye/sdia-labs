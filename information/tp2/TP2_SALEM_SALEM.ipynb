{
  "cells": [
    {
      "attachments": {},
      "cell_type": "markdown",
      "metadata": {
        "datalore": {
          "sheet_delimiter": false
        }
      },
      "source": [
        "### Noms et Prénoms du binôme :\n",
        "- Hadrien SALEM\n",
        "- Emilie SALEM\n",
        "---"
      ]
    },
    {
      "attachments": {},
      "cell_type": "markdown",
      "metadata": {
        "datalore": {
          "sheet_delimiter": false
        }
      },
      "source": [
        "# TP en Watermarking - TP2\n",
        "\n",
        "---\n",
        "\n",
        "## Patrick Bas, CNRS, CRIStAL\n",
        "\n",
        "---\n",
        "\n",
        "\n",
        " "
      ]
    },
    {
      "attachments": {},
      "cell_type": "markdown",
      "metadata": {
        "datalore": {
          "sheet_delimiter": false
        }
      },
      "source": [
        "## Tatouage par également de spectre et attaques de sécurité\n",
        "\n",
        "### 2.1 Notations et rappels:\n",
        "\n",
        "Les notations sont identiques à celles vues en cours. Le procédé d'insertion est le schéma par étalement de spectre vu en cours.\n",
        "\n",
        "* X = matrice de $N_{i}$ vecteurs originaux de taille $N_{v}$ ($N_{i}$ colonnes, $N_{v}$ lignes). $N_{i}$ représente par exemple le nombre de contenu traités, et $N_{v}$ le nombre de composantes tatouées par contenu. **Note**: chaque colonne de X peut par exemple représenter des composantes d'une image.\n",
        "* $N_{o}$ représente le nombre de contenus tatoués observés par l'adversaire et utilisés pour construire son attaque\n",
        "* $N_{i}$ représente le nombre de contenus tatoués utilisés pour calculer pratiquement le taux d'erreur (voir BER)\n",
        "* Y = matrice de contenus tatoués\n",
        "* Z = matrice de contenus tatoués et perturbés\n",
        "* k clé secrète de norme unitaire\n",
        "* $m_{1}$: bit inséré, converti en +1, -1 \n",
        "* $\\alpha$: paramètre de distorsion\n",
        "* BER: Bit Error Rate, taux d'erreur binaire ou encore probabilité d'erreur empirique de décodage\n",
        "* DWR: « Document to Watermark Ratio » $DWR=10\\log_{10}(\\sum x_{i}^{2}/\\sum w_{i}^{2})$, permet de mesurer la distorsion ($DWR=0$ $\\Leftrightarrow$ $\\sigma_{X}^{2}=\\sigma_{W}^{2}$ ). Permet de mesurer la distortion. Distortion nulle $DWR=\\infty$, distortion importante $DWR \\rightarrow 0$ \n",
        "\n",
        "#### Rappels:\n",
        "* L'objectif du récepteur est de bien décoder $m_{1}$, possiblement en ayant une distortion qui ne soit pas trop importante\n",
        "* Ici, les objectifs de l'adversaire sont d'estimer la clé k puis d'effacer le message inséré. Pour s'assurer que l'adversaire a bien réussi à estimer la clé, il calculera la correlation normalisée entre le vecteur k et son estimation.\n",
        "\n",
        "**N'oubliez pas d'exporter votre TP en html lors de sa remise**\n"
      ]
    },
    {
      "cell_type": "code",
      "execution_count": 136,
      "metadata": {
        "datalore": {
          "sheet_delimiter": false
        }
      },
      "outputs": [],
      "source": [
        "%matplotlib inline  \n",
        "\n",
        "import numpy as np\n",
        "import matplotlib.pyplot as plt\n",
        "from scipy.special import erf\n",
        "from sklearn.decomposition import FastICA"
      ]
    },
    {
      "attachments": {},
      "cell_type": "markdown",
      "metadata": {
        "datalore": {
          "sheet_delimiter": false
        }
      },
      "source": [
        "## Scénario 1: Attaque à Messages connus, 1 bit\n",
        "* Mise en route: Quel est le BER cible de l'adversaire ?\n",
        "* Mettre en place l'attaque liée à ce scénario\n",
        "* Etudier l'impact de $N_{o}$ et de $\\alpha$ sur le BER après attaque"
      ]
    },
    {
      "attachments": {},
      "cell_type": "markdown",
      "metadata": {
        "datalore": {
          "sheet_delimiter": false
        }
      },
      "source": [
        "## Réponses \n",
        "\n",
        "- Le BER cible de l'adversaire est de $0.5$ : en effet, si le contenu n'est pas tatoué, on fait une erreur sur deux lors du décodage du message. Autrement dit, on ne peut plus retrouver le message inséré (puisque le message inséré a été effacé).\n",
        "- Voir code ci-dessous, en particulier l'implémentation de `hatk` en utilisant la formule : \n",
        "  $$\n",
        "  \\hat k_1 = \\frac{1}{\\alpha N_o} \\sum - (-1)^m y_i\n",
        "  $$\n",
        "- Comme on peut le voir sur la courbe \"`BER après attaque en fonction du nombre No d'observations utilisées`\", plus $N_o$ augmente plus le BER se rapproche de la valeur cible $0.5$. En effet, plus on fait d'observations, mieux on est capable d'estimer la valeur de $k$ (moyenne empirique) ce qui permet de retirer le message $m$ efficacement.\n",
        "- La courbe \"`BER après attaque en fonction du coefficient alpha`\" montre que plus le coefficient $\\alpha$ augmente, plus on semble se rapprocher et osciller autour de la valeur cible $0.5$. En effet, plus le coefficient de distorsion est important, plus il est facile de déterminer la direction correspondant à la clé (vecteurs bien polarisés)."
      ]
    },
    {
      "cell_type": "code",
      "execution_count": 137,
      "metadata": {
        "datalore": {
          "sheet_delimiter": false
        }
      },
      "outputs": [],
      "source": [
        "Nv = 100 # Size of the vector\n",
        "Ni = 10000 # Max number of observations"
      ]
    },
    {
      "cell_type": "code",
      "execution_count": 138,
      "metadata": {
        "datalore": {
          "sheet_delimiter": false
        }
      },
      "outputs": [
        {
          "name": "stdout",
          "output_type": "stream",
          "text": [
            "alpha:  2\n",
            "No:  100\n",
            "DWR:  13.979400086720377  dB\n",
            "practical bit error rate:\n",
            "0.0251\n",
            "Normalised correlation between the true key and the estimated key\n",
            "[0.89367955]\n",
            "practical bit error rate after security attack\n",
            "0.4094\n",
            "\n",
            "\n",
            "alpha:  2\n",
            "No:  200\n",
            "DWR:  13.979400086720377  dB\n",
            "practical bit error rate:\n",
            "0.0235\n"
          ]
        },
        {
          "name": "stderr",
          "output_type": "stream",
          "text": [
            "/var/folders/fx/rw1v2lnj1vs1g3c69ms3ck940000gn/T/ipykernel_12701/430683797.py:28: DeprecationWarning: `np.float` is a deprecated alias for the builtin `float`. To silence this warning, use `float` by itself. Doing this will not modify any behavior and is safe. If you specifically wanted the numpy scalar type, use `np.float64` here.\n",
            "Deprecated in NumPy 1.20; for more details and guidance: https://numpy.org/devdocs/release/1.20.0-notes.html#deprecations\n",
            "  print(np.sum(cY != m1)/np.float(Ni))\n",
            "/var/folders/fx/rw1v2lnj1vs1g3c69ms3ck940000gn/T/ipykernel_12701/430683797.py:3: DeprecationWarning: `np.float` is a deprecated alias for the builtin `float`. To silence this warning, use `float` by itself. Doing this will not modify any behavior and is safe. If you specifically wanted the numpy scalar type, use `np.float64` here.\n",
            "Deprecated in NumPy 1.20; for more details and guidance: https://numpy.org/devdocs/release/1.20.0-notes.html#deprecations\n",
            "  return np.sum(c != m)/np.float(Ni)\n"
          ]
        },
        {
          "name": "stdout",
          "output_type": "stream",
          "text": [
            "Normalised correlation between the true key and the estimated key\n",
            "[0.94152186]\n",
            "practical bit error rate after security attack\n",
            "0.4581\n",
            "\n",
            "\n",
            "alpha:  2\n",
            "No:  300\n",
            "DWR:  13.979400086720377  dB\n",
            "practical bit error rate:\n",
            "0.0209\n",
            "Normalised correlation between the true key and the estimated key\n",
            "[0.96227778]\n",
            "practical bit error rate after security attack\n",
            "0.4686\n",
            "\n",
            "\n",
            "alpha:  2\n",
            "No:  400\n",
            "DWR:  13.979400086720377  dB\n",
            "practical bit error rate:\n",
            "0.0202\n",
            "Normalised correlation between the true key and the estimated key\n",
            "[0.96975881]\n",
            "practical bit error rate after security attack\n",
            "0.4725\n",
            "\n",
            "\n",
            "alpha:  2\n",
            "No:  500\n",
            "DWR:  13.979400086720377  dB\n",
            "practical bit error rate:\n",
            "0.0212\n",
            "Normalised correlation between the true key and the estimated key\n",
            "[0.97904477]\n",
            "practical bit error rate after security attack\n",
            "0.4816\n",
            "\n",
            "\n",
            "alpha:  2\n",
            "No:  600\n",
            "DWR:  13.979400086720377  dB\n",
            "practical bit error rate:\n",
            "0.0234\n",
            "Normalised correlation between the true key and the estimated key\n",
            "[0.98133355]\n",
            "practical bit error rate after security attack\n",
            "0.4841\n",
            "\n",
            "\n",
            "alpha:  2\n",
            "No:  700\n",
            "DWR:  13.979400086720377  dB\n",
            "practical bit error rate:\n",
            "0.0225\n",
            "Normalised correlation between the true key and the estimated key\n",
            "[0.98091089]\n",
            "practical bit error rate after security attack\n",
            "0.4795\n",
            "\n",
            "\n",
            "alpha:  2\n",
            "No:  800\n",
            "DWR:  13.979400086720377  dB\n",
            "practical bit error rate:\n",
            "0.0236\n",
            "Normalised correlation between the true key and the estimated key\n",
            "[0.98624521]\n",
            "practical bit error rate after security attack\n",
            "0.4908\n",
            "\n",
            "\n",
            "alpha:  2\n",
            "No:  900\n",
            "DWR:  13.979400086720377  dB\n",
            "practical bit error rate:\n",
            "0.0219\n",
            "Normalised correlation between the true key and the estimated key\n",
            "[0.98842963]\n",
            "practical bit error rate after security attack\n",
            "0.4954\n",
            "\n",
            "\n",
            "alpha:  2\n",
            "No:  1000\n",
            "DWR:  13.979400086720377  dB\n",
            "practical bit error rate:\n",
            "0.0235\n",
            "Normalised correlation between the true key and the estimated key\n",
            "[0.98990254]\n",
            "practical bit error rate after security attack\n",
            "0.4926\n",
            "\n",
            "\n",
            "alpha:  2\n",
            "No:  1100\n",
            "DWR:  13.979400086720377  dB\n",
            "practical bit error rate:\n",
            "0.0224\n",
            "Normalised correlation between the true key and the estimated key\n",
            "[0.98939917]\n",
            "practical bit error rate after security attack\n",
            "0.4902\n",
            "\n",
            "\n",
            "alpha:  2\n",
            "No:  1200\n",
            "DWR:  13.979400086720377  dB\n",
            "practical bit error rate:\n",
            "0.0225\n",
            "Normalised correlation between the true key and the estimated key\n",
            "[0.99092335]\n",
            "practical bit error rate after security attack\n",
            "0.4985\n",
            "\n",
            "\n",
            "alpha:  2\n",
            "No:  1300\n",
            "DWR:  13.979400086720377  dB\n",
            "practical bit error rate:\n",
            "0.0229\n",
            "Normalised correlation between the true key and the estimated key\n",
            "[0.99151267]\n",
            "practical bit error rate after security attack\n",
            "0.4919\n",
            "\n",
            "\n",
            "alpha:  2\n",
            "No:  1400\n",
            "DWR:  13.979400086720377  dB\n",
            "practical bit error rate:\n",
            "0.021\n",
            "Normalised correlation between the true key and the estimated key\n",
            "[0.99362503]\n",
            "practical bit error rate after security attack\n",
            "0.4984\n",
            "\n",
            "\n",
            "alpha:  2\n",
            "No:  1500\n",
            "DWR:  13.979400086720377  dB\n",
            "practical bit error rate:\n",
            "0.0227\n",
            "Normalised correlation between the true key and the estimated key\n",
            "[0.99046622]\n",
            "practical bit error rate after security attack\n",
            "0.4943\n",
            "\n",
            "\n",
            "alpha:  2\n",
            "No:  1600\n",
            "DWR:  13.979400086720377  dB\n",
            "practical bit error rate:\n",
            "0.0222\n",
            "Normalised correlation between the true key and the estimated key\n",
            "[0.993564]\n",
            "practical bit error rate after security attack\n",
            "0.4944\n",
            "\n",
            "\n",
            "alpha:  2\n",
            "No:  1700\n",
            "DWR:  13.979400086720377  dB\n",
            "practical bit error rate:\n",
            "0.0205\n",
            "Normalised correlation between the true key and the estimated key\n",
            "[0.99147056]\n",
            "practical bit error rate after security attack\n",
            "0.4956\n",
            "\n",
            "\n",
            "alpha:  2\n",
            "No:  1800\n",
            "DWR:  13.979400086720377  dB\n",
            "practical bit error rate:\n",
            "0.0231\n",
            "Normalised correlation between the true key and the estimated key\n",
            "[0.99406466]\n",
            "practical bit error rate after security attack\n",
            "0.4954\n",
            "\n",
            "\n",
            "alpha:  2\n",
            "No:  1900\n",
            "DWR:  13.979400086720377  dB\n",
            "practical bit error rate:\n",
            "0.0222\n",
            "Normalised correlation between the true key and the estimated key\n",
            "[0.99449725]\n",
            "practical bit error rate after security attack\n",
            "0.5003\n",
            "\n",
            "\n"
          ]
        }
      ],
      "source": [
        "def ber(Y,m,k):# Compute the Bit Error Rate between message m and the extracted message from Y using key k\n",
        "    c = np.sign(np.dot(Y.T,k))\n",
        "    return np.sum(c != m)/np.float(Ni)\n",
        "\n",
        "def norm_corr(hatk,k): # Correlation between k and its estimate\n",
        "    hatk = hatk / np.sqrt(np.dot(hatk.T,hatk)) # Normalize\n",
        "    corrN = np.abs(np.dot(hatk.T,k))/(np.linalg.norm(hatk)*np.linalg.norm(k)) # Compute the Normalised correlation\n",
        "    return corrN\n",
        "\n",
        "def do_process(alpha,No):\n",
        "    \n",
        "    print('alpha: ',alpha)\n",
        "    print('No: ',No)\n",
        "\n",
        "    X = np.random.randn(Nv,Ni) # Generate Ni random host vectors\n",
        "    k = np.random.randn(Nv,1) # Generate the Watermark\n",
        "    k = k / np.sqrt(np.dot(k.T,k)) # Normalize the watermark\n",
        "\n",
        "    m1 = np.ones((Ni,1)) # Scenario with Known Messages: generate only ones, to be changed for the WOA attack!!!\n",
        "    K = np.dot(k,m1.T) # Generate the matrix of watermarks (each column contains m1_i*k)\n",
        "    W = alpha*K\n",
        "    Y = X + W # perform embedding\n",
        "    DWR = 10*np.log10(Nv/alpha**2) # Set the Document to Watermark Ratio, in dB\n",
        "    print('DWR: ',DWR,' dB')\n",
        "\n",
        "    cY = np.sign(np.dot(Y.T,k)) # Computation of the decoded 'bits' (here -1 or +1)\n",
        "    print('practical bit error rate:')\n",
        "    print(np.sum(cY != m1)/np.float(Ni)) \n",
        "\n",
        "    # Attack\n",
        "    Y_obs = Y[:,:No]\n",
        "    \n",
        "    hatk = np.zeros(Nv)\n",
        "    for v in range(Nv): # For each component of the key\n",
        "        for i in range(No): # Sum on observations\n",
        "            hatk[v] += -((-1)**m1[i])*Y_obs[v][i]/(alpha*No)\n",
        "    hatk = hatk / np.sqrt(np.dot(hatk.T,hatk)) # We need to Normalize\n",
        "    \n",
        "    corrN = np.abs(np.dot(hatk.T,k))/(np.linalg.norm(hatk)*np.linalg.norm(k)) # Compute the Normalised correlation\n",
        "    print('Normalised correlation between the true key and the estimated key')\n",
        "    print(corrN)\n",
        "\n",
        "    hatk = np.reshape(hatk,(Nv,1)) # We need to reshape\n",
        "\n",
        "    YA = Y - alpha*np.dot(hatk,m1.T) # KMA: perform the removal attack\n",
        "    practical_ber = ber(YA,m1,k)\n",
        "    print('practical bit error rate after security attack')\n",
        "    print(practical_ber)\n",
        "    print('\\n')\n",
        "    return practical_ber, corrN\n",
        "    \n",
        "\n",
        "alpha = 2 # Tune the power of the watermark here\n",
        "\n",
        "ber_list_No = []\n",
        "corrN_list_No = []\n",
        "No_list = np.arange(100,2000,100)\n",
        "\n",
        "for No in No_list:\n",
        "    practical_ber, corrN = do_process(alpha,No)\n",
        "    ber_list_No.append(practical_ber)\n",
        "    corrN_list_No.append(corrN)"
      ]
    },
    {
      "cell_type": "code",
      "execution_count": 139,
      "metadata": {
        "datalore": {
          "sheet_delimiter": false
        }
      },
      "outputs": [
        {
          "data": {
            "text/plain": [
              "[<matplotlib.lines.Line2D at 0x2d8812af0>]"
            ]
          },
          "execution_count": 139,
          "metadata": {},
          "output_type": "execute_result"
        },
        {
          "data": {
            "image/png": "[encoded data removed]",
            "text/plain": [
              "<Figure size 1440x504 with 2 Axes>"
            ]
          },
          "metadata": {
            "needs_background": "light"
          },
          "output_type": "display_data"
        }
      ],
      "source": [
        "plt.figure(figsize=(20,7))\n",
        "\n",
        "plt.subplot(121)\n",
        "plt.title(\"BER après attaque en fonction du nombre No d'observations utilisées\")\n",
        "plt.xlabel(\"Nombre d'observations No\")\n",
        "plt.ylabel(\"BER (en bits)\")\n",
        "plt.plot(No_list, ber_list_No)\n",
        "\n",
        "plt.subplot(122)\n",
        "plt.title(\"Corrélation normalisée après attaque en fonction du nombre No d'observations utilisées\")\n",
        "plt.xlabel(\"Nombre d'observations No\")\n",
        "plt.ylabel(\"Corrélation normalisée\")\n",
        "plt.plot(No_list, corrN_list_No)"
      ]
    },
    {
      "cell_type": "code",
      "execution_count": 140,
      "metadata": {
        "datalore": {
          "sheet_delimiter": false
        }
      },
      "outputs": [
        {
          "name": "stdout",
          "output_type": "stream",
          "text": [
            "alpha:  1\n",
            "No:  1000\n",
            "DWR:  20.0  dB\n",
            "practical bit error rate:\n",
            "0.1577\n"
          ]
        },
        {
          "name": "stderr",
          "output_type": "stream",
          "text": [
            "/var/folders/fx/rw1v2lnj1vs1g3c69ms3ck940000gn/T/ipykernel_12701/430683797.py:28: DeprecationWarning: `np.float` is a deprecated alias for the builtin `float`. To silence this warning, use `float` by itself. Doing this will not modify any behavior and is safe. If you specifically wanted the numpy scalar type, use `np.float64` here.\n",
            "Deprecated in NumPy 1.20; for more details and guidance: https://numpy.org/devdocs/release/1.20.0-notes.html#deprecations\n",
            "  print(np.sum(cY != m1)/np.float(Ni))\n"
          ]
        },
        {
          "name": "stdout",
          "output_type": "stream",
          "text": [
            "Normalised correlation between the true key and the estimated key\n",
            "[0.95935319]\n",
            "practical bit error rate after security attack\n",
            "0.4858\n",
            "\n",
            "\n",
            "alpha:  2\n",
            "No:  1000\n",
            "DWR:  13.979400086720377  dB\n",
            "practical bit error rate:\n",
            "0.0238\n"
          ]
        },
        {
          "name": "stderr",
          "output_type": "stream",
          "text": [
            "/var/folders/fx/rw1v2lnj1vs1g3c69ms3ck940000gn/T/ipykernel_12701/430683797.py:3: DeprecationWarning: `np.float` is a deprecated alias for the builtin `float`. To silence this warning, use `float` by itself. Doing this will not modify any behavior and is safe. If you specifically wanted the numpy scalar type, use `np.float64` here.\n",
            "Deprecated in NumPy 1.20; for more details and guidance: https://numpy.org/devdocs/release/1.20.0-notes.html#deprecations\n",
            "  return np.sum(c != m)/np.float(Ni)\n"
          ]
        },
        {
          "name": "stdout",
          "output_type": "stream",
          "text": [
            "Normalised correlation between the true key and the estimated key\n",
            "[0.98934511]\n",
            "practical bit error rate after security attack\n",
            "0.489\n",
            "\n",
            "\n",
            "alpha:  3\n",
            "No:  1000\n",
            "DWR:  10.45757490560675  dB\n",
            "practical bit error rate:\n",
            "0.0013\n",
            "Normalised correlation between the true key and the estimated key\n",
            "[0.99359996]\n",
            "practical bit error rate after security attack\n",
            "0.4849\n",
            "\n",
            "\n",
            "alpha:  4\n",
            "No:  1000\n",
            "DWR:  7.958800173440752  dB\n",
            "practical bit error rate:\n",
            "0.0\n",
            "Normalised correlation between the true key and the estimated key\n",
            "[0.99759681]\n",
            "practical bit error rate after security attack\n",
            "0.4911\n",
            "\n",
            "\n",
            "alpha:  5\n",
            "No:  1000\n",
            "DWR:  6.020599913279624  dB\n",
            "practical bit error rate:\n",
            "0.0\n",
            "Normalised correlation between the true key and the estimated key\n",
            "[0.9980917]\n",
            "practical bit error rate after security attack\n",
            "0.5003\n",
            "\n",
            "\n",
            "alpha:  6\n",
            "No:  1000\n",
            "DWR:  4.436974992327127  dB\n",
            "practical bit error rate:\n",
            "0.0\n",
            "Normalised correlation between the true key and the estimated key\n",
            "[0.99898398]\n",
            "practical bit error rate after security attack\n",
            "0.4917\n",
            "\n",
            "\n",
            "alpha:  7\n",
            "No:  1000\n",
            "DWR:  3.0980391997148637  dB\n",
            "practical bit error rate:\n",
            "0.0\n",
            "Normalised correlation between the true key and the estimated key\n",
            "[0.99900636]\n",
            "practical bit error rate after security attack\n",
            "0.5033\n",
            "\n",
            "\n",
            "alpha:  8\n",
            "No:  1000\n",
            "DWR:  1.9382002601611283  dB\n",
            "practical bit error rate:\n",
            "0.0\n",
            "Normalised correlation between the true key and the estimated key\n",
            "[0.99932718]\n",
            "practical bit error rate after security attack\n",
            "0.4964\n",
            "\n",
            "\n",
            "alpha:  9\n",
            "No:  1000\n",
            "DWR:  0.9151498112135024  dB\n",
            "practical bit error rate:\n",
            "0.0\n",
            "Normalised correlation between the true key and the estimated key\n",
            "[0.99938231]\n",
            "practical bit error rate after security attack\n",
            "0.4977\n",
            "\n",
            "\n",
            "alpha:  10\n",
            "No:  1000\n",
            "DWR:  0.0  dB\n",
            "practical bit error rate:\n",
            "0.0\n",
            "Normalised correlation between the true key and the estimated key\n",
            "[0.99956833]\n",
            "practical bit error rate after security attack\n",
            "0.495\n",
            "\n",
            "\n",
            "alpha:  11\n",
            "No:  1000\n",
            "DWR:  -0.8278537031645007  dB\n",
            "practical bit error rate:\n",
            "0.0\n",
            "Normalised correlation between the true key and the estimated key\n",
            "[0.99954149]\n",
            "practical bit error rate after security attack\n",
            "0.5032\n",
            "\n",
            "\n",
            "alpha:  12\n",
            "No:  1000\n",
            "DWR:  -1.5836249209524966  dB\n",
            "practical bit error rate:\n",
            "0.0\n",
            "Normalised correlation between the true key and the estimated key\n",
            "[0.99965714]\n",
            "practical bit error rate after security attack\n",
            "0.5055\n",
            "\n",
            "\n",
            "alpha:  13\n",
            "No:  1000\n",
            "DWR:  -2.2788670461367353  dB\n",
            "practical bit error rate:\n",
            "0.0\n",
            "Normalised correlation between the true key and the estimated key\n",
            "[0.99960851]\n",
            "practical bit error rate after security attack\n",
            "0.5055\n",
            "\n",
            "\n",
            "alpha:  14\n",
            "No:  1000\n",
            "DWR:  -2.92256071356476  dB\n",
            "practical bit error rate:\n",
            "0.0\n",
            "Normalised correlation between the true key and the estimated key\n",
            "[0.99972178]\n",
            "practical bit error rate after security attack\n",
            "0.5014\n",
            "\n",
            "\n",
            "alpha:  15\n",
            "No:  1000\n",
            "DWR:  -3.521825181113625  dB\n",
            "practical bit error rate:\n",
            "0.0\n",
            "Normalised correlation between the true key and the estimated key\n",
            "[0.99979098]\n",
            "practical bit error rate after security attack\n",
            "0.4967\n",
            "\n",
            "\n",
            "alpha:  16\n",
            "No:  1000\n",
            "DWR:  -4.082399653118496  dB\n",
            "practical bit error rate:\n",
            "0.0\n",
            "Normalised correlation between the true key and the estimated key\n",
            "[0.99982416]\n",
            "practical bit error rate after security attack\n",
            "0.4967\n",
            "\n",
            "\n",
            "alpha:  17\n",
            "No:  1000\n",
            "DWR:  -4.608978427565479  dB\n",
            "practical bit error rate:\n",
            "0.0\n",
            "Normalised correlation between the true key and the estimated key\n",
            "[0.99986594]\n",
            "practical bit error rate after security attack\n",
            "0.493\n",
            "\n",
            "\n",
            "alpha:  18\n",
            "No:  1000\n",
            "DWR:  -5.105450102066121  dB\n",
            "practical bit error rate:\n",
            "0.0\n",
            "Normalised correlation between the true key and the estimated key\n",
            "[0.99985236]\n",
            "practical bit error rate after security attack\n",
            "0.4938\n",
            "\n",
            "\n",
            "alpha:  19\n",
            "No:  1000\n",
            "DWR:  -5.575072019056579  dB\n",
            "practical bit error rate:\n",
            "0.0\n",
            "Normalised correlation between the true key and the estimated key\n",
            "[0.99986422]\n",
            "practical bit error rate after security attack\n",
            "0.5017\n",
            "\n",
            "\n"
          ]
        }
      ],
      "source": [
        "ber_list_alpha = []\n",
        "corrN_list_alpha = []\n",
        "alpha_list = np.arange(1,20)\n",
        "\n",
        "for alpha in alpha_list:\n",
        "    practical_ber, corrN_alpha = do_process(alpha,No=1000)\n",
        "    ber_list_alpha.append(practical_ber)\n",
        "    corrN_list_alpha.append(corrN_alpha)"
      ]
    },
    {
      "cell_type": "code",
      "execution_count": 141,
      "metadata": {
        "datalore": {
          "sheet_delimiter": false
        }
      },
      "outputs": [
        {
          "data": {
            "text/plain": [
              "[<matplotlib.lines.Line2D at 0x28a5d2b80>]"
            ]
          },
          "execution_count": 141,
          "metadata": {},
          "output_type": "execute_result"
        },
        {
          "data": {
            "image/png": "[encoded data removed]",
            "text/plain": [
              "<Figure size 1440x504 with 2 Axes>"
            ]
          },
          "metadata": {
            "needs_background": "light"
          },
          "output_type": "display_data"
        }
      ],
      "source": [
        "plt.figure(figsize=(20,7))\n",
        "\n",
        "plt.subplot(121)\n",
        "plt.title(\"BER après attaque en fonction du coefficient alpha\")\n",
        "plt.xlabel(\"Coefficient alpha\")\n",
        "plt.ylabel(\"BER (en bits)\")\n",
        "plt.plot(alpha_list, ber_list_alpha)\n",
        "\n",
        "plt.subplot(122)\n",
        "plt.title(\"Corrélation normalisée après attaque en fonction du nombre No d'observations utilisées\")\n",
        "plt.xlabel(\"Coefficient alpha\")\n",
        "plt.ylabel(\"Corrélation normalisée\")\n",
        "plt.plot(alpha_list, corrN_list_alpha)"
      ]
    },
    {
      "attachments": {},
      "cell_type": "markdown",
      "metadata": {
        "datalore": {
          "sheet_delimiter": false
        }
      },
      "source": [
        "## Scénario 2, Attaque à messages inconnus, 1bit\n",
        "* Note: la fonction `np.linalg.eig` peut être utilisée pour effectuer une décomposition en valeurs et vecteurs propres.\n",
        "* Note: pour effacer le message inséré, il conviendra au préalable d'estimer le bit inséré, cela peut se faire via `m_est = np.sign(np.dot(Y.T,hatk))` où `hatk` est la clé estimée\n",
        "* Mettre en place l'attaque\n",
        "* Etudier l'impact de $N_{o}$ et de $\\alpha$ sur le BER après attaque"
      ]
    },
    {
      "attachments": {},
      "cell_type": "markdown",
      "metadata": {
        "datalore": {
          "sheet_delimiter": false
        }
      },
      "source": [
        "## Réponses\n",
        "\n",
        "* Encore une fois, plus on augmente le nombre d'observations $N_{o}$, plus on se rapproche de la valeur de BER cible $0.5$. Cependant, contrairement au premier scénario d'attaque, il faut plus d'observations pour s'en rapprocher, et même comme cela le résultat est moins bon (plus proche de $0.47$ que de $0.5$). En effet, on ne connaît plus le message ce qui le rend plus difficile à trouver, et nécessite d'inférer la direction de plus grande variance en se basant sur des observations.\n",
        "* De même, plus on augmente le coefficient $\\alpha$, plus le BER se rapproche de $0.5$ pour la même raison qu'au scénario précédent. En effet, lorsque la distortion est importante, les vecteurs sont très polarisés, ce qui rend plus facile la détermination de la direction de plus grande variance par la PCA."
      ]
    },
    {
      "cell_type": "code",
      "execution_count": 142,
      "metadata": {
        "datalore": {
          "sheet_delimiter": false
        }
      },
      "outputs": [
        {
          "data": {
            "text/plain": [
              "[<matplotlib.lines.Line2D at 0x28aaa8370>]"
            ]
          },
          "execution_count": 142,
          "metadata": {},
          "output_type": "execute_result"
        },
        {
          "data": {
            "image/png": "[encoded data removed]",
            "text/plain": [
              "<Figure size 1440x504 with 2 Axes>"
            ]
          },
          "metadata": {
            "needs_background": "light"
          },
          "output_type": "display_data"
        }
      ],
      "source": [
        "plt.figure(figsize=(20,7))\n",
        "\n",
        "plt.subplot(121)\n",
        "plt.title(\"BER après attaque en fonction du nombre No d'observations utilisées\")\n",
        "plt.xlabel(\"Nombre d'observations No\")\n",
        "plt.ylabel(\"BER (en bits)\")\n",
        "plt.plot(No_list, ber_list_No)\n",
        "\n",
        "plt.subplot(122)\n",
        "plt.title(\"Corrélation normalisée après attaque en fonction du nombre No d'observations utilisées\")\n",
        "plt.xlabel(\"Nombre d'observations No\")\n",
        "plt.ylabel(\"Corrélation normalisée\")\n",
        "plt.plot(No_list, np.ravel(corrN_list_No))"
      ]
    },
    {
      "cell_type": "code",
      "execution_count": 143,
      "metadata": {
        "datalore": {
          "sheet_delimiter": false
        }
      },
      "outputs": [
        {
          "name": "stdout",
          "output_type": "stream",
          "text": [
            "2nd Scenario\n",
            "alpha:  2\n",
            "No:  100\n",
            "Normalised correlation between the true key and the estimated key: 0.874449475345941\n",
            "bit error rate after security attack: 0.3608\n",
            "\n",
            "\n",
            "alpha:  2\n",
            "No:  200\n",
            "Normalised correlation between the true key and the estimated key: 0.9334131790028172\n",
            "bit error rate after security attack: 0.4217\n",
            "\n",
            "\n",
            "alpha:  2\n",
            "No:  300\n",
            "Normalised correlation between the true key and the estimated key: 0.9515189235165024\n"
          ]
        },
        {
          "name": "stderr",
          "output_type": "stream",
          "text": [
            "/var/folders/fx/rw1v2lnj1vs1g3c69ms3ck940000gn/T/ipykernel_12701/430683797.py:3: DeprecationWarning: `np.float` is a deprecated alias for the builtin `float`. To silence this warning, use `float` by itself. Doing this will not modify any behavior and is safe. If you specifically wanted the numpy scalar type, use `np.float64` here.\n",
            "Deprecated in NumPy 1.20; for more details and guidance: https://numpy.org/devdocs/release/1.20.0-notes.html#deprecations\n",
            "  return np.sum(c != m)/np.float(Ni)\n"
          ]
        },
        {
          "name": "stdout",
          "output_type": "stream",
          "text": [
            "bit error rate after security attack: 0.4321\n",
            "\n",
            "\n",
            "alpha:  2\n",
            "No:  400\n",
            "Normalised correlation between the true key and the estimated key: 0.953198331098135\n",
            "bit error rate after security attack: 0.4378\n",
            "\n",
            "\n",
            "alpha:  2\n",
            "No:  500\n",
            "Normalised correlation between the true key and the estimated key: 0.9722179252986443\n",
            "bit error rate after security attack: 0.4504\n",
            "\n",
            "\n",
            "alpha:  2\n",
            "No:  600\n",
            "Normalised correlation between the true key and the estimated key: 0.9732333807202465\n",
            "bit error rate after security attack: 0.4454\n",
            "\n",
            "\n",
            "alpha:  2\n",
            "No:  700\n",
            "Normalised correlation between the true key and the estimated key: 0.9798919357536815\n",
            "bit error rate after security attack: 0.4679\n",
            "\n",
            "\n",
            "alpha:  2\n",
            "No:  800\n",
            "Normalised correlation between the true key and the estimated key: 0.980738070187044\n",
            "bit error rate after security attack: 0.4624\n",
            "\n",
            "\n",
            "alpha:  2\n",
            "No:  900\n",
            "Normalised correlation between the true key and the estimated key: 0.9865547474451375\n",
            "bit error rate after security attack: 0.4587\n",
            "\n",
            "\n",
            "alpha:  2\n",
            "No:  1000\n",
            "Normalised correlation between the true key and the estimated key: 0.983072522574123\n",
            "bit error rate after security attack: 0.455\n",
            "\n",
            "\n",
            "alpha:  2\n",
            "No:  1100\n",
            "Normalised correlation between the true key and the estimated key: 0.986486863608552\n",
            "bit error rate after security attack: 0.4634\n",
            "\n",
            "\n",
            "alpha:  2\n",
            "No:  1200\n",
            "Normalised correlation between the true key and the estimated key: 0.9862294073476346\n",
            "bit error rate after security attack: 0.4579\n",
            "\n",
            "\n",
            "alpha:  2\n",
            "No:  1300\n",
            "Normalised correlation between the true key and the estimated key: 0.98804768284973\n",
            "bit error rate after security attack: 0.4696\n",
            "\n",
            "\n",
            "alpha:  2\n",
            "No:  1400\n",
            "Normalised correlation between the true key and the estimated key: 0.9883093335873538\n",
            "bit error rate after security attack: 0.459\n",
            "\n",
            "\n",
            "alpha:  2\n",
            "No:  1500\n",
            "Normalised correlation between the true key and the estimated key: 0.9902328191625993\n",
            "bit error rate after security attack: 0.466\n",
            "\n",
            "\n",
            "alpha:  2\n",
            "No:  1600\n",
            "Normalised correlation between the true key and the estimated key: 0.9909520411160275\n",
            "bit error rate after security attack: 0.4726\n",
            "\n",
            "\n",
            "alpha:  2\n",
            "No:  1700\n",
            "Normalised correlation between the true key and the estimated key: 0.9915614482746333\n",
            "bit error rate after security attack: 0.4686\n",
            "\n",
            "\n",
            "alpha:  2\n",
            "No:  1800\n",
            "Normalised correlation between the true key and the estimated key: 0.992893915866674\n",
            "bit error rate after security attack: 0.467\n",
            "\n",
            "\n",
            "alpha:  2\n",
            "No:  1900\n",
            "Normalised correlation between the true key and the estimated key: 0.9933315666913013\n",
            "bit error rate after security attack: 0.4734\n",
            "\n",
            "\n"
          ]
        }
      ],
      "source": [
        "# 2dn scenario, scenario with KMA \n",
        "print('2nd Scenario')\n",
        "\n",
        "def do_process(alpha,No):\n",
        "    \n",
        "    print('alpha: ',alpha)\n",
        "    print('No: ',No)\n",
        "\n",
        "    X = np.random.randn(Nv,Ni) # Generate Ni random host vectors\n",
        "    k = np.random.randn(Nv,1) # Generate de Watermark\n",
        "    k = k / np.sqrt(np.dot(k.T,k)) # Normalize the watermark\n",
        "\n",
        "    m1 = np.sign(np.random.randn(Ni,1)) #Scenario with unknow messages, first bit\n",
        "\n",
        "    K = np.dot(k,m1.T) # Generate the matrix of watermarks (each column contains m1_i*k)\n",
        "\n",
        "    W = alpha*K\n",
        "\n",
        "    Y = X + W # perform embedding\n",
        "\n",
        "    # Attack\n",
        "    Y_obs = Y[:,:No]\n",
        "\n",
        "    cov = np.cov(Y_obs)\n",
        "    eigvals, eigvects = np.linalg.eig(cov)\n",
        "\n",
        "    idx = eigvals.argsort()[::-1]   \n",
        "    eigvals = eigvals[idx]\n",
        "    eigvects = eigvects[:,idx]\n",
        "    \n",
        "    hatk = eigvects[:,0]\n",
        "    hatk = np.reshape(hatk,(Nv,1)) # You might need to reshape the estimated key\n",
        "    corrN = norm_corr(hatk,k) # To ease the writing we use the norm_corr function\n",
        "    print(f'Normalised correlation between the true key and the estimated key: {corrN[0][0]}')\n",
        "\n",
        "    m_est = np.sign(np.dot(Y.T,hatk))\n",
        "    YA = Y - alpha*np.dot(hatk,m_est.T) # KMA: perform the removal attack\n",
        "\n",
        "    print(f'bit error rate after security attack: {ber(YA,m1,k)}')\n",
        "    print('\\n')\n",
        "    return practical_ber, corrN\n",
        "\n",
        "\n",
        "    \n",
        "alpha = 2 # Tune the power of the watermark here\n",
        "\n",
        "ber_list_No = []\n",
        "corrN_list_No = []\n",
        "No_list = np.arange(100,2000,100)\n",
        "\n",
        "for No in No_list:\n",
        "    practical_ber, corrN = do_process(alpha,No)\n",
        "    ber_list_No.append(practical_ber)\n",
        "    corrN_list_No.append(corrN)"
      ]
    },
    {
      "cell_type": "code",
      "execution_count": 144,
      "metadata": {
        "datalore": {
          "sheet_delimiter": false
        }
      },
      "outputs": [
        {
          "name": "stdout",
          "output_type": "stream",
          "text": [
            "alpha:  1\n",
            "No:  1000\n",
            "Normalised correlation between the true key and the estimated key: 0.9161241741080193\n",
            "bit error rate after security attack: 0.3126\n",
            "\n",
            "\n",
            "alpha:  2\n",
            "No:  1000\n",
            "Normalised correlation between the true key and the estimated key: 0.9855995488671342\n",
            "bit error rate after security attack: 0.4653\n",
            "\n",
            "\n",
            "alpha:  3\n",
            "No:  1000\n",
            "Normalised correlation between the true key and the estimated key: 0.9938997755461336\n",
            "bit error rate after security attack: 0.4915\n",
            "\n",
            "\n",
            "alpha:  4\n",
            "No:  1000\n",
            "Normalised correlation between the true key and the estimated key: 0.9968925165087241\n",
            "bit error rate after security attack: 0.4975"
          ]
        },
        {
          "name": "stderr",
          "output_type": "stream",
          "text": [
            "/var/folders/fx/rw1v2lnj1vs1g3c69ms3ck940000gn/T/ipykernel_12701/430683797.py:3: DeprecationWarning: `np.float` is a deprecated alias for the builtin `float`. To silence this warning, use `float` by itself. Doing this will not modify any behavior and is safe. If you specifically wanted the numpy scalar type, use `np.float64` here.\n",
            "Deprecated in NumPy 1.20; for more details and guidance: https://numpy.org/devdocs/release/1.20.0-notes.html#deprecations\n",
            "  return np.sum(c != m)/np.float(Ni)\n"
          ]
        },
        {
          "name": "stdout",
          "output_type": "stream",
          "text": [
            "\n",
            "\n",
            "\n",
            "alpha:  5\n",
            "No:  1000\n",
            "Normalised correlation between the true key and the estimated key: 0.9982817147480001\n",
            "bit error rate after security attack: 0.4908\n",
            "\n",
            "\n",
            "alpha:  6\n",
            "No:  1000\n",
            "Normalised correlation between the true key and the estimated key: 0.9986188096625784\n",
            "bit error rate after security attack: 0.4978\n",
            "\n",
            "\n",
            "alpha:  7\n",
            "No:  1000\n",
            "Normalised correlation between the true key and the estimated key: 0.9989440296485188\n",
            "bit error rate after security attack: 0.5116\n",
            "\n",
            "\n",
            "alpha:  8\n",
            "No:  1000\n",
            "Normalised correlation between the true key and the estimated key: 0.9991172897529165\n",
            "bit error rate after security attack: 0.4982\n",
            "\n",
            "\n",
            "alpha:  9\n",
            "No:  1000\n",
            "Normalised correlation between the true key and the estimated key: 0.9993459054157525\n",
            "bit error rate after security attack: 0.4948\n",
            "\n",
            "\n",
            "alpha:  10\n",
            "No:  1000\n",
            "Normalised correlation between the true key and the estimated key: 0.9995776154995917\n",
            "bit error rate after security attack: 0.5005\n",
            "\n",
            "\n",
            "alpha:  11\n",
            "No:  1000\n",
            "Normalised correlation between the true key and the estimated key: 0.9996626032431771\n",
            "bit error rate after security attack: 0.4999\n",
            "\n",
            "\n",
            "alpha:  12\n",
            "No:  1000\n",
            "Normalised correlation between the true key and the estimated key: 0.9997115628844799\n",
            "bit error rate after security attack: 0.4925\n",
            "\n",
            "\n",
            "alpha:  13\n",
            "No:  1000\n",
            "Normalised correlation between the true key and the estimated key: 0.9997117253446384\n",
            "bit error rate after security attack: 0.4961\n",
            "\n",
            "\n",
            "alpha:  14\n",
            "No:  1000\n",
            "Normalised correlation between the true key and the estimated key: 0.9997267760716524\n",
            "bit error rate after security attack: 0.4972\n",
            "\n",
            "\n",
            "alpha:  15\n",
            "No:  1000\n",
            "Normalised correlation between the true key and the estimated key: 0.9997555124849281\n",
            "bit error rate after security attack: 0.4984\n",
            "\n",
            "\n",
            "alpha:  16\n",
            "No:  1000\n",
            "Normalised correlation between the true key and the estimated key: 0.9997647667953339\n",
            "bit error rate after security attack: 0.505\n",
            "\n",
            "\n",
            "alpha:  17\n",
            "No:  1000\n",
            "Normalised correlation between the true key and the estimated key: 0.9998499093468329\n",
            "bit error rate after security attack: 0.4995\n",
            "\n",
            "\n",
            "alpha:  18\n",
            "No:  1000\n",
            "Normalised correlation between the true key and the estimated key: 0.9998546306481576\n",
            "bit error rate after security attack: 0.4922\n",
            "\n",
            "\n",
            "alpha:  19\n",
            "No:  1000\n",
            "Normalised correlation between the true key and the estimated key: 0.9998778908264838\n",
            "bit error rate after security attack: 0.5042\n",
            "\n",
            "\n"
          ]
        }
      ],
      "source": [
        "ber_list_alpha = []\n",
        "corrN_list_alpha = []\n",
        "alpha_list = np.arange(1,20)\n",
        "\n",
        "for alpha in alpha_list:\n",
        "    practical_ber, corrN_alpha = do_process(alpha,No=1000)\n",
        "    ber_list_alpha.append(practical_ber)\n",
        "    corrN_list_alpha.append(corrN_alpha)"
      ]
    },
    {
      "cell_type": "code",
      "execution_count": 145,
      "metadata": {
        "datalore": {
          "sheet_delimiter": false
        }
      },
      "outputs": [
        {
          "name": "stdout",
          "output_type": "stream",
          "text": [
            "alpha:  1\n",
            "No:  1000\n",
            "Normalised correlation between the true key and the estimated key: 0.9303664655789174\n",
            "bit error rate after security attack: 0.3253\n",
            "\n",
            "\n",
            "alpha:  2\n",
            "No:  1000\n",
            "Normalised correlation between the true key and the estimated key: 0.9867359617919714\n",
            "bit error rate after security attack: 0.4554\n",
            "\n",
            "\n",
            "alpha:  3\n",
            "No:  1000\n",
            "Normalised correlation between the true key and the estimated key: 0.9936817801482468\n",
            "bit error rate after security attack: 0.4922\n",
            "\n",
            "\n",
            "alpha:  4\n",
            "No:  1000\n",
            "Normalised correlation between the true key and the estimated key: 0.9962366003286737\n",
            "bit error rate after security attack: 0.4942\n",
            "\n",
            "\n",
            "alpha:  5\n",
            "No:  1000\n",
            "Normalised correlation between the true key and the estimated key: 0.9978631365301044\n"
          ]
        },
        {
          "name": "stderr",
          "output_type": "stream",
          "text": [
            "/var/folders/fx/rw1v2lnj1vs1g3c69ms3ck940000gn/T/ipykernel_12701/430683797.py:3: DeprecationWarning: `np.float` is a deprecated alias for the builtin `float`. To silence this warning, use `float` by itself. Doing this will not modify any behavior and is safe. If you specifically wanted the numpy scalar type, use `np.float64` here.\n",
            "Deprecated in NumPy 1.20; for more details and guidance: https://numpy.org/devdocs/release/1.20.0-notes.html#deprecations\n",
            "  return np.sum(c != m)/np.float(Ni)\n"
          ]
        },
        {
          "name": "stdout",
          "output_type": "stream",
          "text": [
            "bit error rate after security attack: 0.4963\n",
            "\n",
            "\n",
            "alpha:  6\n",
            "No:  1000\n",
            "Normalised correlation between the true key and the estimated key: 0.9989443391310783\n",
            "bit error rate after security attack: 0.5026\n",
            "\n",
            "\n",
            "alpha:  7\n",
            "No:  1000\n",
            "Normalised correlation between the true key and the estimated key: 0.9988472096209328\n",
            "bit error rate after security attack: 0.5036\n",
            "\n",
            "\n",
            "alpha:  8\n",
            "No:  1000\n",
            "Normalised correlation between the true key and the estimated key: 0.9994017046051216\n",
            "bit error rate after security attack: 0.4982\n",
            "\n",
            "\n",
            "alpha:  9\n",
            "No:  1000\n",
            "Normalised correlation between the true key and the estimated key: 0.9991795729546183\n",
            "bit error rate after security attack: 0.5009\n",
            "\n",
            "\n"
          ]
        }
      ],
      "source": [
        "ber_list_alpha = []\n",
        "corrN_list_alpha = []\n",
        "alpha_list = np.arange(1,10)\n",
        "\n",
        "for alpha in alpha_list:\n",
        "    practical_ber, corrN_alpha = do_process(alpha,No=1000)\n",
        "    ber_list_alpha.append(practical_ber)\n",
        "    corrN_list_alpha.append(corrN_alpha)"
      ]
    },
    {
      "cell_type": "code",
      "execution_count": 146,
      "metadata": {
        "datalore": {
          "sheet_delimiter": false
        }
      },
      "outputs": [
        {
          "data": {
            "text/plain": [
              "[<matplotlib.lines.Line2D at 0x28af63ee0>]"
            ]
          },
          "execution_count": 146,
          "metadata": {},
          "output_type": "execute_result"
        },
        {
          "data": {
            "image/png": "[encoded data removed]",
            "text/plain": [
              "<Figure size 1440x504 with 2 Axes>"
            ]
          },
          "metadata": {
            "needs_background": "light"
          },
          "output_type": "display_data"
        }
      ],
      "source": [
        "plt.figure(figsize=(20,7))\n",
        "\n",
        "plt.subplot(121)\n",
        "plt.title(\"BER après attaque en fonction du coefficient alpha\")\n",
        "plt.xlabel(\"Coefficient alpha\")\n",
        "plt.ylabel(\"BER (en bits)\")\n",
        "plt.plot(alpha_list, ber_list_alpha)\n",
        "\n",
        "plt.subplot(122)\n",
        "plt.title(\"Corrélation normalisée après attaque en fonction du nombre No d'observations utilisées\")\n",
        "plt.xlabel(\"Coefficient alpha\")\n",
        "plt.ylabel(\"Corrélation normalisée\")\n",
        "plt.plot(alpha_list, np.ravel(corrN_list_alpha))"
      ]
    },
    {
      "attachments": {},
      "cell_type": "markdown",
      "metadata": {
        "datalore": {
          "sheet_delimiter": false
        }
      },
      "source": [
        "## Scénario 3: Attaque à messages inconnus, 2 bits\n",
        "* Vérifier que l'attaque précédente ne permet pas d'estimer les deux clés. \n",
        "* Estimer au moins l'une des clés utilisée\n",
        "    * Note: on pourra utiliser l'algorithme `FastICA` pour estimer les deux composantes indépendantes \n",
        "    * Pour cela on pourra appeler la fonction fastica en spécifiant que l'analyse en composantes indépendantes s'effectuera sur un sous espace engendré par les *deux premières composantes principales* (`n_components=2`), et en récupérant les colonnes de la matrice de mélange A (obtenue via `ica.mixing_`) estimé par l'algorithme.\n",
        "    * Vérifier, à l'aide de la corrélation normalisée, que cette méthode permet d'estimer la clé `k1`\n",
        "* Mettre en place l'attaque qui permet d'effacter un bit sur les deux\n",
        "* Etudier l'impact de $N_{o}$ et de $\\alpha$ sur le BER après attaque"
      ]
    },
    {
      "cell_type": "code",
      "execution_count": null,
      "metadata": {},
      "outputs": [],
      "source": []
    },
    {
      "attachments": {},
      "cell_type": "markdown",
      "metadata": {
        "datalore": {
          "sheet_delimiter": false
        }
      },
      "source": [
        "## Réponse\n",
        "\n",
        "* Nous avons essayé d'appliquer la méthode du scénario 2 (PCA) pour la détermination de la clé *k1*: on observe que les corrélations normalisées ont des valeurs avoisinant 70%, ce qui n'est pas du tout satisfaisant: l'attaque précédente ne permet donc pas d'estimer les deux clés.\n",
        "* Les courbes ci-dessous montrent qu'avec la méthode ICA, on est bien capable de d'estimer les deux composantes indépendantes. En particulier, pour la clé `k1`, on obtient des BER proches de 0.5 et des corrélations normalisées proches de 1, ce qui confirme l'efficacité de la méthode.\n",
        "* L'impact de $N_o$ et de $\\alpha$ est le même ici que pour les deux autres scénarios: le nombre d'observations améliore la qualité de la solution et le coefficient alpha rend plus simple la détermination des directions indépendantes."
      ]
    },
    {
      "cell_type": "code",
      "execution_count": 147,
      "metadata": {
        "datalore": {
          "sheet_delimiter": false
        }
      },
      "outputs": [],
      "source": [
        "# 3rd scenario, 2 bits\n",
        "\n",
        "m1 = np.sign(np.random.randn(Ni,1))#Scenario with unknow messages, first bit\n",
        "m2 = np.sign(np.random.randn(Ni,1))#Scenario with unknow messages, second bit\n",
        "\n",
        "k1 = np.random.randn(Nv,1) # Generate de Watermark\n",
        "k1 = k1 / np.sqrt(np.dot(k1.T,k1)) # Normalize the watermark\n",
        "\n",
        "k2 = np.random.randn(Nv,1) # Generate de Watermark\n",
        "k2 = k2 / np.sqrt(np.dot(k2.T,k2)) # Normalize the watermark"
      ]
    },
    {
      "cell_type": "code",
      "execution_count": 148,
      "metadata": {
        "datalore": {
          "sheet_delimiter": false
        }
      },
      "outputs": [
        {
          "name": "stdout",
          "output_type": "stream",
          "text": [
            "Normalised correlation between the estimated key and k1: 0.7063655019164785\n",
            "Normalised correlation between the estimated key and k2: 0.7520177937735308\n",
            "bit error rate after security attack for the first bit: 0.01\n",
            "bit error rate after security attack for the second bit: 0.0038\n",
            "\n",
            "\n",
            "\n",
            "Normalised correlation between the estimated key and k1: 0.6923629682174282\n",
            "Normalised correlation between the estimated key and k2: 0.7370000783732824\n",
            "bit error rate after security attack for the first bit: 0.0073\n",
            "bit error rate after security attack for the second bit: 0.0012\n",
            "\n",
            "\n",
            "\n",
            "Normalised correlation between the estimated key and k1: 0.6991707072287925\n",
            "Normalised correlation between the estimated key and k2: 0.7434900433848068\n",
            "bit error rate after security attack for the first bit: 0.0075\n",
            "bit error rate after security attack for the second bit: 0.0015\n",
            "\n",
            "\n",
            "\n",
            "Normalised correlation between the estimated key and k1: 0.7833679963715808\n",
            "Normalised correlation between the estimated key and k2: 0.7417316796719707\n"
          ]
        },
        {
          "name": "stderr",
          "output_type": "stream",
          "text": [
            "/var/folders/fx/rw1v2lnj1vs1g3c69ms3ck940000gn/T/ipykernel_12701/430683797.py:3: DeprecationWarning: `np.float` is a deprecated alias for the builtin `float`. To silence this warning, use `float` by itself. Doing this will not modify any behavior and is safe. If you specifically wanted the numpy scalar type, use `np.float64` here.\n",
            "Deprecated in NumPy 1.20; for more details and guidance: https://numpy.org/devdocs/release/1.20.0-notes.html#deprecations\n",
            "  return np.sum(c != m)/np.float(Ni)\n"
          ]
        },
        {
          "name": "stdout",
          "output_type": "stream",
          "text": [
            "bit error rate after security attack for the first bit: 0.0163\n",
            "bit error rate after security attack for the second bit: 0.019\n",
            "\n",
            "\n",
            "\n",
            "Normalised correlation between the estimated key and k1: 0.7571653656238585\n",
            "Normalised correlation between the estimated key and k2: 0.7137499021902685\n",
            "bit error rate after security attack for the first bit: 0.0034\n",
            "bit error rate after security attack for the second bit: 0.0119\n",
            "\n",
            "\n",
            "\n",
            "Normalised correlation between the estimated key and k1: 0.6995507772535587\n",
            "Normalised correlation between the estimated key and k2: 0.743547331041385\n",
            "bit error rate after security attack for the first bit: 0.0092\n",
            "bit error rate after security attack for the second bit: 0.0015\n",
            "\n",
            "\n",
            "\n",
            "Normalised correlation between the estimated key and k1: 0.7478911182630495\n",
            "Normalised correlation between the estimated key and k2: 0.704217736253069\n",
            "bit error rate after security attack for the first bit: 0.002\n",
            "bit error rate after security attack for the second bit: 0.0099\n",
            "\n",
            "\n",
            "\n",
            "Normalised correlation between the estimated key and k1: 0.7584956434466805\n",
            "Normalised correlation between the estimated key and k2: 0.7153765327745585\n",
            "bit error rate after security attack for the first bit: 0.0037\n",
            "bit error rate after security attack for the second bit: 0.0135\n",
            "\n",
            "\n",
            "\n",
            "Normalised correlation between the estimated key and k1: 0.7340072406067821\n",
            "Normalised correlation between the estimated key and k2: 0.6890592963948436\n",
            "bit error rate after security attack for the first bit: 0.0011\n",
            "bit error rate after security attack for the second bit: 0.0063\n",
            "\n",
            "\n",
            "\n",
            "Normalised correlation between the estimated key and k1: 0.7001990060077153\n",
            "Normalised correlation between the estimated key and k2: 0.744179068315314\n",
            "bit error rate after security attack for the first bit: 0.0103\n",
            "bit error rate after security attack for the second bit: 0.0022\n",
            "\n",
            "\n",
            "\n",
            "Normalised correlation between the estimated key and k1: 0.6907877506132726\n",
            "Normalised correlation between the estimated key and k2: 0.7353830717938808\n",
            "bit error rate after security attack for the first bit: 0.0062\n",
            "bit error rate after security attack for the second bit: 0.0017\n",
            "\n",
            "\n",
            "\n",
            "Normalised correlation between the estimated key and k1: 0.7076562835221136\n",
            "Normalised correlation between the estimated key and k2: 0.7513688624251726\n",
            "bit error rate after security attack for the first bit: 0.0108\n",
            "bit error rate after security attack for the second bit: 0.0026\n",
            "\n",
            "\n",
            "\n",
            "Normalised correlation between the estimated key and k1: 0.7052924956899811\n",
            "Normalised correlation between the estimated key and k2: 0.7490568860385944\n",
            "bit error rate after security attack for the first bit: 0.0101\n",
            "bit error rate after security attack for the second bit: 0.0017\n",
            "\n",
            "\n",
            "\n",
            "Normalised correlation between the estimated key and k1: 0.6872085768425702\n",
            "Normalised correlation between the estimated key and k2: 0.7321084359304606\n",
            "bit error rate after security attack for the first bit: 0.0065\n",
            "bit error rate after security attack for the second bit: 0.0006\n",
            "\n",
            "\n",
            "\n",
            "Normalised correlation between the estimated key and k1: 0.6908967617933693\n",
            "Normalised correlation between the estimated key and k2: 0.7355705667813248\n",
            "bit error rate after security attack for the first bit: 0.0085\n",
            "bit error rate after security attack for the second bit: 0.0014\n",
            "\n",
            "\n",
            "\n",
            "Normalised correlation between the estimated key and k1: 0.7326900738153748\n",
            "Normalised correlation between the estimated key and k2: 0.6878956964421482\n",
            "bit error rate after security attack for the first bit: 0.0007\n",
            "bit error rate after security attack for the second bit: 0.0067\n",
            "\n",
            "\n",
            "\n",
            "Normalised correlation between the estimated key and k1: 0.7198896987744404\n",
            "Normalised correlation between the estimated key and k2: 0.7624611961226211\n",
            "bit error rate after security attack for the first bit: 0.013\n",
            "bit error rate after security attack for the second bit: 0.0046\n",
            "\n",
            "\n",
            "\n",
            "Normalised correlation between the estimated key and k1: 0.7475108536068944\n",
            "Normalised correlation between the estimated key and k2: 0.7038025893185397\n",
            "bit error rate after security attack for the first bit: 0.0018\n",
            "bit error rate after security attack for the second bit: 0.0083\n",
            "\n",
            "\n",
            "\n",
            "Normalised correlation between the estimated key and k1: 0.7455779410629038\n",
            "Normalised correlation between the estimated key and k2: 0.7016154962322518\n",
            "bit error rate after security attack for the first bit: 0.0007\n",
            "bit error rate after security attack for the second bit: 0.0089\n",
            "\n",
            "\n",
            "\n"
          ]
        }
      ],
      "source": [
        "# 3rd scenario,n 2 bits, but applying method of scenario 2\n",
        "def do_process_with_old_method(alpha,No):\n",
        "\n",
        "    X = np.random.randn(Nv,Ni) # Generate Ni random host vectors\n",
        "    K = np.dot(k1,m1.T) + np.dot(k2,m2.T) # Generate the matrix of watermarks (each column contains m1_i*k)\n",
        "    W = alpha*K\n",
        "    Y = X + W # perform embedding\n",
        "    Y_obs = Y[:,:No]\n",
        "\n",
        "    cov = np.cov(Y_obs)\n",
        "    eigvals, eigvects = np.linalg.eig(cov)\n",
        "\n",
        "    idx = eigvals.argsort()[::-1]   \n",
        "    eigvals = eigvals[idx]\n",
        "    eigvects = eigvects[:,idx]\n",
        "    \n",
        "    hatk_1 = eigvects[:,0]\n",
        "    hatk_2 = eigvects[:,1]\n",
        "\n",
        "    hatk_1 = hatk_1/np.linalg.norm(hatk_1) # Normalize the vector\n",
        "    hatk_1 = np.reshape(hatk_1,(Nv,1)) # Reshape for upcoming comparisons\n",
        "\n",
        "    hatk_2 = hatk_2/np.linalg.norm(hatk_2)\n",
        "    hatk_2 = np.reshape(hatk_2,(Nv,1))\n",
        "\n",
        "    # It is uncertain which key hatk_1 and hatk_2 correspond to, so we need to test\n",
        "    corrN_v1 = norm_corr(hatk_1,k1) # Compute the Normalised correlation\n",
        "    corrN_v2 = norm_corr(hatk_1,k2)\n",
        "    \n",
        "    if(corrN_v1 < corrN_v2) : hatk_1, hatk_2 = hatk_2, hatk_1\n",
        "\n",
        "    corrN_1 = norm_corr(hatk_1,k1)\n",
        "    print(f'Normalised correlation between the estimated key and k1: {corrN_1[0][0]}')\n",
        "\n",
        "    corrN_2 = norm_corr(hatk_2,k2) # Compute the Normalised correlation\n",
        "    print(f'Normalised correlation between the estimated key and k2: {corrN_2[0][0]}')\n",
        "\n",
        "    m1_est = np.sign(np.dot(Y.T,hatk_1))\n",
        "    m2_est = np.sign(np.dot(Y.T,hatk_2))\n",
        "    \n",
        "    YA_1 = Y - alpha*np.dot(hatk_1,m1_est.T) # KMA: perform the removal attack\n",
        "    YA_2 = Y - alpha*np.dot(hatk_2,m2_est.T)\n",
        "    \n",
        "    ber1 = ber(YA_1,m1,k1)\n",
        "    ber2 = ber(YA_2,m2,k2)\n",
        "    print(f'bit error rate after security attack for the first bit: {ber1}')\n",
        "    print(f'bit error rate after security attack for the second bit: {ber2}')\n",
        "    print('\\n\\n')\n",
        "\n",
        "# One example, can be used to draw plots\n",
        "for No in range(100,2000,100):\n",
        "    do_process_with_old_method(alpha,No)"
      ]
    },
    {
      "cell_type": "code",
      "execution_count": 149,
      "metadata": {
        "datalore": {
          "sheet_delimiter": false
        }
      },
      "outputs": [
        {
          "name": "stdout",
          "output_type": "stream",
          "text": [
            "alpha:  2\n",
            "No:  100\n",
            "Normalised correlation between the estimated key and k1: 0.8344140160011109\n",
            "Normalised correlation between the estimated key and k2: 0.8750623463476104\n"
          ]
        },
        {
          "name": "stderr",
          "output_type": "stream",
          "text": [
            "/var/folders/fx/rw1v2lnj1vs1g3c69ms3ck940000gn/T/ipykernel_12701/430683797.py:3: DeprecationWarning: `np.float` is a deprecated alias for the builtin `float`. To silence this warning, use `float` by itself. Doing this will not modify any behavior and is safe. If you specifically wanted the numpy scalar type, use `np.float64` here.\n",
            "Deprecated in NumPy 1.20; for more details and guidance: https://numpy.org/devdocs/release/1.20.0-notes.html#deprecations\n",
            "  return np.sum(c != m)/np.float(Ni)\n"
          ]
        },
        {
          "name": "stdout",
          "output_type": "stream",
          "text": [
            "bit error rate after security attack for the first bit: 0.3192\n",
            "bit error rate after security attack for the second bit: 0.353\n",
            "\n",
            "\n",
            "\n",
            "alpha:  2\n",
            "No:  200\n",
            "Normalised correlation between the estimated key and k1: 0.9336781420911895\n",
            "Normalised correlation between the estimated key and k2: 0.9217404038696934\n",
            "bit error rate after security attack for the first bit: 0.4173\n",
            "bit error rate after security attack for the second bit: 0.3981\n",
            "\n",
            "\n",
            "\n",
            "alpha:  2\n",
            "No:  300\n"
          ]
        },
        {
          "name": "stderr",
          "output_type": "stream",
          "text": [
            "/var/folders/fx/rw1v2lnj1vs1g3c69ms3ck940000gn/T/ipykernel_12701/430683797.py:3: DeprecationWarning: `np.float` is a deprecated alias for the builtin `float`. To silence this warning, use `float` by itself. Doing this will not modify any behavior and is safe. If you specifically wanted the numpy scalar type, use `np.float64` here.\n",
            "Deprecated in NumPy 1.20; for more details and guidance: https://numpy.org/devdocs/release/1.20.0-notes.html#deprecations\n",
            "  return np.sum(c != m)/np.float(Ni)\n"
          ]
        },
        {
          "name": "stdout",
          "output_type": "stream",
          "text": [
            "Normalised correlation between the estimated key and k1: 0.9538208445013925\n",
            "Normalised correlation between the estimated key and k2: 0.9465336321611663\n",
            "bit error rate after security attack for the first bit: 0.4269\n",
            "bit error rate after security attack for the second bit: 0.4302\n",
            "\n",
            "\n",
            "\n",
            "alpha:  2\n",
            "No:  400\n"
          ]
        },
        {
          "name": "stderr",
          "output_type": "stream",
          "text": [
            "/var/folders/fx/rw1v2lnj1vs1g3c69ms3ck940000gn/T/ipykernel_12701/430683797.py:3: DeprecationWarning: `np.float` is a deprecated alias for the builtin `float`. To silence this warning, use `float` by itself. Doing this will not modify any behavior and is safe. If you specifically wanted the numpy scalar type, use `np.float64` here.\n",
            "Deprecated in NumPy 1.20; for more details and guidance: https://numpy.org/devdocs/release/1.20.0-notes.html#deprecations\n",
            "  return np.sum(c != m)/np.float(Ni)\n"
          ]
        },
        {
          "name": "stdout",
          "output_type": "stream",
          "text": [
            "Normalised correlation between the estimated key and k1: 0.9512085431909412\n",
            "Normalised correlation between the estimated key and k2: 0.9620906639150659\n"
          ]
        },
        {
          "name": "stderr",
          "output_type": "stream",
          "text": [
            "/var/folders/fx/rw1v2lnj1vs1g3c69ms3ck940000gn/T/ipykernel_12701/430683797.py:3: DeprecationWarning: `np.float` is a deprecated alias for the builtin `float`. To silence this warning, use `float` by itself. Doing this will not modify any behavior and is safe. If you specifically wanted the numpy scalar type, use `np.float64` here.\n",
            "Deprecated in NumPy 1.20; for more details and guidance: https://numpy.org/devdocs/release/1.20.0-notes.html#deprecations\n",
            "  return np.sum(c != m)/np.float(Ni)\n"
          ]
        },
        {
          "name": "stdout",
          "output_type": "stream",
          "text": [
            "bit error rate after security attack for the first bit: 0.439\n",
            "bit error rate after security attack for the second bit: 0.4464\n",
            "\n",
            "\n",
            "\n",
            "alpha:  2\n",
            "No:  500\n",
            "Normalised correlation between the estimated key and k1: 0.9690046320124476\n",
            "Normalised correlation between the estimated key and k2: 0.9686150651917365\n",
            "bit error rate after security attack for the first bit: 0.4511\n",
            "bit error rate after security attack for the second bit: 0.4479\n",
            "\n",
            "\n",
            "\n",
            "alpha:  2\n",
            "No:  600\n"
          ]
        },
        {
          "name": "stderr",
          "output_type": "stream",
          "text": [
            "/var/folders/fx/rw1v2lnj1vs1g3c69ms3ck940000gn/T/ipykernel_12701/430683797.py:3: DeprecationWarning: `np.float` is a deprecated alias for the builtin `float`. To silence this warning, use `float` by itself. Doing this will not modify any behavior and is safe. If you specifically wanted the numpy scalar type, use `np.float64` here.\n",
            "Deprecated in NumPy 1.20; for more details and guidance: https://numpy.org/devdocs/release/1.20.0-notes.html#deprecations\n",
            "  return np.sum(c != m)/np.float(Ni)\n"
          ]
        },
        {
          "name": "stdout",
          "output_type": "stream",
          "text": [
            "Normalised correlation between the estimated key and k1: 0.9790202824009446\n",
            "Normalised correlation between the estimated key and k2: 0.9622587141249206\n",
            "bit error rate after security attack for the first bit: 0.4565\n",
            "bit error rate after security attack for the second bit: 0.442\n",
            "\n",
            "\n",
            "\n",
            "alpha:  2\n",
            "No:  700\n"
          ]
        },
        {
          "name": "stderr",
          "output_type": "stream",
          "text": [
            "/var/folders/fx/rw1v2lnj1vs1g3c69ms3ck940000gn/T/ipykernel_12701/430683797.py:3: DeprecationWarning: `np.float` is a deprecated alias for the builtin `float`. To silence this warning, use `float` by itself. Doing this will not modify any behavior and is safe. If you specifically wanted the numpy scalar type, use `np.float64` here.\n",
            "Deprecated in NumPy 1.20; for more details and guidance: https://numpy.org/devdocs/release/1.20.0-notes.html#deprecations\n",
            "  return np.sum(c != m)/np.float(Ni)\n"
          ]
        },
        {
          "name": "stdout",
          "output_type": "stream",
          "text": [
            "Normalised correlation between the estimated key and k1: 0.9798004301347578\n",
            "Normalised correlation between the estimated key and k2: 0.9776060857938209\n"
          ]
        },
        {
          "name": "stderr",
          "output_type": "stream",
          "text": [
            "/var/folders/fx/rw1v2lnj1vs1g3c69ms3ck940000gn/T/ipykernel_12701/430683797.py:3: DeprecationWarning: `np.float` is a deprecated alias for the builtin `float`. To silence this warning, use `float` by itself. Doing this will not modify any behavior and is safe. If you specifically wanted the numpy scalar type, use `np.float64` here.\n",
            "Deprecated in NumPy 1.20; for more details and guidance: https://numpy.org/devdocs/release/1.20.0-notes.html#deprecations\n",
            "  return np.sum(c != m)/np.float(Ni)\n"
          ]
        },
        {
          "name": "stdout",
          "output_type": "stream",
          "text": [
            "bit error rate after security attack for the first bit: 0.4522\n",
            "bit error rate after security attack for the second bit: 0.4524\n",
            "\n",
            "\n",
            "\n",
            "alpha:  2\n",
            "No:  800\n",
            "Normalised correlation between the estimated key and k1: 0.9821229692648465\n",
            "Normalised correlation between the estimated key and k2: 0.9813673159373769\n"
          ]
        },
        {
          "name": "stderr",
          "output_type": "stream",
          "text": [
            "/var/folders/fx/rw1v2lnj1vs1g3c69ms3ck940000gn/T/ipykernel_12701/430683797.py:3: DeprecationWarning: `np.float` is a deprecated alias for the builtin `float`. To silence this warning, use `float` by itself. Doing this will not modify any behavior and is safe. If you specifically wanted the numpy scalar type, use `np.float64` here.\n",
            "Deprecated in NumPy 1.20; for more details and guidance: https://numpy.org/devdocs/release/1.20.0-notes.html#deprecations\n",
            "  return np.sum(c != m)/np.float(Ni)\n"
          ]
        },
        {
          "name": "stdout",
          "output_type": "stream",
          "text": [
            "bit error rate after security attack for the first bit: 0.4562\n",
            "bit error rate after security attack for the second bit: 0.4531\n",
            "\n",
            "\n",
            "\n",
            "alpha:  2\n",
            "No:  900\n",
            "Normalised correlation between the estimated key and k1: 0.9838055488837898\n",
            "Normalised correlation between the estimated key and k2: 0.9837923886915346\n",
            "bit error rate after security attack for the first bit: 0.4589\n",
            "bit error rate after security attack for the second bit: 0.4582\n"
          ]
        },
        {
          "name": "stderr",
          "output_type": "stream",
          "text": [
            "/var/folders/fx/rw1v2lnj1vs1g3c69ms3ck940000gn/T/ipykernel_12701/430683797.py:3: DeprecationWarning: `np.float` is a deprecated alias for the builtin `float`. To silence this warning, use `float` by itself. Doing this will not modify any behavior and is safe. If you specifically wanted the numpy scalar type, use `np.float64` here.\n",
            "Deprecated in NumPy 1.20; for more details and guidance: https://numpy.org/devdocs/release/1.20.0-notes.html#deprecations\n",
            "  return np.sum(c != m)/np.float(Ni)\n"
          ]
        },
        {
          "name": "stdout",
          "output_type": "stream",
          "text": [
            "\n",
            "\n",
            "\n",
            "alpha:  2\n",
            "No:  1000\n",
            "Normalised correlation between the estimated key and k1: 0.9845549700012088\n",
            "Normalised correlation between the estimated key and k2: 0.9834959211967529\n",
            "bit error rate after security attack for the first bit: 0.4614\n",
            "bit error rate after security attack for the second bit: 0.4653\n",
            "\n",
            "\n",
            "\n",
            "alpha:  2\n",
            "No:  1100\n"
          ]
        },
        {
          "name": "stderr",
          "output_type": "stream",
          "text": [
            "/var/folders/fx/rw1v2lnj1vs1g3c69ms3ck940000gn/T/ipykernel_12701/430683797.py:3: DeprecationWarning: `np.float` is a deprecated alias for the builtin `float`. To silence this warning, use `float` by itself. Doing this will not modify any behavior and is safe. If you specifically wanted the numpy scalar type, use `np.float64` here.\n",
            "Deprecated in NumPy 1.20; for more details and guidance: https://numpy.org/devdocs/release/1.20.0-notes.html#deprecations\n",
            "  return np.sum(c != m)/np.float(Ni)\n"
          ]
        },
        {
          "name": "stdout",
          "output_type": "stream",
          "text": [
            "Normalised correlation between the estimated key and k1: 0.987053689360194\n",
            "Normalised correlation between the estimated key and k2: 0.9865633910215856\n",
            "bit error rate after security attack for the first bit: 0.4624\n",
            "bit error rate after security attack for the second bit: 0.4658\n",
            "\n",
            "\n",
            "\n",
            "alpha:  2\n",
            "No:  1200\n"
          ]
        },
        {
          "name": "stderr",
          "output_type": "stream",
          "text": [
            "/var/folders/fx/rw1v2lnj1vs1g3c69ms3ck940000gn/T/ipykernel_12701/430683797.py:3: DeprecationWarning: `np.float` is a deprecated alias for the builtin `float`. To silence this warning, use `float` by itself. Doing this will not modify any behavior and is safe. If you specifically wanted the numpy scalar type, use `np.float64` here.\n",
            "Deprecated in NumPy 1.20; for more details and guidance: https://numpy.org/devdocs/release/1.20.0-notes.html#deprecations\n",
            "  return np.sum(c != m)/np.float(Ni)\n"
          ]
        },
        {
          "name": "stdout",
          "output_type": "stream",
          "text": [
            "Normalised correlation between the estimated key and k1: 0.9866738694377131\n",
            "Normalised correlation between the estimated key and k2: 0.9854826674319852\n",
            "bit error rate after security attack for the first bit: 0.4709\n",
            "bit error rate after security attack for the second bit: 0.4649\n",
            "\n",
            "\n",
            "\n",
            "alpha:  2\n",
            "No:  1300\n"
          ]
        },
        {
          "name": "stderr",
          "output_type": "stream",
          "text": [
            "/var/folders/fx/rw1v2lnj1vs1g3c69ms3ck940000gn/T/ipykernel_12701/430683797.py:3: DeprecationWarning: `np.float` is a deprecated alias for the builtin `float`. To silence this warning, use `float` by itself. Doing this will not modify any behavior and is safe. If you specifically wanted the numpy scalar type, use `np.float64` here.\n",
            "Deprecated in NumPy 1.20; for more details and guidance: https://numpy.org/devdocs/release/1.20.0-notes.html#deprecations\n",
            "  return np.sum(c != m)/np.float(Ni)\n"
          ]
        },
        {
          "name": "stdout",
          "output_type": "stream",
          "text": [
            "Normalised correlation between the estimated key and k1: 0.9892811355017914\n",
            "Normalised correlation between the estimated key and k2: 0.9862095317607669\n",
            "bit error rate after security attack for the first bit: 0.4714\n",
            "bit error rate after security attack for the second bit: 0.4623\n",
            "\n",
            "\n",
            "\n",
            "alpha:  2\n",
            "No:  1400\n"
          ]
        },
        {
          "name": "stderr",
          "output_type": "stream",
          "text": [
            "/var/folders/fx/rw1v2lnj1vs1g3c69ms3ck940000gn/T/ipykernel_12701/430683797.py:3: DeprecationWarning: `np.float` is a deprecated alias for the builtin `float`. To silence this warning, use `float` by itself. Doing this will not modify any behavior and is safe. If you specifically wanted the numpy scalar type, use `np.float64` here.\n",
            "Deprecated in NumPy 1.20; for more details and guidance: https://numpy.org/devdocs/release/1.20.0-notes.html#deprecations\n",
            "  return np.sum(c != m)/np.float(Ni)\n"
          ]
        },
        {
          "name": "stdout",
          "output_type": "stream",
          "text": [
            "Normalised correlation between the estimated key and k1: 0.9900663406970667\n",
            "Normalised correlation between the estimated key and k2: 0.9903119832031764\n",
            "bit error rate after security attack for the first bit: 0.4712\n",
            "bit error rate after security attack for the second bit: 0.4745\n",
            "\n",
            "\n",
            "\n",
            "alpha:  2\n",
            "No:  1500\n"
          ]
        },
        {
          "name": "stderr",
          "output_type": "stream",
          "text": [
            "/var/folders/fx/rw1v2lnj1vs1g3c69ms3ck940000gn/T/ipykernel_12701/430683797.py:3: DeprecationWarning: `np.float` is a deprecated alias for the builtin `float`. To silence this warning, use `float` by itself. Doing this will not modify any behavior and is safe. If you specifically wanted the numpy scalar type, use `np.float64` here.\n",
            "Deprecated in NumPy 1.20; for more details and guidance: https://numpy.org/devdocs/release/1.20.0-notes.html#deprecations\n",
            "  return np.sum(c != m)/np.float(Ni)\n"
          ]
        },
        {
          "name": "stdout",
          "output_type": "stream",
          "text": [
            "Normalised correlation between the estimated key and k1: 0.9856649586942938\n",
            "Normalised correlation between the estimated key and k2: 0.9901594932656907\n",
            "bit error rate after security attack for the first bit: 0.4624\n",
            "bit error rate after security attack for the second bit: 0.463\n",
            "\n",
            "\n",
            "\n",
            "alpha:  2\n",
            "No:  1600\n"
          ]
        },
        {
          "name": "stderr",
          "output_type": "stream",
          "text": [
            "/var/folders/fx/rw1v2lnj1vs1g3c69ms3ck940000gn/T/ipykernel_12701/430683797.py:3: DeprecationWarning: `np.float` is a deprecated alias for the builtin `float`. To silence this warning, use `float` by itself. Doing this will not modify any behavior and is safe. If you specifically wanted the numpy scalar type, use `np.float64` here.\n",
            "Deprecated in NumPy 1.20; for more details and guidance: https://numpy.org/devdocs/release/1.20.0-notes.html#deprecations\n",
            "  return np.sum(c != m)/np.float(Ni)\n"
          ]
        },
        {
          "name": "stdout",
          "output_type": "stream",
          "text": [
            "Normalised correlation between the estimated key and k1: 0.9921472847155828\n",
            "Normalised correlation between the estimated key and k2: 0.9911801944277057\n",
            "bit error rate after security attack for the first bit: 0.4735\n",
            "bit error rate after security attack for the second bit: 0.4677\n",
            "\n",
            "\n",
            "\n",
            "alpha:  2\n",
            "No:  1700\n"
          ]
        },
        {
          "name": "stderr",
          "output_type": "stream",
          "text": [
            "/var/folders/fx/rw1v2lnj1vs1g3c69ms3ck940000gn/T/ipykernel_12701/430683797.py:3: DeprecationWarning: `np.float` is a deprecated alias for the builtin `float`. To silence this warning, use `float` by itself. Doing this will not modify any behavior and is safe. If you specifically wanted the numpy scalar type, use `np.float64` here.\n",
            "Deprecated in NumPy 1.20; for more details and guidance: https://numpy.org/devdocs/release/1.20.0-notes.html#deprecations\n",
            "  return np.sum(c != m)/np.float(Ni)\n"
          ]
        },
        {
          "name": "stdout",
          "output_type": "stream",
          "text": [
            "Normalised correlation between the estimated key and k1: 0.99053974016576\n",
            "Normalised correlation between the estimated key and k2: 0.9893844044739256\n",
            "bit error rate after security attack for the first bit: 0.4628\n",
            "bit error rate after security attack for the second bit: 0.4545\n",
            "\n",
            "\n",
            "\n",
            "alpha:  2\n",
            "No:  1800\n"
          ]
        },
        {
          "name": "stderr",
          "output_type": "stream",
          "text": [
            "/var/folders/fx/rw1v2lnj1vs1g3c69ms3ck940000gn/T/ipykernel_12701/430683797.py:3: DeprecationWarning: `np.float` is a deprecated alias for the builtin `float`. To silence this warning, use `float` by itself. Doing this will not modify any behavior and is safe. If you specifically wanted the numpy scalar type, use `np.float64` here.\n",
            "Deprecated in NumPy 1.20; for more details and guidance: https://numpy.org/devdocs/release/1.20.0-notes.html#deprecations\n",
            "  return np.sum(c != m)/np.float(Ni)\n"
          ]
        },
        {
          "name": "stdout",
          "output_type": "stream",
          "text": [
            "Normalised correlation between the estimated key and k1: 0.9917099099601743\n",
            "Normalised correlation between the estimated key and k2: 0.9918948236985602\n",
            "bit error rate after security attack for the first bit: 0.4683\n",
            "bit error rate after security attack for the second bit: 0.4637\n",
            "\n",
            "\n",
            "\n",
            "alpha:  2\n",
            "No:  1900\n"
          ]
        },
        {
          "name": "stderr",
          "output_type": "stream",
          "text": [
            "/var/folders/fx/rw1v2lnj1vs1g3c69ms3ck940000gn/T/ipykernel_12701/430683797.py:3: DeprecationWarning: `np.float` is a deprecated alias for the builtin `float`. To silence this warning, use `float` by itself. Doing this will not modify any behavior and is safe. If you specifically wanted the numpy scalar type, use `np.float64` here.\n",
            "Deprecated in NumPy 1.20; for more details and guidance: https://numpy.org/devdocs/release/1.20.0-notes.html#deprecations\n",
            "  return np.sum(c != m)/np.float(Ni)\n"
          ]
        },
        {
          "name": "stdout",
          "output_type": "stream",
          "text": [
            "Normalised correlation between the estimated key and k1: 0.9923118134026656\n",
            "Normalised correlation between the estimated key and k2: 0.9920813379765768\n",
            "bit error rate after security attack for the first bit: 0.4675\n",
            "bit error rate after security attack for the second bit: 0.4697\n",
            "\n",
            "\n",
            "\n"
          ]
        },
        {
          "name": "stderr",
          "output_type": "stream",
          "text": [
            "/var/folders/fx/rw1v2lnj1vs1g3c69ms3ck940000gn/T/ipykernel_12701/430683797.py:3: DeprecationWarning: `np.float` is a deprecated alias for the builtin `float`. To silence this warning, use `float` by itself. Doing this will not modify any behavior and is safe. If you specifically wanted the numpy scalar type, use `np.float64` here.\n",
            "Deprecated in NumPy 1.20; for more details and guidance: https://numpy.org/devdocs/release/1.20.0-notes.html#deprecations\n",
            "  return np.sum(c != m)/np.float(Ni)\n"
          ]
        }
      ],
      "source": [
        "def do_process(alpha,No):\n",
        "\n",
        "    print('alpha: ',alpha)\n",
        "    print('No: ',No)\n",
        "\n",
        "    X = np.random.randn(Nv,Ni) # Generate Ni random host vectors\n",
        "\n",
        "    K = np.dot(k1,m1.T) + np.dot(k2,m2.T) # Generate the matrix of watermarks (each column contains m1_i*k)\n",
        "\n",
        "    W = alpha*K\n",
        "\n",
        "    Y = X + W # perform embedding\n",
        "    \n",
        "    Y_obs = Y[:,:No]\n",
        "\n",
        "    ica = FastICA(n_components=2)\n",
        "    ica.fit(Y_obs.T)\n",
        "\n",
        "    hatk_1 = ica.mixing_[:,1]\n",
        "    hatk_2 = ica.mixing_[:,0]\n",
        "    \n",
        "    hatk_1 = hatk_1/np.linalg.norm(hatk_1) # Normalize the vector\n",
        "    hatk_1 = np.reshape(hatk_1,(Nv,1)) # Reshape for upcoming comparisons\n",
        "\n",
        "    hatk_2 = hatk_2/np.linalg.norm(hatk_2)\n",
        "    hatk_2 = np.reshape(hatk_2,(Nv,1))\n",
        "\n",
        "    # It is uncertain which key hatk_1 and hatk_2 correspond to, so we need to test\n",
        "    corrN_v1 = norm_corr(hatk_1,k1) # Compute the Normalised correlation\n",
        "    corrN_v2 = norm_corr(hatk_1,k2)\n",
        "    \n",
        "    if(corrN_v1 < corrN_v2) : hatk_1, hatk_2 = hatk_2, hatk_1\n",
        "\n",
        "    corrN_1 = norm_corr(hatk_1,k1)\n",
        "    print(f'Normalised correlation between the estimated key and k1: {corrN_1[0][0]}')\n",
        "\n",
        "    corrN_2 = norm_corr(hatk_2,k2) # Compute the Normalised correlation\n",
        "    print(f'Normalised correlation between the estimated key and k2: {corrN_2[0][0]}')\n",
        "\n",
        "    YA_1 = np.zeros((Nv,Ni)) # Perform the attack\n",
        "\n",
        "    m1_est = np.sign(np.dot(Y.T,hatk_1))\n",
        "    m2_est = np.sign(np.dot(Y.T,hatk_2))\n",
        "    \n",
        "    YA_1 = Y - alpha*np.dot(hatk_1,m1_est.T) # KMA: perform the removal attack\n",
        "    YA_2 = Y - alpha*np.dot(hatk_2,m2_est.T)\n",
        "    \n",
        "    ber1 = ber(YA_1,m1,k1)\n",
        "    ber2 = ber(YA_2,m2,k2)\n",
        "    print(f'bit error rate after security attack for the first bit: {ber1}')\n",
        "    print(f'bit error rate after security attack for the second bit: {ber2}')\n",
        "    print('\\n\\n')\n",
        "    # We only return the BER and correlation for the first bit\n",
        "    return ber1, corrN_1[0][0]\n",
        "\n",
        "alpha = 2 # Tune the power of the watermark here\n",
        "\n",
        "ber_list_No = []\n",
        "corrN_list_No = []\n",
        "No_list = np.arange(100,2000,100)\n",
        "\n",
        "# One example, can be used to draw plots\n",
        "for No in range(100,2000,100):\n",
        "    practical_ber, corrN = do_process(alpha,No)\n",
        "    ber_list_No.append(practical_ber)\n",
        "    corrN_list_No.append(corrN)"
      ]
    },
    {
      "cell_type": "code",
      "execution_count": 150,
      "metadata": {
        "datalore": {
          "sheet_delimiter": false
        }
      },
      "outputs": [
        {
          "data": {
            "text/plain": [
              "[<matplotlib.lines.Line2D at 0x28c042820>]"
            ]
          },
          "execution_count": 150,
          "metadata": {},
          "output_type": "execute_result"
        },
        {
          "data": {
            "image/png": "[encoded data removed]",
            "text/plain": [
              "<Figure size 1440x504 with 2 Axes>"
            ]
          },
          "metadata": {
            "needs_background": "light"
          },
          "output_type": "display_data"
        }
      ],
      "source": [
        "plt.figure(figsize=(20,7))\n",
        "\n",
        "plt.subplot(121)\n",
        "plt.title(\"BER du bit1 après attaque en fonction du nombre No d'observations utilisées\")\n",
        "plt.xlabel(\"Nombre d'observations No\")\n",
        "plt.ylabel(\"BER (en bits)\")\n",
        "plt.plot(No_list, ber_list_No)\n",
        "\n",
        "plt.subplot(122)\n",
        "plt.title(\"Corrélation normalisée du bit1 après attaque en fonction du nombre No d'observations utilisées\")\n",
        "plt.xlabel(\"Nombre d'observations No\")\n",
        "plt.ylabel(\"Corrélation normalisée\")\n",
        "plt.plot(No_list, np.ravel(corrN_list_No))"
      ]
    },
    {
      "cell_type": "code",
      "execution_count": 151,
      "metadata": {
        "datalore": {
          "sheet_delimiter": false
        }
      },
      "outputs": [
        {
          "name": "stdout",
          "output_type": "stream",
          "text": [
            "alpha:  1\n",
            "No:  1000\n",
            "Normalised correlation between the estimated key and k1: 0.8829630523071261\n",
            "Normalised correlation between the estimated key and k2: 0.8773358201176646\n"
          ]
        },
        {
          "name": "stderr",
          "output_type": "stream",
          "text": [
            "/var/folders/fx/rw1v2lnj1vs1g3c69ms3ck940000gn/T/ipykernel_12701/430683797.py:3: DeprecationWarning: `np.float` is a deprecated alias for the builtin `float`. To silence this warning, use `float` by itself. Doing this will not modify any behavior and is safe. If you specifically wanted the numpy scalar type, use `np.float64` here.\n",
            "Deprecated in NumPy 1.20; for more details and guidance: https://numpy.org/devdocs/release/1.20.0-notes.html#deprecations\n",
            "  return np.sum(c != m)/np.float(Ni)\n"
          ]
        },
        {
          "name": "stdout",
          "output_type": "stream",
          "text": [
            "bit error rate after security attack for the first bit: 0.2999\n",
            "bit error rate after security attack for the second bit: 0.2833\n",
            "\n",
            "\n",
            "\n",
            "alpha:  2\n",
            "No:  1000\n",
            "Normalised correlation between the estimated key and k1: 0.9820682309957506\n",
            "Normalised correlation between the estimated key and k2: 0.9870139266671931\n",
            "bit error rate after security attack for the first bit: 0.4535\n",
            "bit error rate after security attack for the second bit: 0.4649\n",
            "\n",
            "\n",
            "\n",
            "alpha:  3\n",
            "No:  1000\n"
          ]
        },
        {
          "name": "stderr",
          "output_type": "stream",
          "text": [
            "/var/folders/fx/rw1v2lnj1vs1g3c69ms3ck940000gn/T/ipykernel_12701/430683797.py:3: DeprecationWarning: `np.float` is a deprecated alias for the builtin `float`. To silence this warning, use `float` by itself. Doing this will not modify any behavior and is safe. If you specifically wanted the numpy scalar type, use `np.float64` here.\n",
            "Deprecated in NumPy 1.20; for more details and guidance: https://numpy.org/devdocs/release/1.20.0-notes.html#deprecations\n",
            "  return np.sum(c != m)/np.float(Ni)\n"
          ]
        },
        {
          "name": "stdout",
          "output_type": "stream",
          "text": [
            "Normalised correlation between the estimated key and k1: 0.9935630315938184\n",
            "Normalised correlation between the estimated key and k2: 0.992349165737338\n",
            "bit error rate after security attack for the first bit: 0.4994\n",
            "bit error rate after security attack for the second bit: 0.4943\n",
            "\n",
            "\n",
            "\n",
            "alpha:  4\n",
            "No:  1000\n"
          ]
        },
        {
          "name": "stderr",
          "output_type": "stream",
          "text": [
            "/var/folders/fx/rw1v2lnj1vs1g3c69ms3ck940000gn/T/ipykernel_12701/430683797.py:3: DeprecationWarning: `np.float` is a deprecated alias for the builtin `float`. To silence this warning, use `float` by itself. Doing this will not modify any behavior and is safe. If you specifically wanted the numpy scalar type, use `np.float64` here.\n",
            "Deprecated in NumPy 1.20; for more details and guidance: https://numpy.org/devdocs/release/1.20.0-notes.html#deprecations\n",
            "  return np.sum(c != m)/np.float(Ni)\n"
          ]
        },
        {
          "name": "stdout",
          "output_type": "stream",
          "text": [
            "Normalised correlation between the estimated key and k1: 0.9962942706315214\n",
            "Normalised correlation between the estimated key and k2: 0.9963331894741843\n"
          ]
        },
        {
          "name": "stderr",
          "output_type": "stream",
          "text": [
            "/var/folders/fx/rw1v2lnj1vs1g3c69ms3ck940000gn/T/ipykernel_12701/430683797.py:3: DeprecationWarning: `np.float` is a deprecated alias for the builtin `float`. To silence this warning, use `float` by itself. Doing this will not modify any behavior and is safe. If you specifically wanted the numpy scalar type, use `np.float64` here.\n",
            "Deprecated in NumPy 1.20; for more details and guidance: https://numpy.org/devdocs/release/1.20.0-notes.html#deprecations\n",
            "  return np.sum(c != m)/np.float(Ni)\n"
          ]
        },
        {
          "name": "stdout",
          "output_type": "stream",
          "text": [
            "bit error rate after security attack for the first bit: 0.4867\n",
            "bit error rate after security attack for the second bit: 0.4924\n",
            "\n",
            "\n",
            "\n",
            "alpha:  5\n",
            "No:  1000\n",
            "Normalised correlation between the estimated key and k1: 0.9982568032256174\n",
            "Normalised correlation between the estimated key and k2: 0.9979593991028926\n",
            "bit error rate after security attack for the first bit: 0.492\n",
            "bit error rate after security attack for the second bit: 0.4993\n",
            "\n",
            "\n",
            "\n",
            "alpha:  6\n",
            "No:  1000\n"
          ]
        },
        {
          "name": "stderr",
          "output_type": "stream",
          "text": [
            "/var/folders/fx/rw1v2lnj1vs1g3c69ms3ck940000gn/T/ipykernel_12701/430683797.py:3: DeprecationWarning: `np.float` is a deprecated alias for the builtin `float`. To silence this warning, use `float` by itself. Doing this will not modify any behavior and is safe. If you specifically wanted the numpy scalar type, use `np.float64` here.\n",
            "Deprecated in NumPy 1.20; for more details and guidance: https://numpy.org/devdocs/release/1.20.0-notes.html#deprecations\n",
            "  return np.sum(c != m)/np.float(Ni)\n"
          ]
        },
        {
          "name": "stdout",
          "output_type": "stream",
          "text": [
            "Normalised correlation between the estimated key and k1: 0.9983169074974323\n",
            "Normalised correlation between the estimated key and k2: 0.9985008035993816\n",
            "bit error rate after security attack for the first bit: 0.498\n",
            "bit error rate after security attack for the second bit: 0.5021\n",
            "\n",
            "\n",
            "\n",
            "alpha: "
          ]
        },
        {
          "name": "stderr",
          "output_type": "stream",
          "text": [
            "/var/folders/fx/rw1v2lnj1vs1g3c69ms3ck940000gn/T/ipykernel_12701/430683797.py:3: DeprecationWarning: `np.float` is a deprecated alias for the builtin `float`. To silence this warning, use `float` by itself. Doing this will not modify any behavior and is safe. If you specifically wanted the numpy scalar type, use `np.float64` here.\n",
            "Deprecated in NumPy 1.20; for more details and guidance: https://numpy.org/devdocs/release/1.20.0-notes.html#deprecations\n",
            "  return np.sum(c != m)/np.float(Ni)\n"
          ]
        },
        {
          "name": "stdout",
          "output_type": "stream",
          "text": [
            " 7\n",
            "No:  1000\n",
            "Normalised correlation between the estimated key and k1: 0.99868165015409\n",
            "Normalised correlation between the estimated key and k2: 0.9989068206189234\n",
            "bit error rate after security attack for the first bit: 0.4912\n",
            "bit error rate after security attack for the second bit: 0.4882\n",
            "\n",
            "\n",
            "\n",
            "alpha:  8\n",
            "No:  1000\n"
          ]
        },
        {
          "name": "stderr",
          "output_type": "stream",
          "text": [
            "/var/folders/fx/rw1v2lnj1vs1g3c69ms3ck940000gn/T/ipykernel_12701/430683797.py:3: DeprecationWarning: `np.float` is a deprecated alias for the builtin `float`. To silence this warning, use `float` by itself. Doing this will not modify any behavior and is safe. If you specifically wanted the numpy scalar type, use `np.float64` here.\n",
            "Deprecated in NumPy 1.20; for more details and guidance: https://numpy.org/devdocs/release/1.20.0-notes.html#deprecations\n",
            "  return np.sum(c != m)/np.float(Ni)\n"
          ]
        },
        {
          "name": "stdout",
          "output_type": "stream",
          "text": [
            "Normalised correlation between the estimated key and k1: 0.9988677064666089\n",
            "Normalised correlation between the estimated key and k2: 0.9989465554523278\n",
            "bit error rate after security attack for the first bit: 0.4932\n",
            "bit error rate after security attack for the second bit: 0.4977\n",
            "\n",
            "\n",
            "\n",
            "alpha:  9\n",
            "No:  1000\n"
          ]
        },
        {
          "name": "stderr",
          "output_type": "stream",
          "text": [
            "/var/folders/fx/rw1v2lnj1vs1g3c69ms3ck940000gn/T/ipykernel_12701/430683797.py:3: DeprecationWarning: `np.float` is a deprecated alias for the builtin `float`. To silence this warning, use `float` by itself. Doing this will not modify any behavior and is safe. If you specifically wanted the numpy scalar type, use `np.float64` here.\n",
            "Deprecated in NumPy 1.20; for more details and guidance: https://numpy.org/devdocs/release/1.20.0-notes.html#deprecations\n",
            "  return np.sum(c != m)/np.float(Ni)\n"
          ]
        },
        {
          "name": "stdout",
          "output_type": "stream",
          "text": [
            "Normalised correlation between the estimated key and k1: 0.9991150611074557\n",
            "Normalised correlation between the estimated key and k2: 0.9991205052419945\n",
            "bit error rate after security attack for the first bit: 0.4893\n",
            "bit error rate after security attack for the second bit: 0.4942\n",
            "\n",
            "\n",
            "\n"
          ]
        },
        {
          "name": "stderr",
          "output_type": "stream",
          "text": [
            "/var/folders/fx/rw1v2lnj1vs1g3c69ms3ck940000gn/T/ipykernel_12701/430683797.py:3: DeprecationWarning: `np.float` is a deprecated alias for the builtin `float`. To silence this warning, use `float` by itself. Doing this will not modify any behavior and is safe. If you specifically wanted the numpy scalar type, use `np.float64` here.\n",
            "Deprecated in NumPy 1.20; for more details and guidance: https://numpy.org/devdocs/release/1.20.0-notes.html#deprecations\n",
            "  return np.sum(c != m)/np.float(Ni)\n"
          ]
        }
      ],
      "source": [
        "ber_list_alpha = []\n",
        "corrN_list_alpha = []\n",
        "alpha_list = np.arange(1,10)\n",
        "\n",
        "for alpha in alpha_list:\n",
        "    practical_ber, corrN_alpha = do_process(alpha,No=1000)\n",
        "    ber_list_alpha.append(practical_ber)\n",
        "    corrN_list_alpha.append(corrN_alpha)"
      ]
    },
    {
      "cell_type": "code",
      "execution_count": 152,
      "metadata": {
        "datalore": {
          "sheet_delimiter": false
        }
      },
      "outputs": [
        {
          "data": {
            "text/plain": [
              "[<matplotlib.lines.Line2D at 0x28c264400>]"
            ]
          },
          "execution_count": 152,
          "metadata": {},
          "output_type": "execute_result"
        },
        {
          "data": {
            "image/png": "[encoded data removed]",
            "text/plain": [
              "<Figure size 1440x504 with 2 Axes>"
            ]
          },
          "metadata": {
            "needs_background": "light"
          },
          "output_type": "display_data"
        }
      ],
      "source": [
        "plt.figure(figsize=(20,7))\n",
        "\n",
        "plt.subplot(121)\n",
        "plt.title(\"BER du bit1 après attaque en fonction du coefficient alpha\")\n",
        "plt.xlabel(\"Coefficient alpha\")\n",
        "plt.ylabel(\"BER (en bits)\")\n",
        "plt.plot(alpha_list, ber_list_alpha)\n",
        "\n",
        "plt.subplot(122)\n",
        "plt.title(\"Corrélation normalisée du bit1 après attaque en fonction du nombre No d'observations utilisées\")\n",
        "plt.xlabel(\"Coefficient alpha\")\n",
        "plt.ylabel(\"Corrélation normalisée\")\n",
        "plt.plot(alpha_list, corrN_list_alpha)"
      ]
    },
    {
      "attachments": {},
      "cell_type": "markdown",
      "metadata": {
        "datalore": {
          "sheet_delimiter": false
        }
      },
      "source": [
        "## Pour conclure: Etude de la robustesse\n",
        "* Calculer le taux d'erreur (BER pour Bit Error Rate) théorique après ajout de bruit (voir cours)\n",
        "* Etudier l'évolution de la robustesse (via le BER) en fonction de la distortion $\\alpha$ \n",
        "* Quel compromis observe-t-on entre la sécurité et la robustesse?"
      ]
    },
    {
      "cell_type": "markdown",
      "metadata": {},
      "source": [
        "## Réponse\n",
        "\n",
        "Pour cette étude de robustesse, nous nous baserons sur le deuxième scénario.\n",
        "Même avec bruit, il semble que l'attaque reste efficace (corrélation proche de 1 et BER proche de 0.5).\n",
        "\n",
        "Il semble toutefois improbable que les indicateurs varient si peu avec $\\alpha$, et nous soupçonnons donc une erreur d'implémentation.\n",
        "Nous nous attendions à observer un compromis entre sécurité et robustesse: une plus grande sécurité implique une plus faible robustesse."
      ]
    },
    {
      "cell_type": "code",
      "execution_count": 153,
      "metadata": {
        "datalore": {
          "sheet_delimiter": false
        }
      },
      "outputs": [],
      "source": [
        "def do_process_with_noise(alpha, No, noise_std):\n",
        "    \n",
        "    X = np.random.randn(Nv,Ni) # Generate Ni random host vectors\n",
        "    k = np.random.randn(Nv,1) # Generate de Watermark\n",
        "    k = k / np.sqrt(np.dot(k.T,k)) # Normalize the watermark\n",
        "\n",
        "    m1 = np.sign(np.random.randn(Ni,1)) # Scenario with unknow messages, first bit\n",
        "\n",
        "    K = np.dot(k,m1.T) # Generate the matrix of watermarks (each column contains m1_i*k)\n",
        "    W = alpha*K\n",
        "\n",
        "    Y = X + W # perform embedding\n",
        "    Z = Y + np.random.normal(loc=0, scale=noise_std)\n",
        "\n",
        "    # Attack\n",
        "    Z_obs = Z[:,:No]\n",
        "\n",
        "    cov = np.cov(Z_obs)\n",
        "    eigvals, eigvects = np.linalg.eig(cov)\n",
        "\n",
        "    idx = eigvals.argsort()[::-1]   \n",
        "    eigvals = eigvals[idx]\n",
        "    eigvects = eigvects[:,idx]\n",
        "    \n",
        "    hatk = eigvects[:,0]\n",
        "    hatk = np.reshape(hatk,(Nv,1)) # You might need to reshape the estimated key\n",
        "    corrN = norm_corr(hatk,k) # To ease the writing we use the norm_corr function\n",
        "\n",
        "    m_est = np.sign(np.dot(Z.T,hatk))\n",
        "    ZA = Z - alpha*np.dot(hatk,m_est.T) # KMA: perform the removal attack\n",
        "\n",
        "    return practical_ber, corrN"
      ]
    },
    {
      "cell_type": "code",
      "execution_count": 154,
      "metadata": {},
      "outputs": [
        {
          "data": {
            "text/plain": [
              "[<matplotlib.lines.Line2D at 0x28c446070>]"
            ]
          },
          "execution_count": 154,
          "metadata": {},
          "output_type": "execute_result"
        },
        {
          "data": {
            "image/png": "[encoded data removed]",
            "text/plain": [
              "<Figure size 1440x504 with 2 Axes>"
            ]
          },
          "metadata": {
            "needs_background": "light"
          },
          "output_type": "display_data"
        }
      ],
      "source": [
        "ber_list_alpha = []\n",
        "corrN_list_alpha = []\n",
        "No_list = np.arange(100,2000,100)\n",
        "\n",
        "alpha_list = np.arange(1,10)\n",
        "\n",
        "for alpha in alpha_list:\n",
        "    practical_ber, corrN_alpha = do_process_with_noise(alpha,No=1000, noise_std=10)\n",
        "    ber_list_alpha.append(practical_ber)\n",
        "    corrN_list_alpha.append(corrN)\n",
        "    \n",
        "plt.figure(figsize=(20,7))\n",
        "\n",
        "plt.subplot(121)\n",
        "plt.title(\"BER du bit1 après attaque en fonction du coefficient alpha\")\n",
        "plt.xlabel(\"Coefficient alpha\")\n",
        "plt.ylabel(\"BER (en bits)\")\n",
        "plt.plot(alpha_list, ber_list_alpha)\n",
        "\n",
        "plt.subplot(122)\n",
        "plt.title(\"Corrélation normalisée du bit1 après attaque en fonction du nombre No d'observations utilisées\")\n",
        "plt.xlabel(\"Coefficient alpha\")\n",
        "plt.ylabel(\"Corrélation normalisée\")\n",
        "plt.plot(alpha_list, corrN_list_alpha)"
      ]
    },
    {
      "attachments": {},
      "cell_type": "markdown",
      "metadata": {
        "datalore": {
          "sheet_delimiter": false
        }
      },
      "source": [
        "# Stéganalyse par apprentissage\n",
        "## Mise en route:\n",
        "* Récupèrer les caractéristiques ici: https://nextcloud.univ-lille.fr/index.php/s/i6xr4JykqAASapN\n",
        "* On charge les caractéristiques extraites à partir des images Cover et Stego pour d=3 (dimension de l'histogramme multivarié) et T=3 (seuil)"
      ]
    },
    {
      "cell_type": "code",
      "execution_count": 155,
      "metadata": {
        "datalore": {
          "sheet_delimiter": false
        }
      },
      "outputs": [],
      "source": [
        "cover = np.loadtxt('Features/cover-spam-N=3-T=3.csv')\n",
        "stego = np.loadtxt('Features/stego-0.20-lsb-spam-N=3-T=3.csv')"
      ]
    },
    {
      "cell_type": "code",
      "execution_count": 156,
      "metadata": {
        "datalore": {
          "sheet_delimiter": false
        }
      },
      "outputs": [
        {
          "name": "stdout",
          "output_type": "stream",
          "text": [
            "(10000, 686)\n",
            "(10000, 686)\n"
          ]
        }
      ],
      "source": [
        "print(cover.shape)\n",
        "print(stego.shape)"
      ]
    },
    {
      "attachments": {},
      "cell_type": "markdown",
      "metadata": {
        "datalore": {
          "sheet_delimiter": false
        }
      },
      "source": [
        "**Quelle est la dimension des caractéristiques ? Pourquoi ?**"
      ]
    },
    {
      "attachments": {},
      "cell_type": "markdown",
      "metadata": {
        "datalore": {
          "sheet_delimiter": false
        }
      },
      "source": [
        "On a 10000 échantillons respectifs d'images cover et stégo contenant chacun les *bins* d'un histogramme multivarié associé à une image.\n",
        "Pour $N=3$ et $T=3$, on a $2 \\times (2T+1)^N = 686$ caractéristiques."
      ]
    },
    {
      "attachments": {},
      "cell_type": "markdown",
      "metadata": {
        "datalore": {
          "sheet_delimiter": false
        }
      },
      "source": [
        "**Entrainer un classifieur linéaire avec 5000 images en apprentissage et en test (effectuer une permutation pseudo-aléatoire des images avant l'apprentissage)**"
      ]
    },
    {
      "cell_type": "code",
      "execution_count": 157,
      "metadata": {},
      "outputs": [],
      "source": [
        "def prepare_data(cover, stego, N_train):\n",
        "    \"\"\"\n",
        "    Generates training and test sets from cover and stego images. The train data is of size N_train.\n",
        "    Returns a tuple : (data_train, t_train, data_test, t_test)\n",
        "    \"\"\"\n",
        "    \n",
        "    N = cover.shape[0] # number of examples\n",
        "    \n",
        "    # Label the data: 0 is for cover images and label 1 is for stego images\n",
        "    cover_labelled = np.hstack([np.zeros(N).reshape((N,1)),cover])\n",
        "    stego_labelled = np.hstack([np.ones(N).reshape((N,1)),stego])\n",
        "    labelled_data = np.vstack([cover_labelled, stego_labelled]) \n",
        "\n",
        "    # Shuffle the data\n",
        "    np.random.shuffle(labelled_data)\n",
        "\n",
        "    # Create train and test sets\n",
        "    train = labelled_data[:N_train]\n",
        "    test = labelled_data[N_train:]\n",
        "\n",
        "    # Separating data from labels\n",
        "    t_train = train[:, 0] # 't' for 'target'\n",
        "    data_train = train[:,1:]\n",
        "\n",
        "    t_test = test[:,0]\n",
        "    data_test = test[:,1:]\n",
        "    \n",
        "    return data_train, t_train, data_test, t_test"
      ]
    },
    {
      "cell_type": "code",
      "execution_count": 158,
      "metadata": {
        "datalore": {
          "sheet_delimiter": false
        }
      },
      "outputs": [
        {
          "name": "stdout",
          "output_type": "stream",
          "text": [
            "Avec un classifieur linéaire (LDA), on obtient un score de 0.8814.\n",
            "Avec un classifieur non-linéaire (QDA), on obtient un score de 0.7697333333333334.\n"
          ]
        }
      ],
      "source": [
        "# Discriminant Analysis (LDA for linear classification, QDA for non-linear classification)\n",
        "from sklearn.discriminant_analysis import LinearDiscriminantAnalysis, QuadraticDiscriminantAnalysis\n",
        "\n",
        "\n",
        "N_train = 5000\n",
        "data_train, t_train, data_test, t_test = prepare_data(cover, stego, N_train)\n",
        "\n",
        "lda = LinearDiscriminantAnalysis().fit(data_train, t_train)\n",
        "qda = QuadraticDiscriminantAnalysis().fit(data_train, t_train)\n",
        "\n",
        "score_lda = lda.score(data_test, t_test)\n",
        "score_qda = qda.score(data_test, t_test)\n",
        "\n",
        "print(f\"Avec un classifieur linéaire (LDA), on obtient un score de {score_lda}.\")\n",
        "print(f\"Avec un classifieur non-linéaire (QDA), on obtient un score de {score_qda}.\")"
      ]
    },
    {
      "attachments": {},
      "cell_type": "markdown",
      "metadata": {
        "datalore": {
          "sheet_delimiter": false
        }
      },
      "source": [
        "Avec une analyse discriminante linéaire, on obtient un taux d'erreur proche de 12%, ce qui laisse penser que les données sont presque linéairement séparables. Ainsi, il semble raisonnable de vouloir utiliser de l'apprentissage automatisé pour détecter la présence ou non de messages stéganographiés.\n",
        "La limite de ce procédé est qu'il faut une grande quantité de données labellisées pour l'entraînement du modèle."
      ]
    },
    {
      "attachments": {},
      "cell_type": "markdown",
      "metadata": {
        "datalore": {
          "sheet_delimiter": false
        }
      },
      "source": [
        "**Effectuer plusieurs entrainements/test successifs sur des ensembles d'apprentissage et de test différents (permutations différentes), commentez la variabilité**"
      ]
    },
    {
      "cell_type": "code",
      "execution_count": 159,
      "metadata": {
        "datalore": {
          "sheet_delimiter": false
        }
      },
      "outputs": [
        {
          "name": "stdout",
          "output_type": "stream",
          "text": [
            "Over 10 iterations, the score obtained by LDA is between 0.874 and 0.886.\n"
          ]
        }
      ],
      "source": [
        "N_train = 5000\n",
        "N_iter = 10\n",
        "scores = []\n",
        "\n",
        "for _ in range(N_iter):\n",
        "    data_train, t_train, data_test, t_test = prepare_data(cover, stego, N_train)\n",
        "    lda = LinearDiscriminantAnalysis().fit(data_train, t_train)\n",
        "    scores.append(lda.score(data_test, t_test))\n",
        "    \n",
        "print(f\"Over {N_iter} iterations, the score obtained by LDA is between {np.min(scores)} and {np.max(scores)}.\")"
      ]
    },
    {
      "cell_type": "markdown",
      "metadata": {},
      "source": [
        "Sur 10 itérations avec des ensembles d'apprentissage/test différents, le score varie de 1% au plus. Il semble donc y avoir peu de variabilité dans les résultats observés ci-dessus."
      ]
    },
    {
      "attachments": {},
      "cell_type": "markdown",
      "metadata": {
        "datalore": {
          "sheet_delimiter": false
        }
      },
      "source": [
        "**Comparer avec les caractéristiques produites pour N = 2 et T = 4 (fournies), expliquer la différence de performance**"
      ]
    },
    {
      "cell_type": "code",
      "execution_count": 160,
      "metadata": {},
      "outputs": [
        {
          "name": "stdout",
          "output_type": "stream",
          "text": [
            "(10000, 162)\n",
            "(10000, 162)\n"
          ]
        }
      ],
      "source": [
        "cover_2 = np.loadtxt('Features/cover-spam-N=2-T=4.csv')\n",
        "stego_2 = np.loadtxt('Features/stego-0.20-lsb-spam-N=2-T=4.csv')\n",
        "\n",
        "print(cover_2.shape)\n",
        "print(stego_2.shape)"
      ]
    },
    {
      "cell_type": "code",
      "execution_count": 161,
      "metadata": {},
      "outputs": [
        {
          "name": "stdout",
          "output_type": "stream",
          "text": [
            "Avec un classifieur linéaire (LDA), on obtient un score de 0.7785333333333333.\n",
            "Avec un classifieur non-linéaire (QDA), on obtient un score de 0.6970666666666666.\n"
          ]
        }
      ],
      "source": [
        "N_train = 5000\n",
        "data_train, t_train, data_test, t_test = prepare_data(cover_2, stego_2, N_train)\n",
        "\n",
        "lda = LinearDiscriminantAnalysis().fit(data_train, t_train)\n",
        "qda = QuadraticDiscriminantAnalysis().fit(data_train, t_train)\n",
        "\n",
        "score_lda = lda.score(data_test, t_test)\n",
        "score_qda = qda.score(data_test, t_test)\n",
        "\n",
        "print(f\"Avec un classifieur linéaire (LDA), on obtient un score de {score_lda}.\")\n",
        "print(f\"Avec un classifieur non-linéaire (QDA), on obtient un score de {score_qda}.\")"
      ]
    },
    {
      "cell_type": "markdown",
      "metadata": {},
      "source": [
        "Nous observons une baisse de la qualité des prédictions d'environ 10%.\n",
        "Cette fois, on a $N=2$ et $T=4$, d'où $2 \\times (2T+1)^N = 162$ caractéristiques. Autrement dit, les histogrammes sont plus \"grossiers\".\n",
        "Or, la détection d'un message caché requiert un certain niveau de précision, ce qui explique que les résultats obtenus soient moins bons."
      ]
    }
  ],
  "metadata": {
    "interpreter": {
      "hash": "34ff3397c474938b265d2f4b45024e5465249fab18e07736c9a068b37b408800"
    },
    "kernelspec": {
      "display_name": "Python 3.8.12 64-bit ('python-all': conda)",
      "language": "python",
      "name": "python3"
    },
    "language_info": {
      "codemirror_mode": {
        "name": "ipython",
        "version": 3
      },
      "file_extension": ".py",
      "mimetype": "text/x-python",
      "name": "python",
      "nbconvert_exporter": "python",
      "pygments_lexer": "ipython3",
      "version": "3.8.12"
    }
  },
  "nbformat": 4,
  "nbformat_minor": 0
}
