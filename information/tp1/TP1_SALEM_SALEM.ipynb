{
 "cells": [
  {
   "cell_type": "markdown",
   "metadata": {},
   "source": [
    "# Noms du binôme : SALEM - SALEM\n",
    "\n",
    "# Prénoms du binôme : Emilie - Hadrien"
   ]
  },
  {
   "cell_type": "markdown",
   "metadata": {},
   "source": [
    "# Entropie et génération de mots de passe\n",
    "* L'objectif de ce tp est de continuer à se familiariser avec la notion d'entropie, mais aussi de comprendre le lien qu'il existe entre cette mesure informationelle et la sécurité d'un générateur (humain ou executable) de mots de passes\n",
    "* Ainsi, nous proposons d'étudier l'entropie d'un tel générateur, et ce en fonction du modèle probabiliste considéré pour le modéliser (contruit à partir d'une lettre, de deux lettres, de 4 lettres, ...). A l'aide de tirrages aléatoires, nous estimerons également le temps moyen nécessaire pour trouver un mot de passe à partir de ce modèle.\n",
    "* A la fin de ce TP, nous considérerons un générateur de mots de passe qui générera un mot de passe en prennant **8 lettres consécutives dans un texte** (sans se soucier des espaces). Ces lettres peuvent faire parti d'un ou de plusieurs mots consécutifs.\n",
    "* Nous faisons l'hypothèse que le texte n'est composé que des 26 lettres de l'alphabet, sans majuscules ni accents\n",
    "\n",
    "Nous chercherons aussi à comprendre (voir dernière question):\n",
    "- les bonnes pratiques pour le défenseur, i.e. la personne cherchant à générer/construire un système de génération de mots de passe.\n",
    "- les bonnes pratiques pour l'attaquant, i.e. la personne essayant de trouver le mot de passe.\n",
    "\n",
    "**Il est important de commenter vos réponses, en utilisant des cellules markdown**\n"
   ]
  },
  {
   "cell_type": "code",
   "execution_count": null,
   "metadata": {},
   "outputs": [],
   "source": [
    "import numpy as np\n",
    "from numpy import genfromtxt\n",
    "from pandas import read_csv\n",
    "import pandas as pd\n",
    "import time"
   ]
  },
  {
   "cell_type": "markdown",
   "metadata": {},
   "source": [
    "#### Modèle monogramme (une lettre)\n",
    "* On récupére des données composées de [lettre,frequence d'apparition de la lettre] (voir fichier csv pour [comma-separated-value](https://en.wikipedia.org/wiki/Comma-separated_values)) "
   ]
  },
  {
   "cell_type": "code",
   "execution_count": null,
   "metadata": {},
   "outputs": [],
   "source": [
    "monogramme = read_csv('monogramme.csv')\n",
    "freq_mono = (monogramme['frequency']).values\n",
    "letters_mono = (monogramme['letters']).values"
   ]
  },
  {
   "cell_type": "markdown",
   "metadata": {},
   "source": [
    "Q: Quelles sont les 5 lettres les plus représentées ?"
   ]
  },
  {
   "cell_type": "code",
   "execution_count": null,
   "metadata": {},
   "outputs": [],
   "source": [
    "sorted_monogramme = monogramme.sort_values(by=['frequency'], ascending=False)\n",
    "sorted_monogramme[:5]"
   ]
  },
  {
   "cell_type": "markdown",
   "metadata": {},
   "source": [
    "R : Les 5 lettres les plus représentées sont ainsi E, S, A, N et T."
   ]
  },
  {
   "cell_type": "markdown",
   "metadata": {},
   "source": [
    "Ecrire une fonction qui calcule l'entropie à partir d'un vecteur constitué de probabilités empiriques (note, il est important de bien gérer le cas ou la probabilité est nulle)."
   ]
  },
  {
   "cell_type": "code",
   "execution_count": null,
   "metadata": {},
   "outputs": [],
   "source": [
    "def entropie(freq):\n",
    "    ent = 0\n",
    "    for p in freq :\n",
    "        if p != 0 : ent -= p*np.log2(p)\n",
    "    return ent"
   ]
  },
  {
   "cell_type": "markdown",
   "metadata": {},
   "source": [
    "Q: en utilisant ce modèle probabiliste pour générer un mot de passe, quelle est l'entropie d'un mot de passe de 8 lettres ?"
   ]
  },
  {
   "cell_type": "markdown",
   "metadata": {},
   "source": [
    "Un mot de passe est généré en tirant chaque lettre indépendamment les unes de autres : l'entropie totale est donc la somme des entropies de chacune des lettres (variables aléatoires indépendantes)."
   ]
  },
  {
   "cell_type": "code",
   "execution_count": null,
   "metadata": {},
   "outputs": [],
   "source": [
    "entropie_8 = 8 * entropie(freq_mono)\n",
    "print(f\"L'entropie d'un mot de passe de 8 lettres est : {entropie_8} bits.\")"
   ]
  },
  {
   "cell_type": "markdown",
   "metadata": {},
   "source": [
    "Q: A l'aide de la fonction `np.random.choice()`, estimer le temps nécessaire en secondes pour tirer 100 000 mots de passes en utilisant ce générateur ? (note: ici le tirage n'est pas forcemment réaliste, car aléatoire, mais l'idée est surtout de mesurer le temps minimal nécessaire pour générer N mots de passes)."
   ]
  },
  {
   "cell_type": "code",
   "execution_count": null,
   "metadata": {},
   "outputs": [],
   "source": [
    "t = time.time()\n",
    "\n",
    "for _ in range(100000):\n",
    "    np.random.choice(letters_mono, size=8, p=freq_mono)\n",
    "\n",
    "t_100000_mono = time.time() - t\n",
    "print(t_100000_mono, 's')\n"
   ]
  },
  {
   "cell_type": "markdown",
   "metadata": {},
   "source": [
    "Nous definissons l'\"entropie du devin\" G (guessing entropie) comme le **nombre moyen d'essais successifs nécessaires pour trouver un mot de passe à partir de notre générateur**.\n",
    "    On peut montrer que $G\\geq 2^H/4+1$ où $H$ est l'entropie de la source (voir le papier Password_Entropy_and_Password_Quality.pdf )"
   ]
  },
  {
   "cell_type": "markdown",
   "metadata": {},
   "source": [
    "Q: calculer le minorant de $G$ pour ce modèle"
   ]
  },
  {
   "cell_type": "code",
   "execution_count": null,
   "metadata": {},
   "outputs": [],
   "source": [
    "min_G_mono = 2**(entropie_8) / 4 + 1\n",
    "print(f\"Le minorant du nombre moyen d'attaques successives nécessaires est : {min_G_mono}\")"
   ]
  },
  {
   "cell_type": "markdown",
   "metadata": {},
   "source": [
    "Q: combien de temps cela prendra-t-il pour générer un mot de passe si l'on suppose qu'il est possible de prendre le générateur codé précédemment ? (en minutes)"
   ]
  },
  {
   "cell_type": "code",
   "execution_count": null,
   "metadata": {},
   "outputs": [],
   "source": [
    "temps_1_mdp_mono = t_100000_mono / 100000\n",
    "guessing_time_mono = temps_1_mdp_mono * min_G_mono / 60\n",
    "print(f\"On peut espérer trouver un mot de passe généré à partir du monogramme en : {guessing_time_mono} minutes.\")"
   ]
  },
  {
   "cell_type": "markdown",
   "metadata": {},
   "source": [
    "On propose maintenant d'utiliser un modèle plus évolué qui est construit à partir de la probabilité conjointe de deux lettres successives (bigramme)"
   ]
  },
  {
   "cell_type": "code",
   "execution_count": null,
   "metadata": {},
   "outputs": [],
   "source": [
    "bigramme = read_csv('bigramme.csv',keep_default_na=False)\n",
    "freq_bi = (bigramme['frequency']).values\n",
    "letters_bi = (bigramme['letters']).values"
   ]
  },
  {
   "cell_type": "markdown",
   "metadata": {},
   "source": [
    "Q: Quelles sont les 5 couples de lettres les plus représentés ?"
   ]
  },
  {
   "cell_type": "code",
   "execution_count": null,
   "metadata": {},
   "outputs": [],
   "source": [
    "sorted_bigramme= bigramme.sort_values(by=['frequency'], ascending=False)\n",
    "sorted_bigramme[:5]"
   ]
  },
  {
   "cell_type": "markdown",
   "metadata": {},
   "source": [
    "Q: en utilisant ce modèle probabiliste pour générer un mot de passe, quelle est l'entropie d'un mot de passe de 8 lettres ?"
   ]
  },
  {
   "cell_type": "code",
   "execution_count": null,
   "metadata": {},
   "outputs": [],
   "source": [
    "entropie_4 = 4 * entropie(freq_bi)\n",
    "print(f\"L'entropie d'un mot de passe de 8 lettres avec le bigramme est : {entropie_4} bits.\")"
   ]
  },
  {
   "cell_type": "markdown",
   "metadata": {},
   "source": [
    "Q: Pourquoi cette entropie est-elle inférieure à celle du modèle construit sur des monogrammes ? Quelle propriété théorique de l'entropie peut justifier ce constat  ?"
   ]
  },
  {
   "cell_type": "markdown",
   "metadata": {},
   "source": [
    "L'entropie est inférieure à celle du modèle construit sur des monogrammes d'après la propriété théorique : $H(X,Y) \\leq H(X) + H(Y)$. En effet, lorsque le générateur est un bigramme, on sélectionne un couple de lettres et non plus une lettre unique. Ainsi l'entropie associée au choix de 2 lettres avec le modèle bigramme est inférieure à l'entropie associée au choix de 2 fois 1 lettre avec le modèle monogramme."
   ]
  },
  {
   "cell_type": "markdown",
   "metadata": {},
   "source": [
    "Q: A l'aide de la fonction `np.random.choice()`, calculer le temps nécessaire en secondes pour tirer 100 000 mots de passes en utilisant ce générateur ?"
   ]
  },
  {
   "cell_type": "code",
   "execution_count": null,
   "metadata": {},
   "outputs": [],
   "source": [
    "t = time.time()\n",
    "\n",
    "for _ in range(100000):\n",
    "    np.random.choice(letters_bi, size=4, p=freq_bi)\n",
    "\n",
    "t_100000_bi = time.time() - t\n",
    "    \n",
    "print(t_100000_bi, 's')\n"
   ]
  },
  {
   "cell_type": "markdown",
   "metadata": {},
   "source": [
    "Q: calculer le minorant de $G$ pour ce modèle"
   ]
  },
  {
   "cell_type": "code",
   "execution_count": null,
   "metadata": {},
   "outputs": [],
   "source": [
    "min_G_bi = 2**(entropie_4) / 4 + 1\n",
    "print(f\"Le minorant du nombre moyen d'attaques successives nécessaires est : {min_G_bi}\")"
   ]
  },
  {
   "cell_type": "markdown",
   "metadata": {},
   "source": [
    "Q: combien de temps cela prendra-t-il si l'on suppose qu'il est possible de prendre le générateur codé précédemment ? (en minutes)"
   ]
  },
  {
   "cell_type": "code",
   "execution_count": null,
   "metadata": {},
   "outputs": [],
   "source": [
    "temps_1_mdp_bi = t_100000_bi / 100000\n",
    "guessing_time_bi = temps_1_mdp_bi * min_G_bi / 60\n",
    "print(f\"On peut espérer trouver un mot de passe généré à partir du monogramme en : {guessing_time_bi} minutes.\")"
   ]
  },
  {
   "cell_type": "markdown",
   "metadata": {},
   "source": [
    "Q: si maintenant on change de stratégie et on tire aléatoirement chaque lettre de l'alphabet de façon uniforme, quelle est l'entropie de ce nouveau générateur ?"
   ]
  },
  {
   "cell_type": "code",
   "execution_count": null,
   "metadata": {},
   "outputs": [],
   "source": [
    "freq_unif = np.ones(26)/26\n",
    "letters_unif = (monogramme['letters']).values\n",
    "\n",
    "entropie_unif = 8 * entropie(freq_unif)\n",
    "print(f\"L'entropie d'un mot de passe de 8 lettres généré uniformément est : {entropie_unif} bits.\")"
   ]
  },
  {
   "cell_type": "markdown",
   "metadata": {},
   "source": [
    "Q: A l'aide de la fonction `np.random.choice()`, calculer le temps nécessaire en secondes pour tirer 100 000 mots de passes en utilisant ce générateur ?"
   ]
  },
  {
   "cell_type": "code",
   "execution_count": null,
   "metadata": {},
   "outputs": [],
   "source": [
    "t = time.time()\n",
    "\n",
    "for _ in range(100000):\n",
    "    np.random.choice(letters_unif, size=8, p=freq_unif)\n",
    "\n",
    "t_100000_unif = time.time() - t\n",
    "    \n",
    "print(t_100000_unif, 's')"
   ]
  },
  {
   "cell_type": "markdown",
   "metadata": {},
   "source": [
    "Q: calculer le minorant de $G$ pour ce modèle"
   ]
  },
  {
   "cell_type": "code",
   "execution_count": null,
   "metadata": {},
   "outputs": [],
   "source": [
    "min_G_unif = 2**(entropie_unif) / 4 + 1\n",
    "print(f\"Le minorant du nombre moyen d'attaques successives nécessaires est : {min_G_unif}\")"
   ]
  },
  {
   "cell_type": "markdown",
   "metadata": {},
   "source": [
    "Q: dans ce cas précis, quelle est la valeur exacte de $G$?"
   ]
  },
  {
   "cell_type": "markdown",
   "metadata": {},
   "source": [
    "Dans ce cas particulier, puisque les mots de passe sont tirés uniformément, le nombre moyen d'essais nécessaires est la moitié du nombre de mots de passes possibles (8 lettres avec chacune 26 possibilités, soit $26^8$ mots de passes possibles)."
   ]
  },
  {
   "cell_type": "code",
   "execution_count": null,
   "metadata": {},
   "outputs": [],
   "source": [
    "G_exact = 26**8 / 2\n",
    "print(G_exact)"
   ]
  },
  {
   "cell_type": "markdown",
   "metadata": {},
   "source": [
    "Q: combien de temps cela prendra-t-il en utilisant le générateur codé précédemment ? (en minutes)"
   ]
  },
  {
   "cell_type": "code",
   "execution_count": null,
   "metadata": {},
   "outputs": [],
   "source": [
    "temps_1_mdp_unif = t_100000_unif / 100000\n",
    "guessing_time_unif = temps_1_mdp_unif * min_G_unif / 60\n",
    "print(f\"On peut espérer trouver un mot de passe généré à partir du monogramme en : {guessing_time_unif} minutes.\")"
   ]
  },
  {
   "cell_type": "markdown",
   "metadata": {},
   "source": [
    "Q: implémenter une attaque pratique qui consiste à:\n",
    "1. **pour le défenseur:** tirer un mot de passe de 4 lettres consécutives à partir de ce texte de Victor Hugo (texteFrancais.txt) tiré des Misérables.  \n",
    "2. **pour l'attaquant:** utiliser le modèle bigramme pour générer des mots de passe et minimiser le nombre d'essais. Pour cela on pourra :\n",
    "    * dans un premier temps pré-calculer un **dictionnaire**, qui contriendra un nombre de MdP générés classés dans l'ordre du plus probable au moins probable et qui ne contient pas de doublons \n",
    "    * dans un deuxième temps appeler ce dictionnaire pour comparer chacune de ses entrées au mot de passe généré.\n",
    "3. Il faudra faire ces tests plusieurs fois afin de d'obtenir un nombre moyen d'appel au dictionnaire nécessaire\n",
    "4. Il sera intéressant de comparer le nombre trouvé à la valeur de G (qui est une borne inférieure)\n",
    "5. Question annexe: Par un simple calcul, si le générateur utilisé n'est plus ce générateur mais un générateur qui tire chaque lettre de façon équiprobable, rappeler la valeur de G. Comparer cette valeur avec la valeur trouvée en utilisant la stratégie \"des 4 lettres consécutives\"."
   ]
  },
  {
   "cell_type": "code",
   "execution_count": null,
   "metadata": {},
   "outputs": [],
   "source": [
    "## Fonction générant un mot de passe\n",
    "def get_passwd():\n",
    "    text_hugo = open(\"texteFrancais.txt\",\"r\")\n",
    "    str_hugo = str(text_hugo.read())\n",
    "\n",
    "    # On remplace des lettres avec accent avec des lettres sans accent\n",
    "    str_hugo = str_hugo.replace(\"Â\", \"A\")\n",
    "    str_hugo = str_hugo.replace(\"Ã\", \"A\")\n",
    "    str_hugo = str_hugo.replace(\"Ù\", \"U\")\n",
    "    str_hugo = str_hugo.replace(\"Ô\", \"O\")\n",
    "    size_txt = len(str_hugo)\n",
    "\n",
    "    idx_rand = np.random.randint(size_txt-4)\n",
    "    #print(idx_rand)\n",
    "\n",
    "    psswd = str_hugo[idx_rand:idx_rand+4]\n",
    "    return(psswd)"
   ]
  },
  {
   "cell_type": "code",
   "execution_count": null,
   "metadata": {},
   "outputs": [],
   "source": [
    "# Génération du dictionnaire et calcul des fréquences d'apparition de  chaque mot du dictionnaire\n",
    "tab_passwd = []\n",
    "tab_proba = []\n",
    "for i in range(len(sorted_bigramme)) :\n",
    "    for j in range(len(sorted_bigramme)) :\n",
    "        mdp = sorted_bigramme['letters'][i] + sorted_bigramme['letters'][j]\n",
    "        proba = sorted_bigramme['frequency'][i] * sorted_bigramme['frequency'][j]\n",
    "        tab_passwd.append(mdp)\n",
    "        tab_proba.append(proba)"
   ]
  },
  {
   "cell_type": "code",
   "execution_count": null,
   "metadata": {},
   "outputs": [],
   "source": [
    "# Tri des fréquences d'apparition\n",
    "N = len(tab_proba)\n",
    "tab_proba_arr = np.array(tab_proba)\n",
    "tab_passwd_arr = np.array(tab_passwd)\n",
    "\n",
    "ind = np.argsort(tab_proba_arr)\n",
    "tab_passwd_arr = np.flip(tab_passwd_arr[ind])"
   ]
  },
  {
   "cell_type": "code",
   "execution_count": null,
   "metadata": {},
   "outputs": [],
   "source": [
    "# Attaques sur 1000 mots de passes\n",
    "nb_trials = 1000\n",
    "vec_nb_trials = np.zeros(nb_trials)\n",
    "\n",
    "for trial in range(nb_trials):\n",
    "    mdp_to_guess = get_passwd()\n",
    "    N_it = 0\n",
    "    for mdp in tab_passwd_arr :\n",
    "        N_it += 1\n",
    "        if(mdp == mdp_to_guess) : break\n",
    "    vec_nb_trials[trial] = N_it"
   ]
  },
  {
   "cell_type": "code",
   "execution_count": null,
   "metadata": {},
   "outputs": [],
   "source": [
    "mean_trials = np.mean(vec_nb_trials)\n",
    "print(f\"Le nombre moyen d'attaques nécessaires pour trouver le mot de passe est  : {mean_trials}\")"
   ]
  },
  {
   "cell_type": "code",
   "execution_count": null,
   "metadata": {},
   "outputs": [],
   "source": [
    "# Comparaison avec la valeur de G\n",
    "print(f\"La borne inférieure de G que nous avions calculée était : {2**(2*entropie(freq_bi)) / 4 + 1}\")"
   ]
  },
  {
   "cell_type": "markdown",
   "metadata": {},
   "source": [
    "## Conclusions \n",
    "\n",
    "- Définir des bonnes pratiques pour le défenseur, i.e. la personne cherchant à concevoir un système de génération de mots de passe ? \n",
    "- Définior des bonnes pratiques pour l'attaquant, i.e. la personne essayant de trouver le mot de passe ?\n",
    "\n",
    "### Bonnes pratiques pour le défenseur\n",
    "\n",
    "- Tirer les lettres du mot de passe uniformément afin de maximiser son entropie\n",
    "- A distribution identique, les mots de passe plus longs ont une entropie plus importante et sont donc plus difficiles à \"deviner\"\n",
    "\n",
    "### Bonnes pratiques pour l'attaquant\n",
    "\n",
    "- Essayer les mots de passe les plus probables en premier permet de réduire le nombre moyen d'essais, dans le cas où le mot de passe à attaquer n'a pas été généré uniformément. En particulier, si le mot de passe correspond à des mots d'une langue, on peut se baser sur la fréquence d'apparition des lettres dans cette langue."
   ]
  },
  {
   "cell_type": "markdown",
   "metadata": {},
   "source": [
    "## Un peu de lecture\n",
    "Cet article montre comment des hackers, à partir de leaks de bases de mots de passes, peuvent rapidement arriver à trouver le votre:\n",
    "https://arstechnica.com/information-technology/2013/05/how-crackers-make-minced-meat-out-of-your-passwords/\n"
   ]
  }
 ],
 "metadata": {
  "kernelspec": {
   "display_name": "Python 3",
   "language": "python",
   "name": "python3"
  },
  "language_info": {
   "codemirror_mode": {
    "name": "ipython",
    "version": 3
   },
   "file_extension": ".py",
   "mimetype": "text/x-python",
   "name": "python",
   "nbconvert_exporter": "python",
   "pygments_lexer": "ipython3",
   "version": "3.8.12"
  }
 },
 "nbformat": 4,
 "nbformat_minor": 2
}
