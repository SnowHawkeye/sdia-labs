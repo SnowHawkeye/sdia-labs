{
  "cells": [
    {
      "attachments": {},
      "cell_type": "markdown",
      "metadata": {},
      "source": [
        "# Mise en oeuvre du filtre de Kalman étendu\n",
        "\n",
        "## Groupe : Hadrien SALEM - Emilie SALEM"
      ]
    },
    {
      "cell_type": "code",
      "execution_count": null,
      "metadata": {},
      "outputs": [],
      "source": [
        "# Imports\n",
        "import pandas as pd\n",
        "import numpy as np\n",
        "import matplotlib.pyplot as plt\n",
        "from scipy.stats import norm"
      ]
    },
    {
      "attachments": {},
      "cell_type": "markdown",
      "metadata": {},
      "source": [
        "## Récupération des données"
      ]
    },
    {
      "cell_type": "code",
      "execution_count": null,
      "metadata": {},
      "outputs": [],
      "source": [
        "# Lecture du tableur Excel\n",
        "data = pd.read_excel(r'donnee.xlsx')\n",
        "\n",
        "t = data[\"Temps\"].values\n",
        "y = data[\"signalReel\"].values \n",
        "z = data[\"signalBruite\"].values\n",
        "\n",
        "# Définition des variables\n",
        "Q = np.array([[2e-5, 0], [0, 2e-1]])\n",
        "A = np.eye(2)\n",
        "R = 3\n",
        "\n",
        "nu_e = 193.28 # Hz\n",
        "Te = 1/nu_e # s\n",
        "nu0 = 12 # Hz"
      ]
    },
    {
      "attachments": {},
      "cell_type": "markdown",
      "metadata": {},
      "source": [
        "## Affichage des 300 premières valeurs du dataset"
      ]
    },
    {
      "cell_type": "code",
      "execution_count": null,
      "metadata": {},
      "outputs": [],
      "source": [
        "nb_valeurs = 300\n",
        "\n",
        "fig = plt.figure(figsize=(25,7))\n",
        "plt.plot(t[:nb_valeurs], z[:nb_valeurs], 'bo')\n",
        "plt.plot(t[:nb_valeurs], y[:nb_valeurs], 'r')\n",
        "plt.title('Données mesurées')\n",
        "plt.xlabel('Temps (s)')\n",
        "plt.legend([\"Mesures\", \"Signal réel\"])\n",
        "plt.grid()\n",
        "plt.show()"
      ]
    },
    {
      "attachments": {},
      "cell_type": "markdown",
      "metadata": {},
      "source": [
        "## Implémentation de l'algorithme"
      ]
    },
    {
      "cell_type": "code",
      "execution_count": null,
      "metadata": {},
      "outputs": [],
      "source": [
        "# Valeurs initiales\n",
        "m0 = np.random.normal(0,1, size=(2,))\n",
        "gamma0 = np.identity(2)\n",
        "\n",
        "# Fonctions nécessaires\n",
        "h = lambda x, k : x[k][0]*np.sin(2*np.pi*nu0*k*Te + x[k][1])\n",
        "H = lambda x, k : np.array([np.sin(2*np.pi*nu0*k*Te + x[k][1]),\n",
        "                            x[k][0]*np.cos(2*np.pi*nu0*k*Te + x[k][1])])\n",
        "\n",
        "def extended_kalman(z, m0, gamma0, h, H):\n",
        "    # Initialization\n",
        "    N = len(z)\n",
        "    x = np.zeros(shape = (N, 2))\n",
        "    P = np.array([np.zeros(shape = (2, 2)) for _ in range(N)])\n",
        "    \n",
        "    x[0] = m0\n",
        "    P[0] = gamma0\n",
        "    \n",
        "    # Loop\n",
        "    for k in range(0, N-1):\n",
        "        S = H(x, k).dot(P[k]).dot(H(x, k).T) + R\n",
        "        K = P[k].dot(H(x, k).T)/S\n",
        "        epsilon = z[k] - h(x, k)\n",
        "        x[k] = x[k] + K*epsilon\n",
        "        P[k] = P[k] - K*H(x, k).dot(P[k])\n",
        "        \n",
        "        x[k+1] = x[k]\n",
        "        P[k+1] = P[k] + Q\n",
        "        \n",
        "    return x"
      ]
    },
    {
      "attachments": {},
      "cell_type": "markdown",
      "metadata": {},
      "source": [
        "## Exécution de l'algorithme sur les données"
      ]
    },
    {
      "cell_type": "code",
      "execution_count": null,
      "metadata": {},
      "outputs": [],
      "source": [
        "x = extended_kalman(z, m0, gamma0, h, H)\n",
        "y_hat = np.array([ a*np.sin(2*np.pi*nu0*k*Te + phi) for k, (a, phi) in enumerate(x)])"
      ]
    },
    {
      "attachments": {},
      "cell_type": "markdown",
      "metadata": {},
      "source": [
        "## Affichage du résultat sur les 300 premières valeurs"
      ]
    },
    {
      "cell_type": "code",
      "execution_count": null,
      "metadata": {},
      "outputs": [],
      "source": [
        "nb_valeurs = 300\n",
        "\n",
        "fig = plt.figure(figsize=(25,7))\n",
        "fig.clear()\n",
        "plt.plot(t[:nb_valeurs], y[:nb_valeurs], 'r', alpha=0.5)\n",
        "plt.plot(t[:nb_valeurs], y_hat[:nb_valeurs], 'g')\n",
        "plt.title('Estimation du signal réel')\n",
        "plt.xlabel('Temps (s)')\n",
        "plt.legend([\"Signal réel\", \"Signal estimé\"])\n",
        "plt.grid()\n",
        "plt.show()"
      ]
    },
    {
      "attachments": {},
      "cell_type": "markdown",
      "metadata": {},
      "source": [
        "### Commentaire\n",
        "\n",
        "On observe que même si le signal estimé est bruité, il est tout de même proche du signal réel que l'on cherchait à estimer."
      ]
    },
    {
      "attachments": {},
      "cell_type": "markdown",
      "metadata": {},
      "source": [
        "## Expérimentation sur les paramètres\n",
        "\n",
        "On joue sur les paramètres Q et R du filtre pour observer leur influence sur l'estimation obtenue."
      ]
    },
    {
      "cell_type": "code",
      "execution_count": null,
      "metadata": {},
      "outputs": [],
      "source": [
        "# On fait d'abord varier R\n",
        "for r in range(0,50, 10):\n",
        "    R = r\n",
        "    x = extended_kalman(z, m0, gamma0, h, H)\n",
        "    y_hat = np.array([ a*np.sin(2*np.pi*nu0*k*Te + phi) for k, (a, phi) in enumerate(x)])\n",
        "    nb_valeurs = 300\n",
        "\n",
        "    fig = plt.figure(figsize=(25,7))\n",
        "    plt.plot(t[:nb_valeurs], y[:nb_valeurs], 'r', alpha=0.5)\n",
        "    plt.plot(t[:nb_valeurs], y_hat[:nb_valeurs], 'g')\n",
        "    plt.title(f'R = {R}')\n",
        "    plt.xlabel('Temps (s)')\n",
        "    plt.legend([\"Signal réel\", \"Signal estimé\"])\n",
        "    plt.grid()\n",
        "    plt.show()"
      ]
    },
    {
      "cell_type": "markdown",
      "metadata": {},
      "source": [
        "### Commentaire\n",
        "\n",
        "On observe que lorsque l'on augmente R, cela fait augmenter le temps de réponse du filtre : même si l'estimation est parfois légèrement meilleure après le régime transitoire, les premières valeurs ne sont pas estimées correctement. Cela s'explique par le fait que R représente le bruit de mesure : s'il est mal estimé, notre estimation s'appuie sur un modèle inexact, qui ne représente pas bien la réalité."
      ]
    },
    {
      "cell_type": "code",
      "execution_count": null,
      "metadata": {},
      "outputs": [],
      "source": [
        "R = 3\n",
        "# On fait ensuite varier Q\n",
        "Q = np.array([[2e-5, 0], [0, 2e-1]])\n",
        "\n",
        "for q1 in np.linspace(2e-10,2e-1, 3):\n",
        "    for q2 in np.linspace(2e-10,2e-1, 3):\n",
        "        Q = np.array([[q1, 0], [0, q2]])\n",
        "        x = extended_kalman(z, m0, gamma0, h, H)\n",
        "        y_hat = np.array([ a*np.sin(2*np.pi*nu0*k*Te + phi) for k, (a, phi) in enumerate(x)])\n",
        "        nb_valeurs = 300\n",
        "\n",
        "        fig = plt.figure(figsize=(25,7))\n",
        "        plt.plot(t[:nb_valeurs], y[:nb_valeurs], 'r', alpha=0.5)\n",
        "        plt.plot(t[:nb_valeurs], y_hat[:nb_valeurs], 'g')\n",
        "        plt.title(f'q1 = {q1}, q2 = {q2}')\n",
        "        plt.xlabel('Temps (s)')\n",
        "        plt.legend([\"Signal réel\", \"Signal estimé\"])\n",
        "        plt.grid()\n",
        "        plt.show()"
      ]
    },
    {
      "cell_type": "markdown",
      "metadata": {},
      "source": [
        "### Commentaire\n",
        "\n",
        "On observe que les résultats sont très variables en fonction de la valeur de Q : pour certaines valeurs, l'estimation est correcte tandis que pour d'autres elle est complètement aberrante. Cela s'explique par le fait que Q représente la confiance que l'on a dans notre modèle : s'il est mal choisi, le modèle est mal représenté et on obtient une estimation qui est sujette à de grandes variations (presque aléatoire par moment)."
      ]
    }
  ],
  "metadata": {
    "interpreter": {
      "hash": "9963137a101e18cad171261b7fa1fb03f34a5ba10ba22de7f6ebf9ccd0228ae6"
    },
    "kernelspec": {
      "display_name": "Python 3.8.12 64-bit ('python-all': conda)",
      "language": "python",
      "name": "python3"
    },
    "language_info": {
      "codemirror_mode": {
        "name": "ipython",
        "version": 3
      },
      "file_extension": ".py",
      "mimetype": "text/x-python",
      "name": "python",
      "nbconvert_exporter": "python",
      "pygments_lexer": "ipython3",
      "version": "3.8.12"
    }
  },
  "nbformat": 4,
  "nbformat_minor": 0
}
