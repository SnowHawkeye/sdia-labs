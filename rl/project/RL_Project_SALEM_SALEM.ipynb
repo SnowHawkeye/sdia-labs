{
 "cells": [
  {
   "cell_type": "markdown",
   "metadata": {},
   "source": [
    "# Reinforcement Learning Project\n",
    "## Article: *Bridging the gap between regret minimization and best arm identification, with application to A/B tests*\n",
    "### Students: Hadrien & Emilie SALEM\n",
    "\n",
    "In this notebook, we will attempt to implement some of the algorithms presented in the article, and reproduce some of the experiments.\n"
   ]
  },
  {
   "cell_type": "markdown",
   "metadata": {},
   "source": [
    "## Framework and setup\n",
    "\n",
    "In this part we import the relevant functions, and present the classes we developed for the bandit model."
   ]
  },
  {
   "cell_type": "code",
   "execution_count": 1,
   "metadata": {},
   "outputs": [],
   "source": [
    "import numpy as np\n",
    "from framework import *"
   ]
  },
  {
   "cell_type": "markdown",
   "metadata": {},
   "source": [
    "### Environment\n",
    "#### Pulling arms\n",
    "\n",
    "The `Arm` class is just a convenience to draw samples from a certain distribution. Its usage is shown thereafter."
   ]
  },
  {
   "cell_type": "code",
   "execution_count": 2,
   "metadata": {},
   "outputs": [
    {
     "name": "stdout",
     "output_type": "stream",
     "text": [
      "Empirical mean = -0.004391464479489824 (theoretical = 0)\n",
      "Empirical std = 1.0048306258279196 (theoretical = 1)\n"
     ]
    }
   ],
   "source": [
    "mean = 0\n",
    "std = 1\n",
    "\n",
    "test_arm = Arm(mean, std, gaussian_sampling)\n",
    "results = test_arm.pull(times=10000)\n",
    "print(f\"Empirical mean = {results.mean()} (theoretical = {mean})\")    \n",
    "print(f\"Empirical std = {results.std()} (theoretical = {std})\")    "
   ]
  },
  {
   "cell_type": "markdown",
   "metadata": {},
   "source": [
    "#### Creating an environment\n",
    "\n",
    "An `Environment` is an object defined by a list of arms. It lets a user pull an arm and exposes the history of observed rewards."
   ]
  },
  {
   "cell_type": "code",
   "execution_count": 3,
   "metadata": {},
   "outputs": [],
   "source": [
    "# Create an environement\n",
    "test_arm_bis = Arm(mean, std, gaussian_sampling)\n",
    "test_env = Environment([test_arm, test_arm_bis])"
   ]
  },
  {
   "cell_type": "code",
   "execution_count": 4,
   "metadata": {},
   "outputs": [
    {
     "data": {
      "text/plain": [
       "-0.8314253716997045"
      ]
     },
     "execution_count": 4,
     "metadata": {},
     "output_type": "execute_result"
    }
   ],
   "source": [
    "# Pull an arm\n",
    "test_env.pull_arm(1)"
   ]
  },
  {
   "cell_type": "code",
   "execution_count": 5,
   "metadata": {},
   "outputs": [
    {
     "data": {
      "text/plain": [
       "[[], [-0.8314253716997045]]"
      ]
     },
     "execution_count": 5,
     "metadata": {},
     "output_type": "execute_result"
    }
   ],
   "source": [
    "# Display the reward history\n",
    "test_env.reward_history"
   ]
  },
  {
   "cell_type": "code",
   "execution_count": 6,
   "metadata": {},
   "outputs": [
    {
     "data": {
      "text/plain": [
       "[[], []]"
      ]
     },
     "execution_count": 6,
     "metadata": {},
     "output_type": "execute_result"
    }
   ],
   "source": [
    "# Reset the reward history\n",
    "test_env.reset_history()\n",
    "test_env.reward_history"
   ]
  },
  {
   "cell_type": "markdown",
   "metadata": {},
   "source": [
    "### Test with an Explore-Then-Commit (ETC) agent\n",
    "\n",
    "We implement an ETC agent such as described in the article (*cf*. page 2). We then compare the theoretical regret to the empirical regret."
   ]
  },
  {
   "cell_type": "code",
   "execution_count": 7,
   "metadata": {},
   "outputs": [],
   "source": [
    "# Parameters\n",
    "mean1 = 0\n",
    "mean2 = 5\n",
    "std = 1\n",
    "\n",
    "n_steps = 100\n",
    "confidence = 0.02\n",
    "\n",
    "# Create an environment with 2 arms\n",
    "arm1 = Arm(mean1, std, gaussian_sampling)\n",
    "arm2 = Arm(mean2, std, gaussian_sampling)\n",
    "env = Environment([arm1, arm2])\n",
    "\n",
    "# Initialize the agent\n",
    "agent = ETC_Agent()"
   ]
  },
  {
   "cell_type": "markdown",
   "metadata": {},
   "source": [
    "We compute the regret for a large number of experiments in order to increase the precision of empirical results."
   ]
  },
  {
   "cell_type": "code",
   "execution_count": 8,
   "metadata": {},
   "outputs": [
    {
     "name": "stdout",
     "output_type": "stream",
     "text": [
      "Average regret at time of decision: 4.902281818652251, Average decision time: 2.088.\n",
      "Theoretical regret bound: 6.259236808685034\n"
     ]
    }
   ],
   "source": [
    "# Initialize the experiment\n",
    "n_experiments = 1000\n",
    "regrets = []\n",
    "decision_times = []\n",
    "\n",
    "for _  in range(n_experiments):\n",
    "    results = agent.play(n_steps, confidence, env)\n",
    "    regrets.append(results.regret)\n",
    "    decision_times.append(results.decision_time)\n",
    "    \n",
    "theoretical_regret = (8*env.std**2)/(mean2-mean1)*np.log(1/confidence)\n",
    "print(f\"Average regret at time of decision: {np.mean(regrets)}, Average decision time: {np.mean(decision_times)}.\")\n",
    "print(f\"Theoretical regret bound: {theoretical_regret}\")"
   ]
  },
  {
   "cell_type": "markdown",
   "metadata": {},
   "source": [
    "According to the article, the regret at the time of decision is bound by a number slightly larger than\n",
    "$\\frac{8\\sigma^2}{\\Delta}\\log(1/\\delta)$\n",
    ", which seems to be respected in the experiment above."
   ]
  },
  {
   "cell_type": "markdown",
   "metadata": {},
   "source": [
    "## The UCB $_{\\alpha}$ algorithm"
   ]
  },
  {
   "cell_type": "markdown",
   "metadata": {},
   "source": [
    "In this section, we implement and experiment with the $UCB_{\\alpha}$ algorithm proposed in the article."
   ]
  },
  {
   "cell_type": "markdown",
   "metadata": {},
   "source": []
  }
 ],
 "metadata": {
  "interpreter": {
   "hash": "34ff3397c474938b265d2f4b45024e5465249fab18e07736c9a068b37b408800"
  },
  "kernelspec": {
   "display_name": "Python 3.8.12 64-bit ('python-all': conda)",
   "language": "python",
   "name": "python3"
  },
  "language_info": {
   "codemirror_mode": {
    "name": "ipython",
    "version": 3
   },
   "file_extension": ".py",
   "mimetype": "text/x-python",
   "name": "python",
   "nbconvert_exporter": "python",
   "pygments_lexer": "ipython3",
   "version": "3.8.12"
  },
  "orig_nbformat": 4
 },
 "nbformat": 4,
 "nbformat_minor": 2
}
