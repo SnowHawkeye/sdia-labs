{
 "cells": [
  {
   "cell_type": "markdown",
   "metadata": {},
   "source": [
    "# Reinforcement Learning Project\n",
    "## Article: *Bridging the gap between regret minimization and best arm identification, with application to A/B tests*\n",
    "### Students: Hadrien & Emilie SALEM\n",
    "\n",
    "In this notebook, we will attempt to implement some of the algorithms presented in the article, and reproduce some of the experiments.\n"
   ]
  },
  {
   "cell_type": "markdown",
   "metadata": {},
   "source": [
    "## Part 1: Framework and setup\n",
    "\n",
    "In this part we import the relevant functions, and present the classes we developed for the bandit model."
   ]
  },
  {
   "cell_type": "code",
   "execution_count": 1,
   "metadata": {},
   "outputs": [],
   "source": [
    "import numpy as np\n",
    "from framework import *"
   ]
  },
  {
   "cell_type": "markdown",
   "metadata": {},
   "source": [
    "### Unit testing\n",
    "#### Pulling arms"
   ]
  },
  {
   "cell_type": "code",
   "execution_count": 2,
   "metadata": {},
   "outputs": [
    {
     "name": "stdout",
     "output_type": "stream",
     "text": [
      "Empirical mean = -0.005589927474713255 (theoretical = 0)\n",
      "Empirical std = 1.0123986293150093 (theoretical = 1)\n"
     ]
    }
   ],
   "source": [
    "mean = 0\n",
    "std = 1\n",
    "\n",
    "test_arm = Arm(mean, std, gaussian_sampling)\n",
    "results = test_arm.pull(times=10000)\n",
    "print(f\"Empirical mean = {results.mean()} (theoretical = {mean})\")    \n",
    "print(f\"Empirical std = {results.std()} (theoretical = {std})\")    "
   ]
  },
  {
   "cell_type": "markdown",
   "metadata": {},
   "source": [
    "#### Creating an environment"
   ]
  },
  {
   "cell_type": "code",
   "execution_count": 3,
   "metadata": {},
   "outputs": [],
   "source": [
    "test_arm_bis = Arm(mean, std, gaussian_sampling)\n",
    "test_env = Environment([test_arm, test_arm_bis])"
   ]
  },
  {
   "cell_type": "code",
   "execution_count": 4,
   "metadata": {},
   "outputs": [
    {
     "data": {
      "text/plain": [
       "0.609236320235054"
      ]
     },
     "execution_count": 4,
     "metadata": {},
     "output_type": "execute_result"
    }
   ],
   "source": [
    "test_env.pull_arm(1)"
   ]
  },
  {
   "cell_type": "code",
   "execution_count": 5,
   "metadata": {},
   "outputs": [
    {
     "data": {
      "text/plain": [
       "[1]"
      ]
     },
     "execution_count": 5,
     "metadata": {},
     "output_type": "execute_result"
    }
   ],
   "source": [
    "test_env.reward_history\n",
    "test_env.best_arm_history"
   ]
  },
  {
   "cell_type": "code",
   "execution_count": 6,
   "metadata": {},
   "outputs": [
    {
     "data": {
      "text/plain": [
       "[[], []]"
      ]
     },
     "execution_count": 6,
     "metadata": {},
     "output_type": "execute_result"
    }
   ],
   "source": [
    "test_env.reset_history()\n",
    "test_env.reward_history"
   ]
  },
  {
   "cell_type": "markdown",
   "metadata": {},
   "source": [
    "#### Test with an Explore-Then-Commit (ETC) agent"
   ]
  },
  {
   "cell_type": "code",
   "execution_count": 12,
   "metadata": {},
   "outputs": [],
   "source": [
    "mean1 = 0\n",
    "mean2 = 1\n",
    "std = 1\n",
    "\n",
    "n_steps = 1000\n",
    "confidence = 0.01\n",
    "\n",
    "arm1 = Arm(mean1, std, gaussian_sampling)\n",
    "arm2 = Arm(mean2, std, gaussian_sampling)\n",
    "env = Environment([arm1, arm2])\n",
    "\n",
    "agent = ETC_Agent()\n",
    "chosen_arms, rewards_obtained = agent.play(n_steps, confidence, env)"
   ]
  },
  {
   "cell_type": "code",
   "execution_count": null,
   "metadata": {},
   "outputs": [],
   "source": []
  }
 ],
 "metadata": {
  "interpreter": {
   "hash": "34ff3397c474938b265d2f4b45024e5465249fab18e07736c9a068b37b408800"
  },
  "kernelspec": {
   "display_name": "Python 3.8.12 64-bit ('python-all': conda)",
   "language": "python",
   "name": "python3"
  },
  "language_info": {
   "codemirror_mode": {
    "name": "ipython",
    "version": 3
   },
   "file_extension": ".py",
   "mimetype": "text/x-python",
   "name": "python",
   "nbconvert_exporter": "python",
   "pygments_lexer": "ipython3",
   "version": "3.8.12"
  },
  "orig_nbformat": 4
 },
 "nbformat": 4,
 "nbformat_minor": 2
}
