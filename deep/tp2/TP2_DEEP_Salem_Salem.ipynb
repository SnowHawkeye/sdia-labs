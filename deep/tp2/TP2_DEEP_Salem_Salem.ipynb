{
  "cells":[
    {
      "cell_type":"markdown",
      "source":[
        "# Deep learning - Practical n°2"
      ],
      "attachments":{
        
      },
      "metadata":{
        
      }
    },
    {
      "cell_type":"markdown",
      "source":[
        "## Student 1 : Emilie SALEM\n",
        "## Student 2 : Hadrien SALEM "
      ],
      "attachments":{
        
      },
      "metadata":{
        
      }
    },
    {
      "cell_type":"markdown",
      "source":[
        "# Preliminaries"
      ],
      "attachments":{
        
      },
      "metadata":{
        
      }
    },
    {
      "cell_type":"code",
      "source":[
        "import numpy as np\n",
        "from sklearn.datasets import make_circles\n",
        "import matplotlib.pyplot as plt\n",
        "import copy"
      ],
      "execution_count":580,
      "outputs":[
        
      ],
      "metadata":{
        
      }
    },
    {
      "cell_type":"code",
      "source":[
        "# Generation and display of the dataset\n",
        "\n",
        "X,y = make_circles(n_samples = 300, noise=0.2, factor=0.1)\n",
        "n,d = X.shape\n",
        "plt.figure(1,figsize=[6,6])\n",
        "plt.plot(X[:,0][np.where(y==1)],X[:,1][np.where(y==1)],\".c\")\n",
        "plt.plot(X[:,0][np.where(y==0)],X[:,1][np.where(y==0)],\".m\")"
      ],
      "execution_count":581,
      "outputs":[
        {
          "data":{
            "text\/plain":[
              "[<matplotlib.lines.Line2D at 0x7fb57dd6a370>]"
            ],
            "image\/png":"[encoded data removed]"
          },
          "metadata":{
            "image\/png":{
              
            }
          },
          "output_type":"display_data"
        }
      ],
      "metadata":{
        
      }
    },
    {
      "cell_type":"code",
      "source":[
        "# Utility functions\n",
        "\n",
        "def sigmoid(x):\n",
        "    res = 1 \/ (1 + np.exp(-x))\n",
        "    return res\n",
        "\n",
        "def onehot(y,i):\n",
        "    \"\"\"Creates a one-hot encoding of the i element of y\"\"\"\n",
        "    return 1-np.array(list(bin(y[i]+1)[2:].zfill(2))).astype(int)"
      ],
      "execution_count":582,
      "outputs":[
        
      ],
      "metadata":{
        
      }
    },
    {
      "cell_type":"markdown",
      "source":[
        "# Exercise 1: Network creation"
      ],
      "attachments":{
        
      },
      "metadata":{
        
      }
    },
    {
      "cell_type":"code",
      "source":[
        "# Definition of an input unit\n",
        "class InputUnit:\n",
        "\n",
        "    # Constructor\n",
        "    def __init__(self,data):\n",
        "        self.data = data # one column of matrix X\n",
        "        self.n = data.shape[0] # dataset size\n",
        "        self.k = 0 # layer number\n",
        "        self.z = 0 # unit output\n",
        "\n",
        "    def __str__(self):\n",
        "        return f\"Input unit in layer {self.k}, containing {self.n} examples.\"\n",
        "\n",
        "    def plug(self, unit):\n",
        "        unit.preceding.append(self)\n",
        "\n",
        "    def forward(self,i):\n",
        "        self.z = self.data[i]\n",
        "        return self.z"
      ],
      "execution_count":583,
      "outputs":[
        
      ],
      "metadata":{
        
      }
    },
    {
      "cell_type":"code",
      "source":[
        "# Creation of 2 input units, one for each column of X\n",
        "input_unit_1 = InputUnit(X[:,0])\n",
        "input_unit_2 = InputUnit(X[:,1])"
      ],
      "execution_count":584,
      "outputs":[
        
      ],
      "metadata":{
        
      }
    },
    {
      "cell_type":"code",
      "source":[
        "# Definition of a neural unit\n",
        "class NeuralUnit:\n",
        "    \n",
        "    # Constructor\n",
        "    def __init__(self,k,u):\n",
        "        self.u = u # unit number\n",
        "        self.preceding = [] # list of preceding neurons\n",
        "        # self.npr = 0 # length of list preceding\n",
        "        self.following = [] # list of following neurons\n",
        "        # self.nfo = 0 # length of list following\n",
        "        self.k = k # layer number\n",
        "        self.w = 0 # unit weights\n",
        "        self.b = 0 # unit intercept\n",
        "        self.z = 0 # unit output\n",
        "        self.delta = np.zeros(np.shape(self.w))\n",
        "        self.w_grad = np.zeros(np.shape(self.w))\n",
        "        self.b_grad = 0\n",
        "\n",
        "    def __str__(self):\n",
        "        return f\"Neural unit #{self.u} in layer {self.k} with {self.npr} preceding element(s) and {self.nfo} following element(s).\"\n",
        "\n",
        "    @property # custom getter for length of list preceding\n",
        "    def npr(self):\n",
        "        return len(self.preceding)\n",
        "\n",
        "    @property # custom getter for length of list following\n",
        "    def nfo(self):\n",
        "        return len(self.following)\n",
        "\n",
        "    def reset_params(self):\n",
        "        self.w = np.random.randn(self.npr)\n",
        "        self.b = np.random.randn()\n",
        "\n",
        "    def plug(self, unit):\n",
        "        unit.preceding.append(self)\n",
        "        self.following.append(unit)\n",
        "\n",
        "    def forward(self, i):\n",
        "        z_in = np.zeros(self.npr)\n",
        "        for index, unit in enumerate(self.preceding) :\n",
        "            z_in[index] = unit.forward(i)\n",
        "        self.z = sigmoid(self.w.dot(z_in) + self.b)\n",
        "        return self.z\n",
        "\n",
        "    def backprop(self, i, deltas):\n",
        "        self.delta = np.zeros(np.shape(self.w))\n",
        "        self.w_grad = np.zeros(np.shape(self.w))\n",
        "        delta_u = deltas[self.u]\n",
        "        for v in range(self.npr):\n",
        "            self.delta[v] = (self.z*(1 - self.z)*self.w[v])*delta_u\n",
        "            self.w_grad[v] = self.preceding[v].z*self.z*(1-self.z)*delta_u\n",
        "        self.b_grad = self.z*(1-self.z)*delta_u"
      ],
      "execution_count":585,
      "outputs":[
        
      ],
      "metadata":{
        
      }
    },
    {
      "cell_type":"code",
      "source":[
        
      ],
      "execution_count":585,
      "outputs":[
        
      ],
      "metadata":{
        
      }
    },
    {
      "cell_type":"code",
      "source":[
        "# Creation of the 3 neural units corresponding to this problem\n",
        "\n",
        "# Layer 1\n",
        "neural_unit_11 = NeuralUnit(1, 1)\n",
        "neural_unit_12 = NeuralUnit(1, 2)\n",
        "\n",
        "# Layer 2\n",
        "neural_unit_21 = NeuralUnit(2, 1)"
      ],
      "execution_count":586,
      "outputs":[
        
      ],
      "metadata":{
        
      }
    },
    {
      "cell_type":"code",
      "source":[
        "class Loss:\n",
        "\n",
        "    # Constructor\n",
        "    def __init__(self,y,k):\n",
        "        self.preceding = [] # list of preceding neurons\n",
        "        # self.npr = 0 # length of list preceding\n",
        "        self.y = y # array of class labels of the training data\n",
        "        self.k = k # layer index\n",
        "        self.delta = np.zeros((1,))\n",
        "            \n",
        "    def __str__(self):\n",
        "        return f\"Loss unit in layer {self.k} with {self.npr} preceding element(s).\"\n",
        "\n",
        "    @property # custom getter for length of list preceding\n",
        "    def npr(self):\n",
        "        return len(self.preceding)\n",
        "\n",
        "    def forward(self, i):\n",
        "        z_in = self.preceding[0].forward(i)\n",
        "        if self.y[i] == 0 : return -np.log(1-z_in)\n",
        "        else : return -np.log(z_in)\n",
        "            \n",
        "    def backprop(self, i):\n",
        "        z_in = self.preceding[0].z\n",
        "        if self.y[i] == 0 : self.delta[0] = 1\/(1-z_in)\n",
        "        else : self.delta[0] = -1\/z_in"
      ],
      "execution_count":587,
      "outputs":[
        
      ],
      "metadata":{
        
      }
    },
    {
      "cell_type":"code",
      "source":[
        "# Creation of the loss unit\n",
        "loss_unit = Loss(y, 3)"
      ],
      "execution_count":588,
      "outputs":[
        
      ],
      "metadata":{
        
      }
    },
    {
      "cell_type":"code",
      "source":[
        "class MLP:\n",
        "    # Constructor\n",
        "    def __init__(self,X,y,archi):\n",
        "        self.archi = archi\n",
        "        self.X = X\n",
        "        self.n = X.shape[0]\n",
        "        self.y = y\n",
        "        self.K = len(archi) # number of layers (including the input layer but without the loss layer)\n",
        "\n",
        "        # Creating network\n",
        "        net = []\n",
        "\n",
        "        # Inputs\n",
        "        n_inputs = archi[0]\n",
        "        input_layer = []\n",
        "        for i in range(n_inputs):\n",
        "            input_layer.append(InputUnit(X[:,i]))\n",
        "        net.append(input_layer)\n",
        "            \n",
        "        # Neural units\n",
        "        for k in range(1, self.K) :\n",
        "            layer = []\n",
        "            n_units = archi[k]\n",
        "            for j in range(n_units):\n",
        "                layer.append(NeuralUnit(k,j))\n",
        "            net.append(layer)\n",
        "\n",
        "        # Loss\n",
        "        loss_layer = [Loss(y, self.K)]\n",
        "        net.append(loss_layer)\n",
        "\n",
        "        # Plugging units together and resetting parameters\n",
        "        for k in range(len(net) - 1):\n",
        "            for unit in net[k] :\n",
        "                if isinstance(unit, NeuralUnit) : unit.reset_params()\n",
        "                for next_unit in net[k+1]:\n",
        "                    unit.plug(next_unit)\n",
        "\n",
        "        self.net = net\n",
        "\n",
        "    def forward(self,i):\n",
        "        return self.net[-1][0].forward(i)\n",
        "\n",
        "    def backprop(self, i):\n",
        "        # first iteration: loss layer\n",
        "        self.net[-1][0].backprop(i)\n",
        "        deltas = self.net[-1][0].delta\n",
        "\n",
        "        for k in range(len(self.net)-2, 0, -1):\n",
        "            deltas_new = np.zeros((self.net[k][0].npr,))\n",
        "            for u in range(len(self.net[k])):\n",
        "                self.net[k][u].backprop(i,deltas)\n",
        "                deltas_new += self.net[k][u].delta\n",
        "            deltas = deltas_new\n",
        "\n",
        "    def update(self, eta):\n",
        "        for k in range(1, len(self.net) - 1):\n",
        "            for unit in self.net[k]:\n",
        "                unit.w -= eta * unit.w_grad\n",
        "                unit.b -= eta * unit.b_grad\n",
        "    \n",
        "    def train(self, epochs,eta):\n",
        "        for epoch in range(epochs):\n",
        "            for i in range(self.n):\n",
        "                self.forward(i)\n",
        "                self.backprop(i)\n",
        "                self.update(eta)"
      ],
      "execution_count":589,
      "outputs":[
        
      ],
      "metadata":{
        
      }
    },
    {
      "cell_type":"code",
      "source":[
        "# Instanciation of the network corresponding to our problem\n",
        "archi = [2,2,1]\n",
        "mlp = MLP(X,y,archi)\n",
        "\n",
        "# Check unit connections and parameters initialization\n",
        "for layer in mlp.net :\n",
        "    for unit in layer :\n",
        "        print(unit)"
      ],
      "execution_count":590,
      "outputs":[
        {
          "name":"stdout",
          "text":[
            "Input unit in layer 0, containing 300 examples.\n",
            "Input unit in layer 0, containing 300 examples.\n",
            "Neural unit #0 in layer 1 with 2 preceding element(s) and 1 following element(s).\n",
            "Neural unit #1 in layer 1 with 2 preceding element(s) and 1 following element(s).\n",
            "Neural unit #0 in layer 2 with 2 preceding element(s) and 1 following element(s).\n",
            "Loss unit in layer 3 with 1 preceding element(s).\n"
          ],
          "output_type":"stream"
        }
      ],
      "metadata":{
        
      }
    },
    {
      "cell_type":"markdown",
      "source":[
        "# Exercise 2: Forward pass"
      ],
      "attachments":{
        
      },
      "metadata":{
        
      }
    },
    {
      "cell_type":"markdown",
      "source":[
        "We programmed the `forward(self,i)` functions in all the above classes (different types of units and `MLP`)."
      ],
      "attachments":{
        
      },
      "metadata":{
        
      }
    },
    {
      "cell_type":"code",
      "source":[
        "# Checking that the forward methods are correctly programmed\n",
        "\n",
        "index_0 = 0 # index of an element for which y = 0\n",
        "loss_0 = mlp.forward(index_0)\n",
        "output_neural_0 = mlp.net[2][0].z # output of the last neural unit of the network\n",
        "print(f\"For an example of class 0, the output of the last neural unit is {output_neural_0} and the loss is {loss_0}.\")\n",
        "\n",
        "\n",
        "index_1 = 45 # index of an element for which y = 1\n",
        "loss_1 = mlp.forward(index_1)\n",
        "output_neural_1 = mlp.net[2][0].z\n",
        "print(f\"For an example of class 1, the output of the last neural unit is {output_neural_1} and the loss is {loss_1}.\")"
      ],
      "execution_count":591,
      "outputs":[
        {
          "name":"stdout",
          "text":[
            "For an example of class 0, the output of the last neural unit is 0.6293400144812036 and the loss is 0.9924701176816716.\n",
            "For an example of class 1, the output of the last neural unit is 0.5182646911910189 and the loss is 0.730360467619225.\n"
          ],
          "output_type":"stream"
        }
      ],
      "metadata":{
        
      }
    },
    {
      "cell_type":"markdown",
      "source":[
        "These tests allow us to check that the loss is higher when the prediction of the network is wrong : the forward functions seem to be programmed properly."
      ],
      "attachments":{
        
      },
      "metadata":{
        
      }
    },
    {
      "cell_type":"markdown",
      "source":[
        "# Exercise 3: Backprop"
      ],
      "attachments":{
        
      },
      "metadata":{
        
      }
    },
    {
      "cell_type":"markdown",
      "source":[
        "We added `backprop` methods to the `Loss` and `NeuralUnit` classes."
      ],
      "attachments":{
        
      },
      "metadata":{
        
      }
    },
    {
      "cell_type":"code",
      "source":[
        "# Testing the computed gradients\n",
        "i = 0\n",
        "archi = [d,10,1]\n",
        "mlp = MLP(X,y,archi)\n",
        "mlp.forward(i)\n",
        "mlp.backprop(i)\n",
        "epsi=1e-3\n",
        "mlp2 = copy.deepcopy(mlp)\n",
        "mlp2.net[1][0].w[0] = mlp.net[1][0].w[0] + epsi\n",
        "print(\"numerical derivative is:\",(mlp2.forward(i) - mlp.forward(i))\/epsi)\n",
        "print(\"computed derivative is:\",mlp.net[1][0].w_grad[0])"
      ],
      "execution_count":592,
      "outputs":[
        {
          "name":"stdout",
          "text":[
            "numerical derivative is: -0.002565106453800148\n",
            "computed derivative is: -0.002564749334484727\n"
          ],
          "output_type":"stream"
        }
      ],
      "metadata":{
        
      }
    },
    {
      "cell_type":"markdown",
      "source":[
        "The numerical derivatives are very close to the computed ones: it seems that our implementation is correct."
      ],
      "attachments":{
        
      },
      "metadata":{
        
      }
    },
    {
      "cell_type":"markdown",
      "source":[
        "# Exercise 4 : SGD training of the network"
      ],
      "attachments":{
        
      },
      "metadata":{
        
      }
    },
    {
      "cell_type":"markdown",
      "source":[
        "We implemented an `update` and a `train` method in the `MLP` class."
      ],
      "attachments":{
        
      },
      "metadata":{
        
      }
    },
    {
      "cell_type":"code",
      "source":[
        "# Training the mlp\n",
        "mlp.train(50,0.01)"
      ],
      "execution_count":596,
      "outputs":[
        
      ],
      "metadata":{
        
      }
    }
  ],
  "metadata":{
    
  },
  "nbformat":4,
  "nbformat_minor":0
}